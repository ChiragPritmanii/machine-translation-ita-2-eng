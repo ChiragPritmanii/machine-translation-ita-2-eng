{
  "cells": [
    {
      "cell_type": "markdown",
      "source": [
        "\n",
        "# <font color='white'>**Machine Translation: Italian to English**</font>\n",
        "\n"
      ],
      "metadata": {
        "id": "1LzkoiNfItq3"
      }
    },
    {
      "cell_type": "markdown",
      "metadata": {
        "id": "fwPL0hIlGKoA"
      },
      "source": [
        "# <font color='red'>**Sequence to sequence implementation**</font>"
      ]
    },
    {
      "cell_type": "markdown",
      "metadata": {
        "id": "QyfZo8fmLOec"
      },
      "source": [
        "## 1. Simple Encoder and Decoder"
      ]
    },
    {
      "cell_type": "markdown",
      "metadata": {
        "id": "IvNSZXNkkOkO"
      },
      "source": [
        "1. Implementing a simple Encoder and Decoder architecture  \n",
        "\n",
        "2. We Use BLEU score as metric to evaluate our model. \n",
        "\n",
        "3. We use Tensorboard to plot the Graph, Scores and histograms of gradients. "
      ]
    },
    {
      "cell_type": "markdown",
      "metadata": {
        "id": "1iQr25seduSf"
      },
      "source": [
        "**Refer for an intuituve understanding:**\n",
        "\n",
        "https://medium.com/analytics-vidhya/understand-sequence-to-sequence-models-in-a-more-intuitive-way-1d517d8795bb\n",
        "\n",
        "https://medium.com/deep-learning-with-keras/lstm-understanding-output-types-e93d2fb57c77\n",
        "\n",
        "https://towardsdatascience.com/language-translation-with-rnns-d84d43b40571\n",
        "\n",
        "https://towardsdatascience.com/text-preprocessing-in-natural-language-processing-using-python-6113ff5decd8\n",
        "\n",
        "https://datascience.stackexchange.com/questions/55112/what-are-ht-1-and-ct-1-for-the-first-lstm-cell"
      ]
    },
    {
      "cell_type": "markdown",
      "metadata": {
        "id": "RZYqLWWufmam"
      },
      "source": [
        "Teacher forcing is a strategy for training recurrent neural networks that uses ground truth as input, instead of model output from a prior time step as an input."
      ]
    },
    {
      "cell_type": "code",
      "execution_count": null,
      "metadata": {
        "id": "fU80Ao-AGaob"
      },
      "outputs": [],
      "source": [
        "import pandas as pd\n",
        "import numpy as np\n",
        "import matplotlib.pyplot as plt\n",
        "import seaborn as sns\n",
        "import re\n",
        "from zipfile import ZipFile\n",
        "import unicodedata"
      ]
    },
    {
      "cell_type": "markdown",
      "metadata": {
        "id": "3k_AlAuKJqVA"
      },
      "source": [
        "<font color='blue'>**Load the data**</font>"
      ]
    },
    {
      "cell_type": "code",
      "execution_count": null,
      "metadata": {
        "colab": {
          "base_uri": "https://localhost:8080/"
        },
        "id": "nFhjDvZjkS01",
        "outputId": "4198b259-e47b-49f7-bdff-4de4ab9fad8b"
      },
      "outputs": [
        {
          "output_type": "stream",
          "name": "stdout",
          "text": [
            "Downloading...\n",
            "From: https://drive.google.com/uc?id=1hzEJuisyzefygl-A0pn3K6ToVDBSKnGi\n",
            "To: /content/ita-eng.zip\n",
            "100% 7.78M/7.78M [00:00<00:00, 46.5MB/s]\n"
          ]
        }
      ],
      "source": [
        "!gdown 1hzEJuisyzefygl-A0pn3K6ToVDBSKnGi"
      ]
    },
    {
      "cell_type": "code",
      "execution_count": null,
      "metadata": {
        "colab": {
          "base_uri": "https://localhost:8080/"
        },
        "id": "DbuPP85uD8aM",
        "outputId": "7e41498c-fae5-400b-e5f2-bda626a1cc94"
      },
      "outputs": [
        {
          "output_type": "stream",
          "name": "stdout",
          "text": [
            "['ita.txt', '_about.txt']\n"
          ]
        }
      ],
      "source": [
        "filepath = '/content/ita-eng.zip'\n",
        "\n",
        "contents = ZipFile(filepath).namelist()\n",
        "print(contents)"
      ]
    },
    {
      "cell_type": "code",
      "execution_count": null,
      "metadata": {
        "id": "tWrxAqhPGWwm"
      },
      "outputs": [],
      "source": [
        "with ZipFile(filepath, 'r') as z: \n",
        "    z.extract('ita.txt')\n",
        "\n",
        "with open('/content/ita.txt', 'r') as data:\n",
        "    lines = data.readlines()"
      ]
    },
    {
      "cell_type": "code",
      "execution_count": null,
      "metadata": {
        "colab": {
          "base_uri": "https://localhost:8080/"
        },
        "id": "iViHnxEfG7QR",
        "outputId": "e25e471e-ae5c-400b-f7ef-cd0b16fd4d4d"
      },
      "outputs": [
        {
          "output_type": "stream",
          "name": "stdout",
          "text": [
            "Total translations: 354238\n"
          ]
        }
      ],
      "source": [
        "print(\"Total translations:\", len(lines))"
      ]
    },
    {
      "cell_type": "markdown",
      "metadata": {
        "id": "vmGWTdRmKRph"
      },
      "source": [
        "<font color='blue'>**Preprocess data**</font>"
      ]
    },
    {
      "cell_type": "code",
      "execution_count": null,
      "metadata": {
        "colab": {
          "base_uri": "https://localhost:8080/",
          "height": 224
        },
        "id": "0oZorZyWtsI6",
        "outputId": "a0527a50-3cb0-4ac0-b886-a26fa346308e"
      },
      "outputs": [
        {
          "output_type": "stream",
          "name": "stdout",
          "text": [
            "(354238, 2)\n"
          ]
        },
        {
          "output_type": "execute_result",
          "data": {
            "text/plain": [
              "    eng       ita\n",
              "0   Hi.     Ciao!\n",
              "1   Hi.     Ciao.\n",
              "2  Run!    Corri!\n",
              "3  Run!    Corra!\n",
              "4  Run!  Correte!"
            ],
            "text/html": [
              "\n",
              "  <div id=\"df-24966d4c-c3f8-4920-9f11-69d45044fcfe\">\n",
              "    <div class=\"colab-df-container\">\n",
              "      <div>\n",
              "<style scoped>\n",
              "    .dataframe tbody tr th:only-of-type {\n",
              "        vertical-align: middle;\n",
              "    }\n",
              "\n",
              "    .dataframe tbody tr th {\n",
              "        vertical-align: top;\n",
              "    }\n",
              "\n",
              "    .dataframe thead th {\n",
              "        text-align: right;\n",
              "    }\n",
              "</style>\n",
              "<table border=\"1\" class=\"dataframe\">\n",
              "  <thead>\n",
              "    <tr style=\"text-align: right;\">\n",
              "      <th></th>\n",
              "      <th>eng</th>\n",
              "      <th>ita</th>\n",
              "    </tr>\n",
              "  </thead>\n",
              "  <tbody>\n",
              "    <tr>\n",
              "      <th>0</th>\n",
              "      <td>Hi.</td>\n",
              "      <td>Ciao!</td>\n",
              "    </tr>\n",
              "    <tr>\n",
              "      <th>1</th>\n",
              "      <td>Hi.</td>\n",
              "      <td>Ciao.</td>\n",
              "    </tr>\n",
              "    <tr>\n",
              "      <th>2</th>\n",
              "      <td>Run!</td>\n",
              "      <td>Corri!</td>\n",
              "    </tr>\n",
              "    <tr>\n",
              "      <th>3</th>\n",
              "      <td>Run!</td>\n",
              "      <td>Corra!</td>\n",
              "    </tr>\n",
              "    <tr>\n",
              "      <th>4</th>\n",
              "      <td>Run!</td>\n",
              "      <td>Correte!</td>\n",
              "    </tr>\n",
              "  </tbody>\n",
              "</table>\n",
              "</div>\n",
              "      <button class=\"colab-df-convert\" onclick=\"convertToInteractive('df-24966d4c-c3f8-4920-9f11-69d45044fcfe')\"\n",
              "              title=\"Convert this dataframe to an interactive table.\"\n",
              "              style=\"display:none;\">\n",
              "        \n",
              "  <svg xmlns=\"http://www.w3.org/2000/svg\" height=\"24px\"viewBox=\"0 0 24 24\"\n",
              "       width=\"24px\">\n",
              "    <path d=\"M0 0h24v24H0V0z\" fill=\"none\"/>\n",
              "    <path d=\"M18.56 5.44l.94 2.06.94-2.06 2.06-.94-2.06-.94-.94-2.06-.94 2.06-2.06.94zm-11 1L8.5 8.5l.94-2.06 2.06-.94-2.06-.94L8.5 2.5l-.94 2.06-2.06.94zm10 10l.94 2.06.94-2.06 2.06-.94-2.06-.94-.94-2.06-.94 2.06-2.06.94z\"/><path d=\"M17.41 7.96l-1.37-1.37c-.4-.4-.92-.59-1.43-.59-.52 0-1.04.2-1.43.59L10.3 9.45l-7.72 7.72c-.78.78-.78 2.05 0 2.83L4 21.41c.39.39.9.59 1.41.59.51 0 1.02-.2 1.41-.59l7.78-7.78 2.81-2.81c.8-.78.8-2.07 0-2.86zM5.41 20L4 18.59l7.72-7.72 1.47 1.35L5.41 20z\"/>\n",
              "  </svg>\n",
              "      </button>\n",
              "      \n",
              "  <style>\n",
              "    .colab-df-container {\n",
              "      display:flex;\n",
              "      flex-wrap:wrap;\n",
              "      gap: 12px;\n",
              "    }\n",
              "\n",
              "    .colab-df-convert {\n",
              "      background-color: #E8F0FE;\n",
              "      border: none;\n",
              "      border-radius: 50%;\n",
              "      cursor: pointer;\n",
              "      display: none;\n",
              "      fill: #1967D2;\n",
              "      height: 32px;\n",
              "      padding: 0 0 0 0;\n",
              "      width: 32px;\n",
              "    }\n",
              "\n",
              "    .colab-df-convert:hover {\n",
              "      background-color: #E2EBFA;\n",
              "      box-shadow: 0px 1px 2px rgba(60, 64, 67, 0.3), 0px 1px 3px 1px rgba(60, 64, 67, 0.15);\n",
              "      fill: #174EA6;\n",
              "    }\n",
              "\n",
              "    [theme=dark] .colab-df-convert {\n",
              "      background-color: #3B4455;\n",
              "      fill: #D2E3FC;\n",
              "    }\n",
              "\n",
              "    [theme=dark] .colab-df-convert:hover {\n",
              "      background-color: #434B5C;\n",
              "      box-shadow: 0px 1px 3px 1px rgba(0, 0, 0, 0.15);\n",
              "      filter: drop-shadow(0px 1px 2px rgba(0, 0, 0, 0.3));\n",
              "      fill: #FFFFFF;\n",
              "    }\n",
              "  </style>\n",
              "\n",
              "      <script>\n",
              "        const buttonEl =\n",
              "          document.querySelector('#df-24966d4c-c3f8-4920-9f11-69d45044fcfe button.colab-df-convert');\n",
              "        buttonEl.style.display =\n",
              "          google.colab.kernel.accessAllowed ? 'block' : 'none';\n",
              "\n",
              "        async function convertToInteractive(key) {\n",
              "          const element = document.querySelector('#df-24966d4c-c3f8-4920-9f11-69d45044fcfe');\n",
              "          const dataTable =\n",
              "            await google.colab.kernel.invokeFunction('convertToInteractive',\n",
              "                                                     [key], {});\n",
              "          if (!dataTable) return;\n",
              "\n",
              "          const docLinkHtml = 'Like what you see? Visit the ' +\n",
              "            '<a target=\"_blank\" href=https://colab.research.google.com/notebooks/data_table.ipynb>data table notebook</a>'\n",
              "            + ' to learn more about interactive tables.';\n",
              "          element.innerHTML = '';\n",
              "          dataTable['output_type'] = 'display_data';\n",
              "          await google.colab.output.renderOutput(dataTable, element);\n",
              "          const docLink = document.createElement('div');\n",
              "          docLink.innerHTML = docLinkHtml;\n",
              "          element.appendChild(docLink);\n",
              "        }\n",
              "      </script>\n",
              "    </div>\n",
              "  </div>\n",
              "  "
            ]
          },
          "metadata": {},
          "execution_count": 6
        }
      ],
      "source": [
        "eng_ita_arr = np.array(list(map(lambda x: x.split('\\t')[:-1], lines)))\n",
        "eng_ita_df = pd.DataFrame({'eng':eng_ita_arr[:,0], 'ita':eng_ita_arr[:,1]})\n",
        "print(eng_ita_df.shape)\n",
        "eng_ita_df.head()"
      ]
    },
    {
      "cell_type": "markdown",
      "source": [
        "<font color='blue'>**Preprocess English**</font>"
      ],
      "metadata": {
        "id": "c1t-2TA8o2r_"
      }
    },
    {
      "cell_type": "code",
      "execution_count": null,
      "metadata": {
        "id": "XnDyE0ljbYor"
      },
      "outputs": [],
      "source": [
        "def decontractions(phrase):\n",
        "    \"\"\"decontracted takes text and convert contractions into natural form.\n",
        "     ref: https://stackoverflow.com/questions/19790188/expanding-english-language-contractions-in-python/47091490#47091490\"\"\"\n",
        "    # specific\n",
        "    phrase = re.sub(r\"won\\'t\", \"will not\", phrase)\n",
        "    phrase = re.sub(r\"can\\'t\", \"can not\", phrase)\n",
        "\n",
        "    # general\n",
        "    phrase = re.sub(r\"n\\'t\", \" not\", phrase)\n",
        "    phrase = re.sub(r\"\\'re\", \" are\", phrase)\n",
        "    phrase = re.sub(r\"\\'s\", \" is\", phrase)\n",
        "    phrase = re.sub(r\"\\'d\", \" would\", phrase)\n",
        "    phrase = re.sub(r\"\\'ll\", \" will\", phrase)\n",
        "    phrase = re.sub(r\"\\'t\", \" not\", phrase)\n",
        "    phrase = re.sub(r\"\\'ve\", \" have\", phrase)\n",
        "    phrase = re.sub(r\"\\'m\", \" am\", phrase)\n",
        "\n",
        "    return phrase\n",
        "\n",
        "def preprocess_eng(text):\n",
        "    # convert all the text into lower letters\n",
        "    # use this function to remove the contractions: https://gist.github.com/anandborad/d410a49a493b56dace4f814ab5325bbd\n",
        "    # remove all the special characters: except space ' '\n",
        "    # remove all text present in brackets  \n",
        "    text = text.lower()\n",
        "    text = decontractions(text)\n",
        "    text = re.sub('-', ' ', text)\n",
        "    text = re.sub('\\(.+\\)','', text)\n",
        "    text = re.sub('[^a-z0-9 ]+', '', text) #A-Z\n",
        "    text = text.strip()\n",
        "    text = \" \".join(text.split())\n",
        "    return text"
      ]
    },
    {
      "cell_type": "markdown",
      "source": [
        "<font color='blue'>**Preprocess Italian**</font>"
      ],
      "metadata": {
        "id": "odAdiw6not9w"
      }
    },
    {
      "cell_type": "code",
      "source": [
        "#code snippet from - https://stackoverflow.com/questions/517923/what-is-the-best-way-to-remove-accents-normalize-in-a-python-unicode-string\n",
        "def remove_accents(phrase): \n",
        "    return ''.join(c for c in unicodedata.normalize('NFD', phrase) if unicodedata.category(c) != 'Mn')\n",
        "\n",
        "def preprocess_ita(text):\n",
        "    # convert all the text into lower letters\n",
        "    # remove the words betweent brakets ()\n",
        "    # remove these characters: {'$', ')', '?', '\"', '’', '.',  '°', '!', ';', '/', \"'\", '€', '%', ':', ',', '('}\n",
        "    # replace these spl characters with space: '\\u200b', '\\xa0', '-', '/'\n",
        "    # we have found these characters after observing the data points, feel free to explore more and see if you can do find more\n",
        "    # you are free to do more proprocessing\n",
        "    # note that the model will learn better with better preprocessed data \n",
        "    \n",
        "    text = text.lower()\n",
        "    text = remove_accents(text)\n",
        "    text = re.sub('-', ' ', text)\n",
        "    text = re.sub('\\(.+\\)','', text)\n",
        "    text = re.sub('[^a-z0-9 ]+', '', text) #A-Z\n",
        "    text = text.strip()\n",
        "    text = \" \".join(text.split())\n",
        "    return text"
      ],
      "metadata": {
        "id": "A8ewpOjdotYV"
      },
      "execution_count": null,
      "outputs": []
    },
    {
      "cell_type": "code",
      "execution_count": null,
      "metadata": {
        "colab": {
          "base_uri": "https://localhost:8080/",
          "height": 206
        },
        "id": "doC1vxfGB1oi",
        "outputId": "2d2f2f09-7035-4f2b-fbfa-c44bb3cb42db"
      },
      "outputs": [
        {
          "output_type": "execute_result",
          "data": {
            "text/plain": [
              "   eng      ita\n",
              "0   hi     ciao\n",
              "1   hi     ciao\n",
              "2  run    corri\n",
              "3  run    corra\n",
              "4  run  correte"
            ],
            "text/html": [
              "\n",
              "  <div id=\"df-f4a3c3a8-89f4-4234-8919-05c34c16ccf4\">\n",
              "    <div class=\"colab-df-container\">\n",
              "      <div>\n",
              "<style scoped>\n",
              "    .dataframe tbody tr th:only-of-type {\n",
              "        vertical-align: middle;\n",
              "    }\n",
              "\n",
              "    .dataframe tbody tr th {\n",
              "        vertical-align: top;\n",
              "    }\n",
              "\n",
              "    .dataframe thead th {\n",
              "        text-align: right;\n",
              "    }\n",
              "</style>\n",
              "<table border=\"1\" class=\"dataframe\">\n",
              "  <thead>\n",
              "    <tr style=\"text-align: right;\">\n",
              "      <th></th>\n",
              "      <th>eng</th>\n",
              "      <th>ita</th>\n",
              "    </tr>\n",
              "  </thead>\n",
              "  <tbody>\n",
              "    <tr>\n",
              "      <th>0</th>\n",
              "      <td>hi</td>\n",
              "      <td>ciao</td>\n",
              "    </tr>\n",
              "    <tr>\n",
              "      <th>1</th>\n",
              "      <td>hi</td>\n",
              "      <td>ciao</td>\n",
              "    </tr>\n",
              "    <tr>\n",
              "      <th>2</th>\n",
              "      <td>run</td>\n",
              "      <td>corri</td>\n",
              "    </tr>\n",
              "    <tr>\n",
              "      <th>3</th>\n",
              "      <td>run</td>\n",
              "      <td>corra</td>\n",
              "    </tr>\n",
              "    <tr>\n",
              "      <th>4</th>\n",
              "      <td>run</td>\n",
              "      <td>correte</td>\n",
              "    </tr>\n",
              "  </tbody>\n",
              "</table>\n",
              "</div>\n",
              "      <button class=\"colab-df-convert\" onclick=\"convertToInteractive('df-f4a3c3a8-89f4-4234-8919-05c34c16ccf4')\"\n",
              "              title=\"Convert this dataframe to an interactive table.\"\n",
              "              style=\"display:none;\">\n",
              "        \n",
              "  <svg xmlns=\"http://www.w3.org/2000/svg\" height=\"24px\"viewBox=\"0 0 24 24\"\n",
              "       width=\"24px\">\n",
              "    <path d=\"M0 0h24v24H0V0z\" fill=\"none\"/>\n",
              "    <path d=\"M18.56 5.44l.94 2.06.94-2.06 2.06-.94-2.06-.94-.94-2.06-.94 2.06-2.06.94zm-11 1L8.5 8.5l.94-2.06 2.06-.94-2.06-.94L8.5 2.5l-.94 2.06-2.06.94zm10 10l.94 2.06.94-2.06 2.06-.94-2.06-.94-.94-2.06-.94 2.06-2.06.94z\"/><path d=\"M17.41 7.96l-1.37-1.37c-.4-.4-.92-.59-1.43-.59-.52 0-1.04.2-1.43.59L10.3 9.45l-7.72 7.72c-.78.78-.78 2.05 0 2.83L4 21.41c.39.39.9.59 1.41.59.51 0 1.02-.2 1.41-.59l7.78-7.78 2.81-2.81c.8-.78.8-2.07 0-2.86zM5.41 20L4 18.59l7.72-7.72 1.47 1.35L5.41 20z\"/>\n",
              "  </svg>\n",
              "      </button>\n",
              "      \n",
              "  <style>\n",
              "    .colab-df-container {\n",
              "      display:flex;\n",
              "      flex-wrap:wrap;\n",
              "      gap: 12px;\n",
              "    }\n",
              "\n",
              "    .colab-df-convert {\n",
              "      background-color: #E8F0FE;\n",
              "      border: none;\n",
              "      border-radius: 50%;\n",
              "      cursor: pointer;\n",
              "      display: none;\n",
              "      fill: #1967D2;\n",
              "      height: 32px;\n",
              "      padding: 0 0 0 0;\n",
              "      width: 32px;\n",
              "    }\n",
              "\n",
              "    .colab-df-convert:hover {\n",
              "      background-color: #E2EBFA;\n",
              "      box-shadow: 0px 1px 2px rgba(60, 64, 67, 0.3), 0px 1px 3px 1px rgba(60, 64, 67, 0.15);\n",
              "      fill: #174EA6;\n",
              "    }\n",
              "\n",
              "    [theme=dark] .colab-df-convert {\n",
              "      background-color: #3B4455;\n",
              "      fill: #D2E3FC;\n",
              "    }\n",
              "\n",
              "    [theme=dark] .colab-df-convert:hover {\n",
              "      background-color: #434B5C;\n",
              "      box-shadow: 0px 1px 3px 1px rgba(0, 0, 0, 0.15);\n",
              "      filter: drop-shadow(0px 1px 2px rgba(0, 0, 0, 0.3));\n",
              "      fill: #FFFFFF;\n",
              "    }\n",
              "  </style>\n",
              "\n",
              "      <script>\n",
              "        const buttonEl =\n",
              "          document.querySelector('#df-f4a3c3a8-89f4-4234-8919-05c34c16ccf4 button.colab-df-convert');\n",
              "        buttonEl.style.display =\n",
              "          google.colab.kernel.accessAllowed ? 'block' : 'none';\n",
              "\n",
              "        async function convertToInteractive(key) {\n",
              "          const element = document.querySelector('#df-f4a3c3a8-89f4-4234-8919-05c34c16ccf4');\n",
              "          const dataTable =\n",
              "            await google.colab.kernel.invokeFunction('convertToInteractive',\n",
              "                                                     [key], {});\n",
              "          if (!dataTable) return;\n",
              "\n",
              "          const docLinkHtml = 'Like what you see? Visit the ' +\n",
              "            '<a target=\"_blank\" href=https://colab.research.google.com/notebooks/data_table.ipynb>data table notebook</a>'\n",
              "            + ' to learn more about interactive tables.';\n",
              "          element.innerHTML = '';\n",
              "          dataTable['output_type'] = 'display_data';\n",
              "          await google.colab.output.renderOutput(dataTable, element);\n",
              "          const docLink = document.createElement('div');\n",
              "          docLink.innerHTML = docLinkHtml;\n",
              "          element.appendChild(docLink);\n",
              "        }\n",
              "      </script>\n",
              "    </div>\n",
              "  </div>\n",
              "  "
            ]
          },
          "metadata": {},
          "execution_count": 9
        }
      ],
      "source": [
        "eng_ita_df['eng'] = eng_ita_df['eng'].apply(preprocess_eng)\n",
        "eng_ita_df['ita'] = eng_ita_df['ita'].apply(preprocess_ita)\n",
        "eng_ita_df.head()"
      ]
    },
    {
      "cell_type": "code",
      "execution_count": null,
      "metadata": {
        "id": "IypVGvYKREOL",
        "scrolled": true
      },
      "outputs": [],
      "source": [
        "ita_lengths = eng_ita_df['ita'].str.split().apply(len)\n",
        "eng_lengths = eng_ita_df['eng'].str.split().apply(len)"
      ]
    },
    {
      "cell_type": "markdown",
      "source": [
        "<font color='blue'>**Exploring text lengths**</font>"
      ],
      "metadata": {
        "id": "BH5tJm2WKNC7"
      }
    },
    {
      "cell_type": "code",
      "execution_count": null,
      "metadata": {
        "colab": {
          "base_uri": "https://localhost:8080/",
          "height": 412
        },
        "id": "eW7qusWQDP62",
        "outputId": "d473296f-4060-4fde-bdbc-f2971347d9ca"
      },
      "outputs": [
        {
          "output_type": "stream",
          "name": "stdout",
          "text": [
            "Exploring lengths of italian texts in the next few cells:\n"
          ]
        },
        {
          "output_type": "execute_result",
          "data": {
            "text/plain": [
              "    percentile  length\n",
              "0            0     1.0\n",
              "1           10     3.0\n",
              "2           20     4.0\n",
              "3           30     4.0\n",
              "4           40     5.0\n",
              "5           50     5.0\n",
              "6           60     6.0\n",
              "7           70     6.0\n",
              "8           80     7.0\n",
              "9           90     8.0\n",
              "10         100    92.0"
            ],
            "text/html": [
              "\n",
              "  <div id=\"df-ec31ec6a-3706-464d-a810-6545c3a86b30\">\n",
              "    <div class=\"colab-df-container\">\n",
              "      <div>\n",
              "<style scoped>\n",
              "    .dataframe tbody tr th:only-of-type {\n",
              "        vertical-align: middle;\n",
              "    }\n",
              "\n",
              "    .dataframe tbody tr th {\n",
              "        vertical-align: top;\n",
              "    }\n",
              "\n",
              "    .dataframe thead th {\n",
              "        text-align: right;\n",
              "    }\n",
              "</style>\n",
              "<table border=\"1\" class=\"dataframe\">\n",
              "  <thead>\n",
              "    <tr style=\"text-align: right;\">\n",
              "      <th></th>\n",
              "      <th>percentile</th>\n",
              "      <th>length</th>\n",
              "    </tr>\n",
              "  </thead>\n",
              "  <tbody>\n",
              "    <tr>\n",
              "      <th>0</th>\n",
              "      <td>0</td>\n",
              "      <td>1.0</td>\n",
              "    </tr>\n",
              "    <tr>\n",
              "      <th>1</th>\n",
              "      <td>10</td>\n",
              "      <td>3.0</td>\n",
              "    </tr>\n",
              "    <tr>\n",
              "      <th>2</th>\n",
              "      <td>20</td>\n",
              "      <td>4.0</td>\n",
              "    </tr>\n",
              "    <tr>\n",
              "      <th>3</th>\n",
              "      <td>30</td>\n",
              "      <td>4.0</td>\n",
              "    </tr>\n",
              "    <tr>\n",
              "      <th>4</th>\n",
              "      <td>40</td>\n",
              "      <td>5.0</td>\n",
              "    </tr>\n",
              "    <tr>\n",
              "      <th>5</th>\n",
              "      <td>50</td>\n",
              "      <td>5.0</td>\n",
              "    </tr>\n",
              "    <tr>\n",
              "      <th>6</th>\n",
              "      <td>60</td>\n",
              "      <td>6.0</td>\n",
              "    </tr>\n",
              "    <tr>\n",
              "      <th>7</th>\n",
              "      <td>70</td>\n",
              "      <td>6.0</td>\n",
              "    </tr>\n",
              "    <tr>\n",
              "      <th>8</th>\n",
              "      <td>80</td>\n",
              "      <td>7.0</td>\n",
              "    </tr>\n",
              "    <tr>\n",
              "      <th>9</th>\n",
              "      <td>90</td>\n",
              "      <td>8.0</td>\n",
              "    </tr>\n",
              "    <tr>\n",
              "      <th>10</th>\n",
              "      <td>100</td>\n",
              "      <td>92.0</td>\n",
              "    </tr>\n",
              "  </tbody>\n",
              "</table>\n",
              "</div>\n",
              "      <button class=\"colab-df-convert\" onclick=\"convertToInteractive('df-ec31ec6a-3706-464d-a810-6545c3a86b30')\"\n",
              "              title=\"Convert this dataframe to an interactive table.\"\n",
              "              style=\"display:none;\">\n",
              "        \n",
              "  <svg xmlns=\"http://www.w3.org/2000/svg\" height=\"24px\"viewBox=\"0 0 24 24\"\n",
              "       width=\"24px\">\n",
              "    <path d=\"M0 0h24v24H0V0z\" fill=\"none\"/>\n",
              "    <path d=\"M18.56 5.44l.94 2.06.94-2.06 2.06-.94-2.06-.94-.94-2.06-.94 2.06-2.06.94zm-11 1L8.5 8.5l.94-2.06 2.06-.94-2.06-.94L8.5 2.5l-.94 2.06-2.06.94zm10 10l.94 2.06.94-2.06 2.06-.94-2.06-.94-.94-2.06-.94 2.06-2.06.94z\"/><path d=\"M17.41 7.96l-1.37-1.37c-.4-.4-.92-.59-1.43-.59-.52 0-1.04.2-1.43.59L10.3 9.45l-7.72 7.72c-.78.78-.78 2.05 0 2.83L4 21.41c.39.39.9.59 1.41.59.51 0 1.02-.2 1.41-.59l7.78-7.78 2.81-2.81c.8-.78.8-2.07 0-2.86zM5.41 20L4 18.59l7.72-7.72 1.47 1.35L5.41 20z\"/>\n",
              "  </svg>\n",
              "      </button>\n",
              "      \n",
              "  <style>\n",
              "    .colab-df-container {\n",
              "      display:flex;\n",
              "      flex-wrap:wrap;\n",
              "      gap: 12px;\n",
              "    }\n",
              "\n",
              "    .colab-df-convert {\n",
              "      background-color: #E8F0FE;\n",
              "      border: none;\n",
              "      border-radius: 50%;\n",
              "      cursor: pointer;\n",
              "      display: none;\n",
              "      fill: #1967D2;\n",
              "      height: 32px;\n",
              "      padding: 0 0 0 0;\n",
              "      width: 32px;\n",
              "    }\n",
              "\n",
              "    .colab-df-convert:hover {\n",
              "      background-color: #E2EBFA;\n",
              "      box-shadow: 0px 1px 2px rgba(60, 64, 67, 0.3), 0px 1px 3px 1px rgba(60, 64, 67, 0.15);\n",
              "      fill: #174EA6;\n",
              "    }\n",
              "\n",
              "    [theme=dark] .colab-df-convert {\n",
              "      background-color: #3B4455;\n",
              "      fill: #D2E3FC;\n",
              "    }\n",
              "\n",
              "    [theme=dark] .colab-df-convert:hover {\n",
              "      background-color: #434B5C;\n",
              "      box-shadow: 0px 1px 3px 1px rgba(0, 0, 0, 0.15);\n",
              "      filter: drop-shadow(0px 1px 2px rgba(0, 0, 0, 0.3));\n",
              "      fill: #FFFFFF;\n",
              "    }\n",
              "  </style>\n",
              "\n",
              "      <script>\n",
              "        const buttonEl =\n",
              "          document.querySelector('#df-ec31ec6a-3706-464d-a810-6545c3a86b30 button.colab-df-convert');\n",
              "        buttonEl.style.display =\n",
              "          google.colab.kernel.accessAllowed ? 'block' : 'none';\n",
              "\n",
              "        async function convertToInteractive(key) {\n",
              "          const element = document.querySelector('#df-ec31ec6a-3706-464d-a810-6545c3a86b30');\n",
              "          const dataTable =\n",
              "            await google.colab.kernel.invokeFunction('convertToInteractive',\n",
              "                                                     [key], {});\n",
              "          if (!dataTable) return;\n",
              "\n",
              "          const docLinkHtml = 'Like what you see? Visit the ' +\n",
              "            '<a target=\"_blank\" href=https://colab.research.google.com/notebooks/data_table.ipynb>data table notebook</a>'\n",
              "            + ' to learn more about interactive tables.';\n",
              "          element.innerHTML = '';\n",
              "          dataTable['output_type'] = 'display_data';\n",
              "          await google.colab.output.renderOutput(dataTable, element);\n",
              "          const docLink = document.createElement('div');\n",
              "          docLink.innerHTML = docLinkHtml;\n",
              "          element.appendChild(docLink);\n",
              "        }\n",
              "      </script>\n",
              "    </div>\n",
              "  </div>\n",
              "  "
            ]
          },
          "metadata": {},
          "execution_count": 11
        }
      ],
      "source": [
        "print('Exploring lengths of italian texts in the next few cells:')\n",
        "tmp = pd.DataFrame({'percentile':np.arange(0,110,10), 'length':np.percentile(ita_lengths, np.arange(0,110,10))})\n",
        "tmp"
      ]
    },
    {
      "cell_type": "code",
      "execution_count": null,
      "metadata": {
        "colab": {
          "base_uri": "https://localhost:8080/",
          "height": 394
        },
        "id": "U7CuXZcYD6_A",
        "outputId": "e46c9297-3cfc-46ed-8630-ea34f20149db"
      },
      "outputs": [
        {
          "output_type": "execute_result",
          "data": {
            "text/plain": [
              "    percentile  length\n",
              "0           90     8.0\n",
              "1           91     8.0\n",
              "2           92     8.0\n",
              "3           93     9.0\n",
              "4           94     9.0\n",
              "5           95     9.0\n",
              "6           96     9.0\n",
              "7           97    10.0\n",
              "8           98    11.0\n",
              "9           99    12.0\n",
              "10         100    92.0"
            ],
            "text/html": [
              "\n",
              "  <div id=\"df-458566b2-3c23-4b51-b38b-7018e74a3ed2\">\n",
              "    <div class=\"colab-df-container\">\n",
              "      <div>\n",
              "<style scoped>\n",
              "    .dataframe tbody tr th:only-of-type {\n",
              "        vertical-align: middle;\n",
              "    }\n",
              "\n",
              "    .dataframe tbody tr th {\n",
              "        vertical-align: top;\n",
              "    }\n",
              "\n",
              "    .dataframe thead th {\n",
              "        text-align: right;\n",
              "    }\n",
              "</style>\n",
              "<table border=\"1\" class=\"dataframe\">\n",
              "  <thead>\n",
              "    <tr style=\"text-align: right;\">\n",
              "      <th></th>\n",
              "      <th>percentile</th>\n",
              "      <th>length</th>\n",
              "    </tr>\n",
              "  </thead>\n",
              "  <tbody>\n",
              "    <tr>\n",
              "      <th>0</th>\n",
              "      <td>90</td>\n",
              "      <td>8.0</td>\n",
              "    </tr>\n",
              "    <tr>\n",
              "      <th>1</th>\n",
              "      <td>91</td>\n",
              "      <td>8.0</td>\n",
              "    </tr>\n",
              "    <tr>\n",
              "      <th>2</th>\n",
              "      <td>92</td>\n",
              "      <td>8.0</td>\n",
              "    </tr>\n",
              "    <tr>\n",
              "      <th>3</th>\n",
              "      <td>93</td>\n",
              "      <td>9.0</td>\n",
              "    </tr>\n",
              "    <tr>\n",
              "      <th>4</th>\n",
              "      <td>94</td>\n",
              "      <td>9.0</td>\n",
              "    </tr>\n",
              "    <tr>\n",
              "      <th>5</th>\n",
              "      <td>95</td>\n",
              "      <td>9.0</td>\n",
              "    </tr>\n",
              "    <tr>\n",
              "      <th>6</th>\n",
              "      <td>96</td>\n",
              "      <td>9.0</td>\n",
              "    </tr>\n",
              "    <tr>\n",
              "      <th>7</th>\n",
              "      <td>97</td>\n",
              "      <td>10.0</td>\n",
              "    </tr>\n",
              "    <tr>\n",
              "      <th>8</th>\n",
              "      <td>98</td>\n",
              "      <td>11.0</td>\n",
              "    </tr>\n",
              "    <tr>\n",
              "      <th>9</th>\n",
              "      <td>99</td>\n",
              "      <td>12.0</td>\n",
              "    </tr>\n",
              "    <tr>\n",
              "      <th>10</th>\n",
              "      <td>100</td>\n",
              "      <td>92.0</td>\n",
              "    </tr>\n",
              "  </tbody>\n",
              "</table>\n",
              "</div>\n",
              "      <button class=\"colab-df-convert\" onclick=\"convertToInteractive('df-458566b2-3c23-4b51-b38b-7018e74a3ed2')\"\n",
              "              title=\"Convert this dataframe to an interactive table.\"\n",
              "              style=\"display:none;\">\n",
              "        \n",
              "  <svg xmlns=\"http://www.w3.org/2000/svg\" height=\"24px\"viewBox=\"0 0 24 24\"\n",
              "       width=\"24px\">\n",
              "    <path d=\"M0 0h24v24H0V0z\" fill=\"none\"/>\n",
              "    <path d=\"M18.56 5.44l.94 2.06.94-2.06 2.06-.94-2.06-.94-.94-2.06-.94 2.06-2.06.94zm-11 1L8.5 8.5l.94-2.06 2.06-.94-2.06-.94L8.5 2.5l-.94 2.06-2.06.94zm10 10l.94 2.06.94-2.06 2.06-.94-2.06-.94-.94-2.06-.94 2.06-2.06.94z\"/><path d=\"M17.41 7.96l-1.37-1.37c-.4-.4-.92-.59-1.43-.59-.52 0-1.04.2-1.43.59L10.3 9.45l-7.72 7.72c-.78.78-.78 2.05 0 2.83L4 21.41c.39.39.9.59 1.41.59.51 0 1.02-.2 1.41-.59l7.78-7.78 2.81-2.81c.8-.78.8-2.07 0-2.86zM5.41 20L4 18.59l7.72-7.72 1.47 1.35L5.41 20z\"/>\n",
              "  </svg>\n",
              "      </button>\n",
              "      \n",
              "  <style>\n",
              "    .colab-df-container {\n",
              "      display:flex;\n",
              "      flex-wrap:wrap;\n",
              "      gap: 12px;\n",
              "    }\n",
              "\n",
              "    .colab-df-convert {\n",
              "      background-color: #E8F0FE;\n",
              "      border: none;\n",
              "      border-radius: 50%;\n",
              "      cursor: pointer;\n",
              "      display: none;\n",
              "      fill: #1967D2;\n",
              "      height: 32px;\n",
              "      padding: 0 0 0 0;\n",
              "      width: 32px;\n",
              "    }\n",
              "\n",
              "    .colab-df-convert:hover {\n",
              "      background-color: #E2EBFA;\n",
              "      box-shadow: 0px 1px 2px rgba(60, 64, 67, 0.3), 0px 1px 3px 1px rgba(60, 64, 67, 0.15);\n",
              "      fill: #174EA6;\n",
              "    }\n",
              "\n",
              "    [theme=dark] .colab-df-convert {\n",
              "      background-color: #3B4455;\n",
              "      fill: #D2E3FC;\n",
              "    }\n",
              "\n",
              "    [theme=dark] .colab-df-convert:hover {\n",
              "      background-color: #434B5C;\n",
              "      box-shadow: 0px 1px 3px 1px rgba(0, 0, 0, 0.15);\n",
              "      filter: drop-shadow(0px 1px 2px rgba(0, 0, 0, 0.3));\n",
              "      fill: #FFFFFF;\n",
              "    }\n",
              "  </style>\n",
              "\n",
              "      <script>\n",
              "        const buttonEl =\n",
              "          document.querySelector('#df-458566b2-3c23-4b51-b38b-7018e74a3ed2 button.colab-df-convert');\n",
              "        buttonEl.style.display =\n",
              "          google.colab.kernel.accessAllowed ? 'block' : 'none';\n",
              "\n",
              "        async function convertToInteractive(key) {\n",
              "          const element = document.querySelector('#df-458566b2-3c23-4b51-b38b-7018e74a3ed2');\n",
              "          const dataTable =\n",
              "            await google.colab.kernel.invokeFunction('convertToInteractive',\n",
              "                                                     [key], {});\n",
              "          if (!dataTable) return;\n",
              "\n",
              "          const docLinkHtml = 'Like what you see? Visit the ' +\n",
              "            '<a target=\"_blank\" href=https://colab.research.google.com/notebooks/data_table.ipynb>data table notebook</a>'\n",
              "            + ' to learn more about interactive tables.';\n",
              "          element.innerHTML = '';\n",
              "          dataTable['output_type'] = 'display_data';\n",
              "          await google.colab.output.renderOutput(dataTable, element);\n",
              "          const docLink = document.createElement('div');\n",
              "          docLink.innerHTML = docLinkHtml;\n",
              "          element.appendChild(docLink);\n",
              "        }\n",
              "      </script>\n",
              "    </div>\n",
              "  </div>\n",
              "  "
            ]
          },
          "metadata": {},
          "execution_count": 12
        }
      ],
      "source": [
        "tmp = pd.DataFrame({'percentile':np.arange(90,101,1), 'length':np.percentile(ita_lengths, np.arange(90,101,1))})\n",
        "tmp"
      ]
    },
    {
      "cell_type": "code",
      "execution_count": null,
      "metadata": {
        "colab": {
          "base_uri": "https://localhost:8080/",
          "height": 394
        },
        "id": "CSBvsuJZETfk",
        "outputId": "8114e371-bd4d-4d5a-e52a-e129afe9be99"
      },
      "outputs": [
        {
          "output_type": "execute_result",
          "data": {
            "text/plain": [
              "    percentile  length\n",
              "0         99.0    12.0\n",
              "1         99.1    12.0\n",
              "2         99.2    12.0\n",
              "3         99.3    13.0\n",
              "4         99.4    13.0\n",
              "5         99.5    13.0\n",
              "6         99.6    14.0\n",
              "7         99.7    15.0\n",
              "8         99.8    16.0\n",
              "9         99.9    22.0\n",
              "10       100.0    92.0"
            ],
            "text/html": [
              "\n",
              "  <div id=\"df-c725d3f6-4889-41e0-93f1-362e7b6000d1\">\n",
              "    <div class=\"colab-df-container\">\n",
              "      <div>\n",
              "<style scoped>\n",
              "    .dataframe tbody tr th:only-of-type {\n",
              "        vertical-align: middle;\n",
              "    }\n",
              "\n",
              "    .dataframe tbody tr th {\n",
              "        vertical-align: top;\n",
              "    }\n",
              "\n",
              "    .dataframe thead th {\n",
              "        text-align: right;\n",
              "    }\n",
              "</style>\n",
              "<table border=\"1\" class=\"dataframe\">\n",
              "  <thead>\n",
              "    <tr style=\"text-align: right;\">\n",
              "      <th></th>\n",
              "      <th>percentile</th>\n",
              "      <th>length</th>\n",
              "    </tr>\n",
              "  </thead>\n",
              "  <tbody>\n",
              "    <tr>\n",
              "      <th>0</th>\n",
              "      <td>99.0</td>\n",
              "      <td>12.0</td>\n",
              "    </tr>\n",
              "    <tr>\n",
              "      <th>1</th>\n",
              "      <td>99.1</td>\n",
              "      <td>12.0</td>\n",
              "    </tr>\n",
              "    <tr>\n",
              "      <th>2</th>\n",
              "      <td>99.2</td>\n",
              "      <td>12.0</td>\n",
              "    </tr>\n",
              "    <tr>\n",
              "      <th>3</th>\n",
              "      <td>99.3</td>\n",
              "      <td>13.0</td>\n",
              "    </tr>\n",
              "    <tr>\n",
              "      <th>4</th>\n",
              "      <td>99.4</td>\n",
              "      <td>13.0</td>\n",
              "    </tr>\n",
              "    <tr>\n",
              "      <th>5</th>\n",
              "      <td>99.5</td>\n",
              "      <td>13.0</td>\n",
              "    </tr>\n",
              "    <tr>\n",
              "      <th>6</th>\n",
              "      <td>99.6</td>\n",
              "      <td>14.0</td>\n",
              "    </tr>\n",
              "    <tr>\n",
              "      <th>7</th>\n",
              "      <td>99.7</td>\n",
              "      <td>15.0</td>\n",
              "    </tr>\n",
              "    <tr>\n",
              "      <th>8</th>\n",
              "      <td>99.8</td>\n",
              "      <td>16.0</td>\n",
              "    </tr>\n",
              "    <tr>\n",
              "      <th>9</th>\n",
              "      <td>99.9</td>\n",
              "      <td>22.0</td>\n",
              "    </tr>\n",
              "    <tr>\n",
              "      <th>10</th>\n",
              "      <td>100.0</td>\n",
              "      <td>92.0</td>\n",
              "    </tr>\n",
              "  </tbody>\n",
              "</table>\n",
              "</div>\n",
              "      <button class=\"colab-df-convert\" onclick=\"convertToInteractive('df-c725d3f6-4889-41e0-93f1-362e7b6000d1')\"\n",
              "              title=\"Convert this dataframe to an interactive table.\"\n",
              "              style=\"display:none;\">\n",
              "        \n",
              "  <svg xmlns=\"http://www.w3.org/2000/svg\" height=\"24px\"viewBox=\"0 0 24 24\"\n",
              "       width=\"24px\">\n",
              "    <path d=\"M0 0h24v24H0V0z\" fill=\"none\"/>\n",
              "    <path d=\"M18.56 5.44l.94 2.06.94-2.06 2.06-.94-2.06-.94-.94-2.06-.94 2.06-2.06.94zm-11 1L8.5 8.5l.94-2.06 2.06-.94-2.06-.94L8.5 2.5l-.94 2.06-2.06.94zm10 10l.94 2.06.94-2.06 2.06-.94-2.06-.94-.94-2.06-.94 2.06-2.06.94z\"/><path d=\"M17.41 7.96l-1.37-1.37c-.4-.4-.92-.59-1.43-.59-.52 0-1.04.2-1.43.59L10.3 9.45l-7.72 7.72c-.78.78-.78 2.05 0 2.83L4 21.41c.39.39.9.59 1.41.59.51 0 1.02-.2 1.41-.59l7.78-7.78 2.81-2.81c.8-.78.8-2.07 0-2.86zM5.41 20L4 18.59l7.72-7.72 1.47 1.35L5.41 20z\"/>\n",
              "  </svg>\n",
              "      </button>\n",
              "      \n",
              "  <style>\n",
              "    .colab-df-container {\n",
              "      display:flex;\n",
              "      flex-wrap:wrap;\n",
              "      gap: 12px;\n",
              "    }\n",
              "\n",
              "    .colab-df-convert {\n",
              "      background-color: #E8F0FE;\n",
              "      border: none;\n",
              "      border-radius: 50%;\n",
              "      cursor: pointer;\n",
              "      display: none;\n",
              "      fill: #1967D2;\n",
              "      height: 32px;\n",
              "      padding: 0 0 0 0;\n",
              "      width: 32px;\n",
              "    }\n",
              "\n",
              "    .colab-df-convert:hover {\n",
              "      background-color: #E2EBFA;\n",
              "      box-shadow: 0px 1px 2px rgba(60, 64, 67, 0.3), 0px 1px 3px 1px rgba(60, 64, 67, 0.15);\n",
              "      fill: #174EA6;\n",
              "    }\n",
              "\n",
              "    [theme=dark] .colab-df-convert {\n",
              "      background-color: #3B4455;\n",
              "      fill: #D2E3FC;\n",
              "    }\n",
              "\n",
              "    [theme=dark] .colab-df-convert:hover {\n",
              "      background-color: #434B5C;\n",
              "      box-shadow: 0px 1px 3px 1px rgba(0, 0, 0, 0.15);\n",
              "      filter: drop-shadow(0px 1px 2px rgba(0, 0, 0, 0.3));\n",
              "      fill: #FFFFFF;\n",
              "    }\n",
              "  </style>\n",
              "\n",
              "      <script>\n",
              "        const buttonEl =\n",
              "          document.querySelector('#df-c725d3f6-4889-41e0-93f1-362e7b6000d1 button.colab-df-convert');\n",
              "        buttonEl.style.display =\n",
              "          google.colab.kernel.accessAllowed ? 'block' : 'none';\n",
              "\n",
              "        async function convertToInteractive(key) {\n",
              "          const element = document.querySelector('#df-c725d3f6-4889-41e0-93f1-362e7b6000d1');\n",
              "          const dataTable =\n",
              "            await google.colab.kernel.invokeFunction('convertToInteractive',\n",
              "                                                     [key], {});\n",
              "          if (!dataTable) return;\n",
              "\n",
              "          const docLinkHtml = 'Like what you see? Visit the ' +\n",
              "            '<a target=\"_blank\" href=https://colab.research.google.com/notebooks/data_table.ipynb>data table notebook</a>'\n",
              "            + ' to learn more about interactive tables.';\n",
              "          element.innerHTML = '';\n",
              "          dataTable['output_type'] = 'display_data';\n",
              "          await google.colab.output.renderOutput(dataTable, element);\n",
              "          const docLink = document.createElement('div');\n",
              "          docLink.innerHTML = docLinkHtml;\n",
              "          element.appendChild(docLink);\n",
              "        }\n",
              "      </script>\n",
              "    </div>\n",
              "  </div>\n",
              "  "
            ]
          },
          "metadata": {},
          "execution_count": 13
        }
      ],
      "source": [
        "tmp = pd.DataFrame({'percentile':np.arange(99,100.1,0.1), 'length':np.percentile(ita_lengths, np.arange(99,100.1,0.1))})\n",
        "tmp"
      ]
    },
    {
      "cell_type": "code",
      "execution_count": null,
      "metadata": {
        "colab": {
          "base_uri": "https://localhost:8080/",
          "height": 412
        },
        "id": "RVje3ZXnEsd8",
        "outputId": "fd360ba3-9c4b-4084-ee29-5368e0b32aad"
      },
      "outputs": [
        {
          "output_type": "stream",
          "name": "stdout",
          "text": [
            "Exploring lengths of english texts in the next few cells:\n"
          ]
        },
        {
          "output_type": "execute_result",
          "data": {
            "text/plain": [
              "    percentile  length\n",
              "0            0     1.0\n",
              "1           10     4.0\n",
              "2           20     4.0\n",
              "3           30     5.0\n",
              "4           40     5.0\n",
              "5           50     6.0\n",
              "6           60     6.0\n",
              "7           70     7.0\n",
              "8           80     7.0\n",
              "9           90     8.0\n",
              "10         100   101.0"
            ],
            "text/html": [
              "\n",
              "  <div id=\"df-14aadea4-c51c-46a7-80cc-e60682583e99\">\n",
              "    <div class=\"colab-df-container\">\n",
              "      <div>\n",
              "<style scoped>\n",
              "    .dataframe tbody tr th:only-of-type {\n",
              "        vertical-align: middle;\n",
              "    }\n",
              "\n",
              "    .dataframe tbody tr th {\n",
              "        vertical-align: top;\n",
              "    }\n",
              "\n",
              "    .dataframe thead th {\n",
              "        text-align: right;\n",
              "    }\n",
              "</style>\n",
              "<table border=\"1\" class=\"dataframe\">\n",
              "  <thead>\n",
              "    <tr style=\"text-align: right;\">\n",
              "      <th></th>\n",
              "      <th>percentile</th>\n",
              "      <th>length</th>\n",
              "    </tr>\n",
              "  </thead>\n",
              "  <tbody>\n",
              "    <tr>\n",
              "      <th>0</th>\n",
              "      <td>0</td>\n",
              "      <td>1.0</td>\n",
              "    </tr>\n",
              "    <tr>\n",
              "      <th>1</th>\n",
              "      <td>10</td>\n",
              "      <td>4.0</td>\n",
              "    </tr>\n",
              "    <tr>\n",
              "      <th>2</th>\n",
              "      <td>20</td>\n",
              "      <td>4.0</td>\n",
              "    </tr>\n",
              "    <tr>\n",
              "      <th>3</th>\n",
              "      <td>30</td>\n",
              "      <td>5.0</td>\n",
              "    </tr>\n",
              "    <tr>\n",
              "      <th>4</th>\n",
              "      <td>40</td>\n",
              "      <td>5.0</td>\n",
              "    </tr>\n",
              "    <tr>\n",
              "      <th>5</th>\n",
              "      <td>50</td>\n",
              "      <td>6.0</td>\n",
              "    </tr>\n",
              "    <tr>\n",
              "      <th>6</th>\n",
              "      <td>60</td>\n",
              "      <td>6.0</td>\n",
              "    </tr>\n",
              "    <tr>\n",
              "      <th>7</th>\n",
              "      <td>70</td>\n",
              "      <td>7.0</td>\n",
              "    </tr>\n",
              "    <tr>\n",
              "      <th>8</th>\n",
              "      <td>80</td>\n",
              "      <td>7.0</td>\n",
              "    </tr>\n",
              "    <tr>\n",
              "      <th>9</th>\n",
              "      <td>90</td>\n",
              "      <td>8.0</td>\n",
              "    </tr>\n",
              "    <tr>\n",
              "      <th>10</th>\n",
              "      <td>100</td>\n",
              "      <td>101.0</td>\n",
              "    </tr>\n",
              "  </tbody>\n",
              "</table>\n",
              "</div>\n",
              "      <button class=\"colab-df-convert\" onclick=\"convertToInteractive('df-14aadea4-c51c-46a7-80cc-e60682583e99')\"\n",
              "              title=\"Convert this dataframe to an interactive table.\"\n",
              "              style=\"display:none;\">\n",
              "        \n",
              "  <svg xmlns=\"http://www.w3.org/2000/svg\" height=\"24px\"viewBox=\"0 0 24 24\"\n",
              "       width=\"24px\">\n",
              "    <path d=\"M0 0h24v24H0V0z\" fill=\"none\"/>\n",
              "    <path d=\"M18.56 5.44l.94 2.06.94-2.06 2.06-.94-2.06-.94-.94-2.06-.94 2.06-2.06.94zm-11 1L8.5 8.5l.94-2.06 2.06-.94-2.06-.94L8.5 2.5l-.94 2.06-2.06.94zm10 10l.94 2.06.94-2.06 2.06-.94-2.06-.94-.94-2.06-.94 2.06-2.06.94z\"/><path d=\"M17.41 7.96l-1.37-1.37c-.4-.4-.92-.59-1.43-.59-.52 0-1.04.2-1.43.59L10.3 9.45l-7.72 7.72c-.78.78-.78 2.05 0 2.83L4 21.41c.39.39.9.59 1.41.59.51 0 1.02-.2 1.41-.59l7.78-7.78 2.81-2.81c.8-.78.8-2.07 0-2.86zM5.41 20L4 18.59l7.72-7.72 1.47 1.35L5.41 20z\"/>\n",
              "  </svg>\n",
              "      </button>\n",
              "      \n",
              "  <style>\n",
              "    .colab-df-container {\n",
              "      display:flex;\n",
              "      flex-wrap:wrap;\n",
              "      gap: 12px;\n",
              "    }\n",
              "\n",
              "    .colab-df-convert {\n",
              "      background-color: #E8F0FE;\n",
              "      border: none;\n",
              "      border-radius: 50%;\n",
              "      cursor: pointer;\n",
              "      display: none;\n",
              "      fill: #1967D2;\n",
              "      height: 32px;\n",
              "      padding: 0 0 0 0;\n",
              "      width: 32px;\n",
              "    }\n",
              "\n",
              "    .colab-df-convert:hover {\n",
              "      background-color: #E2EBFA;\n",
              "      box-shadow: 0px 1px 2px rgba(60, 64, 67, 0.3), 0px 1px 3px 1px rgba(60, 64, 67, 0.15);\n",
              "      fill: #174EA6;\n",
              "    }\n",
              "\n",
              "    [theme=dark] .colab-df-convert {\n",
              "      background-color: #3B4455;\n",
              "      fill: #D2E3FC;\n",
              "    }\n",
              "\n",
              "    [theme=dark] .colab-df-convert:hover {\n",
              "      background-color: #434B5C;\n",
              "      box-shadow: 0px 1px 3px 1px rgba(0, 0, 0, 0.15);\n",
              "      filter: drop-shadow(0px 1px 2px rgba(0, 0, 0, 0.3));\n",
              "      fill: #FFFFFF;\n",
              "    }\n",
              "  </style>\n",
              "\n",
              "      <script>\n",
              "        const buttonEl =\n",
              "          document.querySelector('#df-14aadea4-c51c-46a7-80cc-e60682583e99 button.colab-df-convert');\n",
              "        buttonEl.style.display =\n",
              "          google.colab.kernel.accessAllowed ? 'block' : 'none';\n",
              "\n",
              "        async function convertToInteractive(key) {\n",
              "          const element = document.querySelector('#df-14aadea4-c51c-46a7-80cc-e60682583e99');\n",
              "          const dataTable =\n",
              "            await google.colab.kernel.invokeFunction('convertToInteractive',\n",
              "                                                     [key], {});\n",
              "          if (!dataTable) return;\n",
              "\n",
              "          const docLinkHtml = 'Like what you see? Visit the ' +\n",
              "            '<a target=\"_blank\" href=https://colab.research.google.com/notebooks/data_table.ipynb>data table notebook</a>'\n",
              "            + ' to learn more about interactive tables.';\n",
              "          element.innerHTML = '';\n",
              "          dataTable['output_type'] = 'display_data';\n",
              "          await google.colab.output.renderOutput(dataTable, element);\n",
              "          const docLink = document.createElement('div');\n",
              "          docLink.innerHTML = docLinkHtml;\n",
              "          element.appendChild(docLink);\n",
              "        }\n",
              "      </script>\n",
              "    </div>\n",
              "  </div>\n",
              "  "
            ]
          },
          "metadata": {},
          "execution_count": 14
        }
      ],
      "source": [
        "print('Exploring lengths of english texts in the next few cells:')\n",
        "tmp = pd.DataFrame({'percentile':np.arange(0,110,10), 'length':np.percentile(eng_lengths, np.arange(0,110,10))})\n",
        "tmp"
      ]
    },
    {
      "cell_type": "code",
      "execution_count": null,
      "metadata": {
        "colab": {
          "base_uri": "https://localhost:8080/",
          "height": 394
        },
        "id": "Szb79XeeEsag",
        "outputId": "7d977450-7fce-4cb7-853b-5adfd75acfc9"
      },
      "outputs": [
        {
          "output_type": "execute_result",
          "data": {
            "text/plain": [
              "    percentile  length\n",
              "0           90     8.0\n",
              "1           91     9.0\n",
              "2           92     9.0\n",
              "3           93     9.0\n",
              "4           94     9.0\n",
              "5           95     9.0\n",
              "6           96    10.0\n",
              "7           97    10.0\n",
              "8           98    11.0\n",
              "9           99    12.0\n",
              "10         100   101.0"
            ],
            "text/html": [
              "\n",
              "  <div id=\"df-c0ad5b15-b112-4ece-9d7c-a5afa7e421e9\">\n",
              "    <div class=\"colab-df-container\">\n",
              "      <div>\n",
              "<style scoped>\n",
              "    .dataframe tbody tr th:only-of-type {\n",
              "        vertical-align: middle;\n",
              "    }\n",
              "\n",
              "    .dataframe tbody tr th {\n",
              "        vertical-align: top;\n",
              "    }\n",
              "\n",
              "    .dataframe thead th {\n",
              "        text-align: right;\n",
              "    }\n",
              "</style>\n",
              "<table border=\"1\" class=\"dataframe\">\n",
              "  <thead>\n",
              "    <tr style=\"text-align: right;\">\n",
              "      <th></th>\n",
              "      <th>percentile</th>\n",
              "      <th>length</th>\n",
              "    </tr>\n",
              "  </thead>\n",
              "  <tbody>\n",
              "    <tr>\n",
              "      <th>0</th>\n",
              "      <td>90</td>\n",
              "      <td>8.0</td>\n",
              "    </tr>\n",
              "    <tr>\n",
              "      <th>1</th>\n",
              "      <td>91</td>\n",
              "      <td>9.0</td>\n",
              "    </tr>\n",
              "    <tr>\n",
              "      <th>2</th>\n",
              "      <td>92</td>\n",
              "      <td>9.0</td>\n",
              "    </tr>\n",
              "    <tr>\n",
              "      <th>3</th>\n",
              "      <td>93</td>\n",
              "      <td>9.0</td>\n",
              "    </tr>\n",
              "    <tr>\n",
              "      <th>4</th>\n",
              "      <td>94</td>\n",
              "      <td>9.0</td>\n",
              "    </tr>\n",
              "    <tr>\n",
              "      <th>5</th>\n",
              "      <td>95</td>\n",
              "      <td>9.0</td>\n",
              "    </tr>\n",
              "    <tr>\n",
              "      <th>6</th>\n",
              "      <td>96</td>\n",
              "      <td>10.0</td>\n",
              "    </tr>\n",
              "    <tr>\n",
              "      <th>7</th>\n",
              "      <td>97</td>\n",
              "      <td>10.0</td>\n",
              "    </tr>\n",
              "    <tr>\n",
              "      <th>8</th>\n",
              "      <td>98</td>\n",
              "      <td>11.0</td>\n",
              "    </tr>\n",
              "    <tr>\n",
              "      <th>9</th>\n",
              "      <td>99</td>\n",
              "      <td>12.0</td>\n",
              "    </tr>\n",
              "    <tr>\n",
              "      <th>10</th>\n",
              "      <td>100</td>\n",
              "      <td>101.0</td>\n",
              "    </tr>\n",
              "  </tbody>\n",
              "</table>\n",
              "</div>\n",
              "      <button class=\"colab-df-convert\" onclick=\"convertToInteractive('df-c0ad5b15-b112-4ece-9d7c-a5afa7e421e9')\"\n",
              "              title=\"Convert this dataframe to an interactive table.\"\n",
              "              style=\"display:none;\">\n",
              "        \n",
              "  <svg xmlns=\"http://www.w3.org/2000/svg\" height=\"24px\"viewBox=\"0 0 24 24\"\n",
              "       width=\"24px\">\n",
              "    <path d=\"M0 0h24v24H0V0z\" fill=\"none\"/>\n",
              "    <path d=\"M18.56 5.44l.94 2.06.94-2.06 2.06-.94-2.06-.94-.94-2.06-.94 2.06-2.06.94zm-11 1L8.5 8.5l.94-2.06 2.06-.94-2.06-.94L8.5 2.5l-.94 2.06-2.06.94zm10 10l.94 2.06.94-2.06 2.06-.94-2.06-.94-.94-2.06-.94 2.06-2.06.94z\"/><path d=\"M17.41 7.96l-1.37-1.37c-.4-.4-.92-.59-1.43-.59-.52 0-1.04.2-1.43.59L10.3 9.45l-7.72 7.72c-.78.78-.78 2.05 0 2.83L4 21.41c.39.39.9.59 1.41.59.51 0 1.02-.2 1.41-.59l7.78-7.78 2.81-2.81c.8-.78.8-2.07 0-2.86zM5.41 20L4 18.59l7.72-7.72 1.47 1.35L5.41 20z\"/>\n",
              "  </svg>\n",
              "      </button>\n",
              "      \n",
              "  <style>\n",
              "    .colab-df-container {\n",
              "      display:flex;\n",
              "      flex-wrap:wrap;\n",
              "      gap: 12px;\n",
              "    }\n",
              "\n",
              "    .colab-df-convert {\n",
              "      background-color: #E8F0FE;\n",
              "      border: none;\n",
              "      border-radius: 50%;\n",
              "      cursor: pointer;\n",
              "      display: none;\n",
              "      fill: #1967D2;\n",
              "      height: 32px;\n",
              "      padding: 0 0 0 0;\n",
              "      width: 32px;\n",
              "    }\n",
              "\n",
              "    .colab-df-convert:hover {\n",
              "      background-color: #E2EBFA;\n",
              "      box-shadow: 0px 1px 2px rgba(60, 64, 67, 0.3), 0px 1px 3px 1px rgba(60, 64, 67, 0.15);\n",
              "      fill: #174EA6;\n",
              "    }\n",
              "\n",
              "    [theme=dark] .colab-df-convert {\n",
              "      background-color: #3B4455;\n",
              "      fill: #D2E3FC;\n",
              "    }\n",
              "\n",
              "    [theme=dark] .colab-df-convert:hover {\n",
              "      background-color: #434B5C;\n",
              "      box-shadow: 0px 1px 3px 1px rgba(0, 0, 0, 0.15);\n",
              "      filter: drop-shadow(0px 1px 2px rgba(0, 0, 0, 0.3));\n",
              "      fill: #FFFFFF;\n",
              "    }\n",
              "  </style>\n",
              "\n",
              "      <script>\n",
              "        const buttonEl =\n",
              "          document.querySelector('#df-c0ad5b15-b112-4ece-9d7c-a5afa7e421e9 button.colab-df-convert');\n",
              "        buttonEl.style.display =\n",
              "          google.colab.kernel.accessAllowed ? 'block' : 'none';\n",
              "\n",
              "        async function convertToInteractive(key) {\n",
              "          const element = document.querySelector('#df-c0ad5b15-b112-4ece-9d7c-a5afa7e421e9');\n",
              "          const dataTable =\n",
              "            await google.colab.kernel.invokeFunction('convertToInteractive',\n",
              "                                                     [key], {});\n",
              "          if (!dataTable) return;\n",
              "\n",
              "          const docLinkHtml = 'Like what you see? Visit the ' +\n",
              "            '<a target=\"_blank\" href=https://colab.research.google.com/notebooks/data_table.ipynb>data table notebook</a>'\n",
              "            + ' to learn more about interactive tables.';\n",
              "          element.innerHTML = '';\n",
              "          dataTable['output_type'] = 'display_data';\n",
              "          await google.colab.output.renderOutput(dataTable, element);\n",
              "          const docLink = document.createElement('div');\n",
              "          docLink.innerHTML = docLinkHtml;\n",
              "          element.appendChild(docLink);\n",
              "        }\n",
              "      </script>\n",
              "    </div>\n",
              "  </div>\n",
              "  "
            ]
          },
          "metadata": {},
          "execution_count": 15
        }
      ],
      "source": [
        "tmp = pd.DataFrame({'percentile':np.arange(90,101,1), 'length':np.percentile(eng_lengths, np.arange(90,101,1))})\n",
        "tmp"
      ]
    },
    {
      "cell_type": "code",
      "execution_count": null,
      "metadata": {
        "colab": {
          "base_uri": "https://localhost:8080/",
          "height": 394
        },
        "id": "IeTzPix3E1EC",
        "outputId": "8870aa43-ad96-44aa-a105-1ce58b4770ed"
      },
      "outputs": [
        {
          "output_type": "execute_result",
          "data": {
            "text/plain": [
              "    percentile  length\n",
              "0         99.0    12.0\n",
              "1         99.1    12.0\n",
              "2         99.2    13.0\n",
              "3         99.3    13.0\n",
              "4         99.4    13.0\n",
              "5         99.5    14.0\n",
              "6         99.6    14.0\n",
              "7         99.7    15.0\n",
              "8         99.8    16.0\n",
              "9         99.9    25.0\n",
              "10       100.0   101.0"
            ],
            "text/html": [
              "\n",
              "  <div id=\"df-9bb2d6eb-2f2a-4c29-8cbf-515b35d2736e\">\n",
              "    <div class=\"colab-df-container\">\n",
              "      <div>\n",
              "<style scoped>\n",
              "    .dataframe tbody tr th:only-of-type {\n",
              "        vertical-align: middle;\n",
              "    }\n",
              "\n",
              "    .dataframe tbody tr th {\n",
              "        vertical-align: top;\n",
              "    }\n",
              "\n",
              "    .dataframe thead th {\n",
              "        text-align: right;\n",
              "    }\n",
              "</style>\n",
              "<table border=\"1\" class=\"dataframe\">\n",
              "  <thead>\n",
              "    <tr style=\"text-align: right;\">\n",
              "      <th></th>\n",
              "      <th>percentile</th>\n",
              "      <th>length</th>\n",
              "    </tr>\n",
              "  </thead>\n",
              "  <tbody>\n",
              "    <tr>\n",
              "      <th>0</th>\n",
              "      <td>99.0</td>\n",
              "      <td>12.0</td>\n",
              "    </tr>\n",
              "    <tr>\n",
              "      <th>1</th>\n",
              "      <td>99.1</td>\n",
              "      <td>12.0</td>\n",
              "    </tr>\n",
              "    <tr>\n",
              "      <th>2</th>\n",
              "      <td>99.2</td>\n",
              "      <td>13.0</td>\n",
              "    </tr>\n",
              "    <tr>\n",
              "      <th>3</th>\n",
              "      <td>99.3</td>\n",
              "      <td>13.0</td>\n",
              "    </tr>\n",
              "    <tr>\n",
              "      <th>4</th>\n",
              "      <td>99.4</td>\n",
              "      <td>13.0</td>\n",
              "    </tr>\n",
              "    <tr>\n",
              "      <th>5</th>\n",
              "      <td>99.5</td>\n",
              "      <td>14.0</td>\n",
              "    </tr>\n",
              "    <tr>\n",
              "      <th>6</th>\n",
              "      <td>99.6</td>\n",
              "      <td>14.0</td>\n",
              "    </tr>\n",
              "    <tr>\n",
              "      <th>7</th>\n",
              "      <td>99.7</td>\n",
              "      <td>15.0</td>\n",
              "    </tr>\n",
              "    <tr>\n",
              "      <th>8</th>\n",
              "      <td>99.8</td>\n",
              "      <td>16.0</td>\n",
              "    </tr>\n",
              "    <tr>\n",
              "      <th>9</th>\n",
              "      <td>99.9</td>\n",
              "      <td>25.0</td>\n",
              "    </tr>\n",
              "    <tr>\n",
              "      <th>10</th>\n",
              "      <td>100.0</td>\n",
              "      <td>101.0</td>\n",
              "    </tr>\n",
              "  </tbody>\n",
              "</table>\n",
              "</div>\n",
              "      <button class=\"colab-df-convert\" onclick=\"convertToInteractive('df-9bb2d6eb-2f2a-4c29-8cbf-515b35d2736e')\"\n",
              "              title=\"Convert this dataframe to an interactive table.\"\n",
              "              style=\"display:none;\">\n",
              "        \n",
              "  <svg xmlns=\"http://www.w3.org/2000/svg\" height=\"24px\"viewBox=\"0 0 24 24\"\n",
              "       width=\"24px\">\n",
              "    <path d=\"M0 0h24v24H0V0z\" fill=\"none\"/>\n",
              "    <path d=\"M18.56 5.44l.94 2.06.94-2.06 2.06-.94-2.06-.94-.94-2.06-.94 2.06-2.06.94zm-11 1L8.5 8.5l.94-2.06 2.06-.94-2.06-.94L8.5 2.5l-.94 2.06-2.06.94zm10 10l.94 2.06.94-2.06 2.06-.94-2.06-.94-.94-2.06-.94 2.06-2.06.94z\"/><path d=\"M17.41 7.96l-1.37-1.37c-.4-.4-.92-.59-1.43-.59-.52 0-1.04.2-1.43.59L10.3 9.45l-7.72 7.72c-.78.78-.78 2.05 0 2.83L4 21.41c.39.39.9.59 1.41.59.51 0 1.02-.2 1.41-.59l7.78-7.78 2.81-2.81c.8-.78.8-2.07 0-2.86zM5.41 20L4 18.59l7.72-7.72 1.47 1.35L5.41 20z\"/>\n",
              "  </svg>\n",
              "      </button>\n",
              "      \n",
              "  <style>\n",
              "    .colab-df-container {\n",
              "      display:flex;\n",
              "      flex-wrap:wrap;\n",
              "      gap: 12px;\n",
              "    }\n",
              "\n",
              "    .colab-df-convert {\n",
              "      background-color: #E8F0FE;\n",
              "      border: none;\n",
              "      border-radius: 50%;\n",
              "      cursor: pointer;\n",
              "      display: none;\n",
              "      fill: #1967D2;\n",
              "      height: 32px;\n",
              "      padding: 0 0 0 0;\n",
              "      width: 32px;\n",
              "    }\n",
              "\n",
              "    .colab-df-convert:hover {\n",
              "      background-color: #E2EBFA;\n",
              "      box-shadow: 0px 1px 2px rgba(60, 64, 67, 0.3), 0px 1px 3px 1px rgba(60, 64, 67, 0.15);\n",
              "      fill: #174EA6;\n",
              "    }\n",
              "\n",
              "    [theme=dark] .colab-df-convert {\n",
              "      background-color: #3B4455;\n",
              "      fill: #D2E3FC;\n",
              "    }\n",
              "\n",
              "    [theme=dark] .colab-df-convert:hover {\n",
              "      background-color: #434B5C;\n",
              "      box-shadow: 0px 1px 3px 1px rgba(0, 0, 0, 0.15);\n",
              "      filter: drop-shadow(0px 1px 2px rgba(0, 0, 0, 0.3));\n",
              "      fill: #FFFFFF;\n",
              "    }\n",
              "  </style>\n",
              "\n",
              "      <script>\n",
              "        const buttonEl =\n",
              "          document.querySelector('#df-9bb2d6eb-2f2a-4c29-8cbf-515b35d2736e button.colab-df-convert');\n",
              "        buttonEl.style.display =\n",
              "          google.colab.kernel.accessAllowed ? 'block' : 'none';\n",
              "\n",
              "        async function convertToInteractive(key) {\n",
              "          const element = document.querySelector('#df-9bb2d6eb-2f2a-4c29-8cbf-515b35d2736e');\n",
              "          const dataTable =\n",
              "            await google.colab.kernel.invokeFunction('convertToInteractive',\n",
              "                                                     [key], {});\n",
              "          if (!dataTable) return;\n",
              "\n",
              "          const docLinkHtml = 'Like what you see? Visit the ' +\n",
              "            '<a target=\"_blank\" href=https://colab.research.google.com/notebooks/data_table.ipynb>data table notebook</a>'\n",
              "            + ' to learn more about interactive tables.';\n",
              "          element.innerHTML = '';\n",
              "          dataTable['output_type'] = 'display_data';\n",
              "          await google.colab.output.renderOutput(dataTable, element);\n",
              "          const docLink = document.createElement('div');\n",
              "          docLink.innerHTML = docLinkHtml;\n",
              "          element.appendChild(docLink);\n",
              "        }\n",
              "      </script>\n",
              "    </div>\n",
              "  </div>\n",
              "  "
            ]
          },
          "metadata": {},
          "execution_count": 16
        }
      ],
      "source": [
        "tmp = pd.DataFrame({'percentile':np.arange(99,100.1,0.1), 'length':np.percentile(eng_lengths, np.arange(99,100.1,0.1))})\n",
        "tmp"
      ]
    },
    {
      "cell_type": "code",
      "execution_count": null,
      "metadata": {
        "id": "MGVQU_gYHV6t"
      },
      "outputs": [],
      "source": [
        "data = eng_ita_df.copy()"
      ]
    },
    {
      "cell_type": "code",
      "execution_count": null,
      "metadata": {
        "id": "30Ayyx_JHVTC"
      },
      "outputs": [],
      "source": [
        "data['ita_len'] = ita_lengths\n",
        "data['eng_len'] = eng_lengths"
      ]
    },
    {
      "cell_type": "code",
      "execution_count": null,
      "metadata": {
        "colab": {
          "base_uri": "https://localhost:8080/"
        },
        "id": "SVlWk4f-IN-a",
        "outputId": "871b0e11-dd24-4745-fee7-6431ec9a3474"
      },
      "outputs": [
        {
          "output_type": "execute_result",
          "data": {
            "text/plain": [
              "(353887, 4)"
            ]
          },
          "metadata": {},
          "execution_count": 19
        }
      ],
      "source": [
        "data = data[data['ita_len']<=25]\n",
        "data = data[data['eng_len']<=25]\n",
        "data.shape"
      ]
    },
    {
      "cell_type": "code",
      "execution_count": null,
      "metadata": {
        "colab": {
          "base_uri": "https://localhost:8080/",
          "height": 224
        },
        "id": "8236N7HTjalK",
        "outputId": "2f8f2450-730f-4b2f-fa5f-f24cd160e86b"
      },
      "outputs": [
        {
          "output_type": "stream",
          "name": "stdout",
          "text": [
            "(353887, 4)\n"
          ]
        },
        {
          "output_type": "execute_result",
          "data": {
            "text/plain": [
              "        eng_in    eng_out         eng_tok_in                 ita_in\n",
              "0   <start> hi   hi <end>   <start> hi <end>     <start> ciao <end>\n",
              "1   <start> hi   hi <end>   <start> hi <end>     <start> ciao <end>\n",
              "2  <start> run  run <end>  <start> run <end>    <start> corri <end>\n",
              "3  <start> run  run <end>  <start> run <end>    <start> corra <end>\n",
              "4  <start> run  run <end>  <start> run <end>  <start> correte <end>"
            ],
            "text/html": [
              "\n",
              "  <div id=\"df-400ffbfa-660b-446a-ac0d-8dc1907439ca\">\n",
              "    <div class=\"colab-df-container\">\n",
              "      <div>\n",
              "<style scoped>\n",
              "    .dataframe tbody tr th:only-of-type {\n",
              "        vertical-align: middle;\n",
              "    }\n",
              "\n",
              "    .dataframe tbody tr th {\n",
              "        vertical-align: top;\n",
              "    }\n",
              "\n",
              "    .dataframe thead th {\n",
              "        text-align: right;\n",
              "    }\n",
              "</style>\n",
              "<table border=\"1\" class=\"dataframe\">\n",
              "  <thead>\n",
              "    <tr style=\"text-align: right;\">\n",
              "      <th></th>\n",
              "      <th>eng_in</th>\n",
              "      <th>eng_out</th>\n",
              "      <th>eng_tok_in</th>\n",
              "      <th>ita_in</th>\n",
              "    </tr>\n",
              "  </thead>\n",
              "  <tbody>\n",
              "    <tr>\n",
              "      <th>0</th>\n",
              "      <td>&lt;start&gt; hi</td>\n",
              "      <td>hi &lt;end&gt;</td>\n",
              "      <td>&lt;start&gt; hi &lt;end&gt;</td>\n",
              "      <td>&lt;start&gt; ciao &lt;end&gt;</td>\n",
              "    </tr>\n",
              "    <tr>\n",
              "      <th>1</th>\n",
              "      <td>&lt;start&gt; hi</td>\n",
              "      <td>hi &lt;end&gt;</td>\n",
              "      <td>&lt;start&gt; hi &lt;end&gt;</td>\n",
              "      <td>&lt;start&gt; ciao &lt;end&gt;</td>\n",
              "    </tr>\n",
              "    <tr>\n",
              "      <th>2</th>\n",
              "      <td>&lt;start&gt; run</td>\n",
              "      <td>run &lt;end&gt;</td>\n",
              "      <td>&lt;start&gt; run &lt;end&gt;</td>\n",
              "      <td>&lt;start&gt; corri &lt;end&gt;</td>\n",
              "    </tr>\n",
              "    <tr>\n",
              "      <th>3</th>\n",
              "      <td>&lt;start&gt; run</td>\n",
              "      <td>run &lt;end&gt;</td>\n",
              "      <td>&lt;start&gt; run &lt;end&gt;</td>\n",
              "      <td>&lt;start&gt; corra &lt;end&gt;</td>\n",
              "    </tr>\n",
              "    <tr>\n",
              "      <th>4</th>\n",
              "      <td>&lt;start&gt; run</td>\n",
              "      <td>run &lt;end&gt;</td>\n",
              "      <td>&lt;start&gt; run &lt;end&gt;</td>\n",
              "      <td>&lt;start&gt; correte &lt;end&gt;</td>\n",
              "    </tr>\n",
              "  </tbody>\n",
              "</table>\n",
              "</div>\n",
              "      <button class=\"colab-df-convert\" onclick=\"convertToInteractive('df-400ffbfa-660b-446a-ac0d-8dc1907439ca')\"\n",
              "              title=\"Convert this dataframe to an interactive table.\"\n",
              "              style=\"display:none;\">\n",
              "        \n",
              "  <svg xmlns=\"http://www.w3.org/2000/svg\" height=\"24px\"viewBox=\"0 0 24 24\"\n",
              "       width=\"24px\">\n",
              "    <path d=\"M0 0h24v24H0V0z\" fill=\"none\"/>\n",
              "    <path d=\"M18.56 5.44l.94 2.06.94-2.06 2.06-.94-2.06-.94-.94-2.06-.94 2.06-2.06.94zm-11 1L8.5 8.5l.94-2.06 2.06-.94-2.06-.94L8.5 2.5l-.94 2.06-2.06.94zm10 10l.94 2.06.94-2.06 2.06-.94-2.06-.94-.94-2.06-.94 2.06-2.06.94z\"/><path d=\"M17.41 7.96l-1.37-1.37c-.4-.4-.92-.59-1.43-.59-.52 0-1.04.2-1.43.59L10.3 9.45l-7.72 7.72c-.78.78-.78 2.05 0 2.83L4 21.41c.39.39.9.59 1.41.59.51 0 1.02-.2 1.41-.59l7.78-7.78 2.81-2.81c.8-.78.8-2.07 0-2.86zM5.41 20L4 18.59l7.72-7.72 1.47 1.35L5.41 20z\"/>\n",
              "  </svg>\n",
              "      </button>\n",
              "      \n",
              "  <style>\n",
              "    .colab-df-container {\n",
              "      display:flex;\n",
              "      flex-wrap:wrap;\n",
              "      gap: 12px;\n",
              "    }\n",
              "\n",
              "    .colab-df-convert {\n",
              "      background-color: #E8F0FE;\n",
              "      border: none;\n",
              "      border-radius: 50%;\n",
              "      cursor: pointer;\n",
              "      display: none;\n",
              "      fill: #1967D2;\n",
              "      height: 32px;\n",
              "      padding: 0 0 0 0;\n",
              "      width: 32px;\n",
              "    }\n",
              "\n",
              "    .colab-df-convert:hover {\n",
              "      background-color: #E2EBFA;\n",
              "      box-shadow: 0px 1px 2px rgba(60, 64, 67, 0.3), 0px 1px 3px 1px rgba(60, 64, 67, 0.15);\n",
              "      fill: #174EA6;\n",
              "    }\n",
              "\n",
              "    [theme=dark] .colab-df-convert {\n",
              "      background-color: #3B4455;\n",
              "      fill: #D2E3FC;\n",
              "    }\n",
              "\n",
              "    [theme=dark] .colab-df-convert:hover {\n",
              "      background-color: #434B5C;\n",
              "      box-shadow: 0px 1px 3px 1px rgba(0, 0, 0, 0.15);\n",
              "      filter: drop-shadow(0px 1px 2px rgba(0, 0, 0, 0.3));\n",
              "      fill: #FFFFFF;\n",
              "    }\n",
              "  </style>\n",
              "\n",
              "      <script>\n",
              "        const buttonEl =\n",
              "          document.querySelector('#df-400ffbfa-660b-446a-ac0d-8dc1907439ca button.colab-df-convert');\n",
              "        buttonEl.style.display =\n",
              "          google.colab.kernel.accessAllowed ? 'block' : 'none';\n",
              "\n",
              "        async function convertToInteractive(key) {\n",
              "          const element = document.querySelector('#df-400ffbfa-660b-446a-ac0d-8dc1907439ca');\n",
              "          const dataTable =\n",
              "            await google.colab.kernel.invokeFunction('convertToInteractive',\n",
              "                                                     [key], {});\n",
              "          if (!dataTable) return;\n",
              "\n",
              "          const docLinkHtml = 'Like what you see? Visit the ' +\n",
              "            '<a target=\"_blank\" href=https://colab.research.google.com/notebooks/data_table.ipynb>data table notebook</a>'\n",
              "            + ' to learn more about interactive tables.';\n",
              "          element.innerHTML = '';\n",
              "          dataTable['output_type'] = 'display_data';\n",
              "          await google.colab.output.renderOutput(dataTable, element);\n",
              "          const docLink = document.createElement('div');\n",
              "          docLink.innerHTML = docLinkHtml;\n",
              "          element.appendChild(docLink);\n",
              "        }\n",
              "      </script>\n",
              "    </div>\n",
              "  </div>\n",
              "  "
            ]
          },
          "metadata": {},
          "execution_count": 20
        }
      ],
      "source": [
        "data['eng_in'] = data['eng'].apply(lambda x: '<start> '+ x)\n",
        "data['eng_out'] = data['eng'].apply(lambda x:  x +' <end>')\n",
        "data['eng_tok_in'] = data['eng'].apply(lambda x: '<start> '+ x + ' <end>')\n",
        "data['ita_in'] = data['ita'].apply(lambda x: '<start> '+ x + ' <end>')\n",
        "\n",
        "data.drop(columns = ['ita_len', 'eng_len', 'ita', 'eng'], inplace=True)\n",
        "print(data.shape)\n",
        "data.head()"
      ]
    },
    {
      "cell_type": "code",
      "execution_count": null,
      "metadata": {
        "id": "i7HML_DTmcxG"
      },
      "outputs": [],
      "source": [
        "from sklearn.model_selection import train_test_split\n",
        "train, validation = train_test_split(data, test_size=0.2, random_state=45)"
      ]
    },
    {
      "cell_type": "code",
      "execution_count": null,
      "metadata": {
        "id": "8S-DlHc14ckk"
      },
      "outputs": [],
      "source": [
        "import tensorflow as tf \n",
        "from tensorflow.keras.preprocessing.text import Tokenizer\n",
        "from tensorflow.keras.preprocessing.sequence import pad_sequences"
      ]
    },
    {
      "cell_type": "code",
      "execution_count": null,
      "metadata": {
        "id": "S_uX-Wag4-9h"
      },
      "outputs": [],
      "source": [
        "#tokenize and pad italian texts which will be passed into encoder input\n",
        "tknizer_ita = Tokenizer(filters='!\"#$%&()*+,-./:;=?@[\\\\]^_`{|}~\\t\\n')\n",
        "tknizer_ita.fit_on_texts(train['ita_in'].values)\n",
        "\n",
        "#tokenize and pad english texts [note: we fit the tokenizer on eng_texts because it contains both <start> <end> tokens so that we do not have to separately fit on eng_dec_in and eng_dec_out]\n",
        "tknizer_eng = Tokenizer(filters='!\"#$%&()*+,-./:;=?@[\\\\]^_`{|}~\\t\\n')\n",
        "tknizer_eng.fit_on_texts(train['eng_tok_in'].values)"
      ]
    },
    {
      "cell_type": "code",
      "execution_count": null,
      "metadata": {
        "id": "eATD65AMPFWF"
      },
      "outputs": [],
      "source": [
        "class Dataset:\n",
        "    def __init__(self, data, tknizer_ita, tknizer_eng, max_len):\n",
        "        self.encoder_inps = data['ita_in'].values\n",
        "        self.decoder_inps = data['eng_in'].values\n",
        "        self.decoder_outs = data['eng_out'].values\n",
        "        self.tknizer_eng = tknizer_eng\n",
        "        self.tknizer_ita = tknizer_ita\n",
        "        self.max_len = max_len\n",
        "    #refer to understand __getitem__ magic method - https://stackoverflow.com/questions/43627405/understanding-getitem-method\n",
        "    def __getitem__(self, i):\n",
        "        self.encoder_seq = self.tknizer_ita.texts_to_sequences([self.encoder_inps[i]]) # need to pass list of values\n",
        "        self.decoder_inp_seq = self.tknizer_eng.texts_to_sequences([self.decoder_inps[i]])\n",
        "        self.decoder_out_seq = self.tknizer_eng.texts_to_sequences([self.decoder_outs[i]])\n",
        "\n",
        "        self.encoder_seq = pad_sequences(self.encoder_seq, maxlen=self.max_len, dtype='int32', padding='post')\n",
        "        self.decoder_inp_seq = pad_sequences(self.decoder_inp_seq, maxlen=self.max_len-1, dtype='int32', padding='post')\n",
        "        self.decoder_out_seq = pad_sequences(self.decoder_out_seq, maxlen=self.max_len-1, dtype='int32', padding='post')\n",
        "        return self.encoder_seq, self.decoder_inp_seq, self.decoder_out_seq\n",
        "\n",
        "    def __len__(self): # your model.fit_gen requires this function\n",
        "        return len(self.encoder_inps)\n",
        "\n",
        "    \n",
        "class Dataloder(tf.keras.utils.Sequence):    \n",
        "    def __init__(self, dataset, batch_size=1):\n",
        "        self.dataset = dataset\n",
        "        self.batch_size = batch_size\n",
        "        self.indexes = np.arange(len(self.dataset.encoder_inps))\n",
        "\n",
        "\n",
        "    def __getitem__(self, i):\n",
        "        start = i * self.batch_size\n",
        "        stop = (i + 1) * self.batch_size\n",
        "        data = []\n",
        "        for j in range(start, stop):\n",
        "            data.append(self.dataset[j]) #self.dataset[j]: it fetches padded sequences - self.encoder_seq, self.decoder_inp_seq, self.decoder_out_seq and appends to data\n",
        "\n",
        "        batch = [np.squeeze(np.stack(samples, axis=1), axis=0) for samples in zip(*data)]\n",
        "        # we are creating data like ([italian, english_inp], english_out) these are already converted into seq\n",
        "        return tuple([[batch[0],batch[1]],batch[2]])\n",
        "\n",
        "    def __len__(self):  # your model.fit_gen requires this function\n",
        "        return len(self.indexes) // self.batch_size\n",
        "\n",
        "    def on_epoch_end(self):\n",
        "        self.indexes = np.random.permutation(self.indexes)"
      ]
    },
    {
      "cell_type": "code",
      "execution_count": null,
      "metadata": {
        "colab": {
          "base_uri": "https://localhost:8080/"
        },
        "id": "CNijFTSufdUu",
        "outputId": "5c968647-39f6-403f-805d-fc69090b1197"
      },
      "outputs": [
        {
          "output_type": "stream",
          "name": "stdout",
          "text": [
            "(1024, 27) (1024, 26) (1024, 26)\n"
          ]
        }
      ],
      "source": [
        "train_dataset = Dataset(train, tknizer_ita, tknizer_eng, 27)\n",
        "test_dataset  = Dataset(validation, tknizer_ita, tknizer_eng, 27)\n",
        "\n",
        "train_dataloader = Dataloder(train_dataset, batch_size=1024)\n",
        "test_dataloader = Dataloder(test_dataset, batch_size=1024)\n",
        "\n",
        "print(train_dataloader[0][0][0].shape, train_dataloader[0][0][1].shape, train_dataloader[0][1].shape)"
      ]
    },
    {
      "cell_type": "code",
      "execution_count": null,
      "metadata": {
        "colab": {
          "base_uri": "https://localhost:8080/"
        },
        "id": "SPOr_MmWKyg1",
        "outputId": "2485e9ac-5f63-4f61-bfbb-63926f74bfa4"
      },
      "outputs": [
        {
          "output_type": "stream",
          "name": "stdout",
          "text": [
            "Italian Vocab Size: 26409\n",
            "Italian Sentence Input Length: 27\n"
          ]
        }
      ],
      "source": [
        "ita_vocab_size = len(tknizer_ita.word_index)+1 #our word_index doesn't include pad token as it was added later as 0 so (+1) for that\n",
        "ita_inp_len = 27\n",
        "print('Italian Vocab Size:', ita_vocab_size) \n",
        "print('Italian Sentence Input Length:',ita_inp_len)"
      ]
    },
    {
      "cell_type": "code",
      "execution_count": null,
      "metadata": {
        "colab": {
          "base_uri": "https://localhost:8080/"
        },
        "id": "ChdjVW84Zb0e",
        "outputId": "f4b3830e-e1ca-489c-841d-48509759bb89"
      },
      "outputs": [
        {
          "output_type": "stream",
          "name": "stdout",
          "text": [
            "English Vocab Size: 12936\n",
            "English Sentence Input Length: 26\n"
          ]
        }
      ],
      "source": [
        "eng_vocab_size = len(tknizer_eng.word_index) \n",
        "eng_inp_len = 26\n",
        "print('English Vocab Size:', eng_vocab_size) \n",
        "print('English Sentence Input Length:',eng_inp_len)"
      ]
    },
    {
      "cell_type": "markdown",
      "metadata": {
        "id": "S8RDrP4xKabR"
      },
      "source": [
        "## <font color='blue'>**Implement custom encoder decoder**</font>"
      ]
    },
    {
      "cell_type": "markdown",
      "metadata": {
        "id": "A45uc0JILMlV"
      },
      "source": [
        "<font color='blue'>**Encoder**</font>"
      ]
    },
    {
      "cell_type": "code",
      "execution_count": null,
      "metadata": {
        "id": "vgy_Ex1rtmRZ"
      },
      "outputs": [],
      "source": [
        "from tensorflow.keras.layers import Embedding, LSTM, Dense, Concatenate, Input, TimeDistributed"
      ]
    },
    {
      "cell_type": "code",
      "execution_count": null,
      "metadata": {
        "id": "9cex2XfCLOew"
      },
      "outputs": [],
      "source": [
        "class Encoder(tf.keras.Model):\n",
        "    '''\n",
        "    Encoder model -- That takes a input sequence and returns encoder-outputs,encoder_final_state_h,encoder_final_state_c\n",
        "    '''\n",
        "\n",
        "    def __init__(self,inp_vocab_size,embedding_size,lstm_size,input_length):\n",
        "        super(Encoder,self).__init__()\n",
        "        self.vocab_size = inp_vocab_size\n",
        "        self.embedding_dim = embedding_size\n",
        "        self.input_length = input_length\n",
        "        self.lstm_size = lstm_size #number of lstm units\n",
        "\n",
        "        #Initialize Embedding layer\n",
        "        self.embedding = Embedding(input_dim=self.vocab_size, output_dim=self.embedding_dim, input_length=self.input_length,\n",
        "                           mask_zero=True, name=\"embedding_layer_encoder\")\n",
        "        \n",
        "        #Intialize Encoder LSTM layer\n",
        "        self.lstm = LSTM(units = self.lstm_size, return_sequences=True, return_state=True, name='lstm_encoder')\n",
        "\n",
        "    def call(self, input_sequence, states):\n",
        "        '''\n",
        "          This function takes a sequence input and the initial states of the encoder.\n",
        "          Pass the input_sequence input to the Embedding layer, Pass the embedding layer ouput to encoder_lstm\n",
        "          returns -- encoder_output, last time step's hidden and cell state\n",
        "        '''\n",
        "        input_embed = self.embedding(input_sequence)\n",
        "        self.lstm_output, self.lstm_state_h,self.lstm_state_c = self.lstm(input_embed, initial_state = states)\n",
        "        return self.lstm_output, self.lstm_state_h,self.lstm_state_c\n",
        "\n",
        "    def initialize_states(self,batch_size):\n",
        "      '''\n",
        "      Given a batch size it will return intial hidden state and intial cell state.\n",
        "      If batch size is 32- Hidden state is zeros of size [32,lstm_units], cell state zeros is of size [32,lstm_units]\n",
        "      '''\n",
        "      \n",
        "      initial_state_h = tf.zeros(shape = (batch_size, self.lstm_size))\n",
        "      initial_state_c = tf.zeros(shape = (batch_size, self.lstm_size))\n",
        "      return  (initial_state_h , initial_state_c)\n"
      ]
    },
    {
      "cell_type": "markdown",
      "source": [
        "<font color='blue'>**Decoder**</font>"
      ],
      "metadata": {
        "id": "vtde4jSUyaEe"
      }
    },
    {
      "cell_type": "code",
      "execution_count": null,
      "metadata": {
        "id": "x1ES1-sJLOe4"
      },
      "outputs": [],
      "source": [
        "class Decoder(tf.keras.Model):\n",
        "    '''\n",
        "    Decoder model -- That takes a input sequence and returns output sequence\n",
        "    '''\n",
        "\n",
        "    def __init__(self,out_vocab_size,embedding_size,lstm_size,input_length):\n",
        "        super(Decoder, self).__init__()\n",
        "        self.vocab_size = out_vocab_size\n",
        "        self.embedding_dim = embedding_size\n",
        "        self.input_length = input_length\n",
        "        self.lstm_size = lstm_size #number of lstm units\n",
        "\n",
        "        #Initialize Embedding layer\n",
        "        self.embedding = Embedding(input_dim=self.vocab_size, output_dim=self.embedding_dim, input_length=self.input_length,\n",
        "                           mask_zero=True, name=\"embedding_layer_decoder\")\n",
        "        \n",
        "        #Intialize Decoder LSTM layer\n",
        "        self.lstm = LSTM(units = self.lstm_size, return_sequences=True, return_state=True, name='lstm_decoder')\n",
        "\n",
        "\n",
        "    def call(self, input_sequence, initial_states):\n",
        "        '''\n",
        "          This function takes a sequence input and the initial states of the encoder.\n",
        "          Pass the input_sequence input to the Embedding layer, Pass the embedding layer ouput to decoder_lstm\n",
        "        \n",
        "          returns -- decoder_output,decoder_final_state_h,decoder_final_state_c\n",
        "        '''\n",
        "        target_embed = self.embedding(input_sequence)\n",
        "        decoder_out, decoder_state_h, decoder_state_c = self.lstm(target_embed, initial_state = initial_states)\n",
        "        return decoder_out, decoder_state_h, decoder_state_c"
      ]
    },
    {
      "cell_type": "markdown",
      "source": [
        "<font color='blue'>**Encoder-Decoder**</font>"
      ],
      "metadata": {
        "id": "tu8p8uNiydDT"
      }
    },
    {
      "cell_type": "code",
      "execution_count": null,
      "metadata": {
        "id": "QDTNOFNeKjQ6"
      },
      "outputs": [],
      "source": [
        "class Encoder_decoder(tf.keras.Model):\n",
        "    \n",
        "    def __init__(self,*params):\n",
        "        super().__init__()\n",
        "        self.vocab_size_in = params[0]\n",
        "        self.vocab_size_out = params[1]\n",
        "        self.inp_len_enc = params[2]\n",
        "        self.inp_len_dec = params[3]\n",
        "        self.embed_size = params[4]\n",
        "        self.lstm_units = params[5]\n",
        "\n",
        "        \n",
        "        #Create encoder object\n",
        "        self.encoder = Encoder(inp_vocab_size = self.vocab_size_in, embedding_size = self.embed_size ,lstm_size = self.lstm_units, input_length=self.inp_len_enc)\n",
        "        #Create decoder object\n",
        "        self.decoder = Decoder(out_vocab_size = self.vocab_size_out, embedding_size = self.embed_size ,lstm_size = self.lstm_units, input_length=self.inp_len_dec)\n",
        "        #Intialize Dense layer(out_vocab_size) with activation='softmax'\n",
        "        self.dense = Dense(self.vocab_size_out, activation='softmax') \n",
        "    \n",
        "    \n",
        "    def call(self, input):\n",
        "        '''\n",
        "        A. Pass the input sequence to Encoder layer -- Return encoder_output,encoder_final_state_h,encoder_final_state_c\n",
        "        B. Pass the target sequence to Decoder layer with intial states as encoder_final_state_h,encoder_final_state_C\n",
        "        C. Pass the decoder_outputs into Dense layer \n",
        "        \n",
        "        Return decoder_outputs\n",
        "        '''\n",
        "        input_sequence, target_sequence = input\n",
        "       \n",
        "        init_state = self.encoder.initialize_states(1024) #batch_size=1024 (self.batch_size)\n",
        "       \n",
        "        encoder_out, encoder_state_h, encoder_state_c = self.encoder(input_sequence, states = init_state)\n",
        "       \n",
        "        decoder_out, decoder_state_h, decoder_state_c = self.decoder(target_sequence, initial_states = (encoder_state_h, encoder_state_c))\n",
        "  \n",
        "        dense_out = self.dense(decoder_out)\n",
        "        \n",
        "        return dense_out"
      ]
    },
    {
      "cell_type": "markdown",
      "source": [
        "<font color='blue'>**Model Training and Evaluation**</font>"
      ],
      "metadata": {
        "id": "xP27LKigygIs"
      }
    },
    {
      "cell_type": "code",
      "execution_count": null,
      "metadata": {
        "id": "aodLg8UggMVN"
      },
      "outputs": [],
      "source": [
        "import os \n",
        "import datetime\n",
        "from tensorflow.keras.callbacks import ModelCheckpoint, TensorBoard, ReduceLROnPlateau, EarlyStopping"
      ]
    },
    {
      "cell_type": "code",
      "source": [
        "%load_ext tensorboard"
      ],
      "metadata": {
        "id": "clpePJi1ySJN"
      },
      "execution_count": null,
      "outputs": []
    },
    {
      "cell_type": "code",
      "execution_count": null,
      "metadata": {
        "id": "nWYkPq7u8MwM"
      },
      "outputs": [],
      "source": [
        "#callbacks \n",
        "tensorboard_cb_dict = {}\n",
        "for i in range(1,5):\n",
        "    log_dir = os.path.join(f'logs_model_{i}','fits', datetime.datetime.now().strftime(\"%Y%m%d-%H%M%S\"))\n",
        "    tensorboard_cb_dict[i] = TensorBoard(log_dir=log_dir,histogram_freq=1,write_graph=True)\n",
        "\n",
        "reducelr_cb = ReduceLROnPlateau(monitor='val_loss', factor=0.5, patience=2, verbose=0, mode='min', min_delta=0.0001, min_lr=0.0001)\n",
        "\n",
        "earlystop_cb = EarlyStopping(monitor='val_loss', min_delta=0.0001, patience=7, verbose=1, mode='min', restore_best_weights=True)\n",
        "\n",
        "callbacks_1 = [tensorboard_cb_dict[1], reducelr_cb, earlystop_cb]"
      ]
    },
    {
      "cell_type": "code",
      "execution_count": null,
      "metadata": {
        "id": "5YLUc4Uj_tNT"
      },
      "outputs": [],
      "source": [
        "#model build\n",
        "tf.keras.utils.set_random_seed(0)\n",
        "tf.keras.backend.clear_session()\n",
        "\n",
        "inp_vocab_size = ita_vocab_size\n",
        "out_vocab_size = eng_vocab_size\n",
        "encoder_input_length  = ita_inp_len\n",
        "decoder_input_length = eng_inp_len\n",
        "embedding_size = 20\n",
        "lstm_units = 256\n",
        "\n",
        "# Create an object of encoder_decoder Model class \n",
        "model = Encoder_decoder(inp_vocab_size, out_vocab_size, encoder_input_length, decoder_input_length, embedding_size, lstm_units)"
      ]
    },
    {
      "cell_type": "code",
      "execution_count": null,
      "metadata": {
        "colab": {
          "base_uri": "https://localhost:8080/"
        },
        "id": "az0aLq7ckMoi",
        "outputId": "51193584-1035-4070-b89e-942657892989"
      },
      "outputs": [
        {
          "output_type": "execute_result",
          "data": {
            "text/plain": [
              "(276, 69)"
            ]
          },
          "metadata": {},
          "execution_count": 39
        }
      ],
      "source": [
        "#steps \n",
        "train_steps=train.shape[0]//1024\n",
        "valid_steps=validation.shape[0]//1024\n",
        "\n",
        "train_steps, valid_steps"
      ]
    },
    {
      "cell_type": "code",
      "execution_count": null,
      "metadata": {
        "colab": {
          "base_uri": "https://localhost:8080/"
        },
        "id": "kcL61dJXLOfB",
        "outputId": "27bfe670-d66e-4656-cb7e-86953a52ae26"
      },
      "outputs": [
        {
          "output_type": "stream",
          "name": "stdout",
          "text": [
            "Epoch 1/20\n",
            "276/276 - 84s - loss: 1.3146 - val_loss: 1.1410 - lr: 0.0100 - 84s/epoch - 303ms/step\n",
            "Epoch 2/20\n",
            "276/276 - 75s - loss: 0.9164 - val_loss: 0.6538 - lr: 0.0100 - 75s/epoch - 273ms/step\n",
            "Epoch 3/20\n",
            "276/276 - 75s - loss: 0.4893 - val_loss: 0.3847 - lr: 0.0100 - 75s/epoch - 272ms/step\n",
            "Epoch 4/20\n",
            "276/276 - 76s - loss: 0.3032 - val_loss: 0.2846 - lr: 0.0100 - 76s/epoch - 274ms/step\n",
            "Epoch 5/20\n",
            "276/276 - 75s - loss: 0.2176 - val_loss: 0.2388 - lr: 0.0100 - 75s/epoch - 273ms/step\n",
            "Epoch 6/20\n",
            "276/276 - 75s - loss: 0.1711 - val_loss: 0.2151 - lr: 0.0100 - 75s/epoch - 272ms/step\n",
            "Epoch 7/20\n",
            "276/276 - 75s - loss: 0.1426 - val_loss: 0.2005 - lr: 0.0100 - 75s/epoch - 273ms/step\n",
            "Epoch 8/20\n",
            "276/276 - 75s - loss: 0.1229 - val_loss: 0.1925 - lr: 0.0100 - 75s/epoch - 272ms/step\n",
            "Epoch 9/20\n",
            "276/276 - 75s - loss: 0.1092 - val_loss: 0.1875 - lr: 0.0100 - 75s/epoch - 272ms/step\n",
            "Epoch 10/20\n",
            "276/276 - 75s - loss: 0.0983 - val_loss: 0.1852 - lr: 0.0100 - 75s/epoch - 272ms/step\n",
            "Epoch 11/20\n",
            "276/276 - 75s - loss: 0.0906 - val_loss: 0.1840 - lr: 0.0100 - 75s/epoch - 273ms/step\n",
            "Epoch 12/20\n",
            "276/276 - 75s - loss: 0.0839 - val_loss: 0.1829 - lr: 0.0100 - 75s/epoch - 272ms/step\n",
            "Epoch 13/20\n",
            "276/276 - 75s - loss: 0.0789 - val_loss: 0.1840 - lr: 0.0100 - 75s/epoch - 272ms/step\n",
            "Epoch 14/20\n",
            "276/276 - 75s - loss: 0.0746 - val_loss: 0.1844 - lr: 0.0100 - 75s/epoch - 273ms/step\n",
            "Epoch 15/20\n",
            "276/276 - 76s - loss: 0.0544 - val_loss: 0.1700 - lr: 0.0050 - 76s/epoch - 274ms/step\n",
            "Epoch 16/20\n",
            "276/276 - 76s - loss: 0.0452 - val_loss: 0.1700 - lr: 0.0050 - 76s/epoch - 274ms/step\n",
            "Epoch 17/20\n",
            "276/276 - 75s - loss: 0.0417 - val_loss: 0.1720 - lr: 0.0050 - 75s/epoch - 273ms/step\n",
            "Epoch 18/20\n",
            "276/276 - 75s - loss: 0.0339 - val_loss: 0.1687 - lr: 0.0025 - 75s/epoch - 272ms/step\n",
            "Epoch 19/20\n",
            "276/276 - 75s - loss: 0.0309 - val_loss: 0.1699 - lr: 0.0025 - 75s/epoch - 271ms/step\n",
            "Epoch 20/20\n",
            "276/276 - 75s - loss: 0.0294 - val_loss: 0.1714 - lr: 0.0025 - 75s/epoch - 272ms/step\n"
          ]
        }
      ],
      "source": [
        "# Compile the model and fit the model\n",
        "model.compile(optimizer=tf.keras.optimizers.Adam(learning_rate=0.01), loss='sparse_categorical_crossentropy')\n",
        "history = model.fit(x = train_dataloader, steps_per_epoch=train_steps, epochs=20, validation_data=test_dataloader, validation_steps=valid_steps, verbose=2, callbacks=callbacks_1)"
      ]
    },
    {
      "cell_type": "markdown",
      "source": [
        "- Blue represents Validation\n",
        "- Orange represents Train"
      ],
      "metadata": {
        "id": "GRb213RSWTCl"
      }
    },
    {
      "cell_type": "markdown",
      "source": [
        "![Screenshot 2022-08-29 210823-mod1 loss.png](data:image/png;base64,iVBORw0KGgoAAAANSUhEUgAAAY4AAAEVCAYAAAD3pQL8AAAAAXNSR0IArs4c6QAAAARnQU1BAACxjwv8YQUAAAAJcEhZcwAAEnQAABJ0Ad5mH3gAAFkOSURBVHhe7Z0HfBzV1fbPNkmrXixZrriBjRvNGFOMMc305oJpwYY3QIAkJC8h5qMYU5JQQoCAY4eXmAChhgAhtFANGJvu3nu3el9p63efMzPSer0qK+2MV9L5/zyettq+95lzz73PsR155JEhEgRBEIQ2YtfXgiAIgtAmRDgEQRCEmBDhEARBEGJChEMQBEGIiU4tHPPnz6cPPviAxo4dqx9pO/gb/O3rr7+uHxEEQRDagkQcgiAIQkyIcAiCIAgx0e55HCeccAJdfvnlVFBQQDt27OAun6+++orPzZgxg/Lz82nTpk10zjnnUHp6Oq1evZq7lvbt28e3AbiPyZMnU79+/aikpITeeecdXsI599xzeenRowcVFRXRiy++2Pg4uL8BAwbQU089RWeeeSY/l82bN9M//vEPWrFiBd+mOdBVdd9991FNTQ0/B4PWnlPPnj1p5syZNHr0aN5fvnw5LViwoPF1paWl0dVXX03jxo2jpKQk2rhxI73yyiutPh9BEITOgqOwsPAefbvNXH/99XTrrbdyY15XV0fDhg2j0047jaqrq1kgfvazn9Hpp59Oxx9/PIVCIcrIyKBjjjmGG9Pvv/+eysvL6cYbb6TbbruNevXqRbW1tSwAZ5xxBu8vXLiQH+fmm2+mX/ziF5STk8OPM2TIEBYIm81GP/74I51//vncwKOxT05O5oZaCSGNHDmSvv32W6qsrOT7iUafPn3o1FNPJa/XS6+++iofa+05HXLIIfTII4/QSSedRA0NDZSSksKvKfx1PfbYY3TBBRdQIBAgu93Oz2f8+PG0ZcsWFlhBEITOTsxdVaNGjeIGu7S0lK655hqaOnUq3X333eTz+ejss8/Wb0W8P2/ePLrooovokksuoW+++YYb4vPOO4/vA+uKigqaNWsW3wfua+vWrdyYT5o0iU488UT+WzS2xuPgthAQPA6u7IHD4aCXX36ZnxPuE4LSu3dvGj58OJ9vK215ThMnTqSBAwfSxx9/TBdeeCE/5kcffcSCAqGEyIwYMYKjC9wXnj+eW25uLv+tIAhCVyBm4UAUgW6oH374gbuFwCeffMJdNX379m0c4YToY82aNbyNq/f333+fxQTRCe4jLy+PFi9eTIsWLeLb4L5wVe92u+moo46iI444gru4vvvuu8bHwW3RVfX1119ztAPQ0EOUDLZv304ul4u7lGKhLc8JooVIYvDgwTRmzBi+zW9/+1s67rjj6K9//Suf9/v9pKI4Fhrw6KOP8nty//33874gCEJnJ2bhQB4BDTOupnF1byyHH364fovo7N69m/MJiBDQ9YPupuLiYv2sBq7uIS7odoI4oaunqqpKP6vx7LPP0sMPP0zbtm3TjxwI/i41NVXfaxtteU7o0nrjjTdYGCAUX375JUdV6CoDEJy///3v/P784Q9/YBF64YUXOEcjCILQVYhZOHBVjbwAkuF33nnnfstDDz1Eq1at0m+5P7hqdzqdvI1oBFfuaKjDQS4EjT5ADgH5kcjbmEVbnhNAjuOss86i2bNnczSEfMrvf/97FlLw/PPPc74HOSB0aSGXgq68G264gc8LgiB0dmIWDkQOwWCQIw9jxBEWNKJLlizhbimAxja8wUX3DrqekEDeuXMn38fQoUP1sxronkJEgqt+XOmjIUdOIRw00rjKRy4hnrTlOf3qV7+i5557jrum3n77bbrlllvopZde4iQ5BOSqq67iCGP69OksGhDTxx9/nLuvjFFYgiAInZ2YhQMNJkYIofFEw4hcwrRp0+j//u//uPsGeQ6AhPBPfvITbuBxNY7GtL6+nsUFQrN+/frG+8DfYKQWRiuhCwr5kPDHwTncBrdFkhkNfHORTXtpy3NCPuXQQw9lgUCOA68No6YQGUFQMVwYf3fppZdyQn3QoEGNw3J37dqlP5IgCELnJubhuOjv37BhA1+Zn3zyydyIonFFVw/mM2BYKkYboYsHI58gHqeccgp3Ab322mucA8B9IPFs3McVV1zBw3X37NlDf/rTn3huBG6DRDcaZ3QNYc4Ibo+kPHIciFzwONnZ2fTpp582Nsx4rMMOO4yWLl3KQ3KbI3I4blueE+4TuRDkNDBSDAuS9IguEAVhMAByIUiGY0guBAQRE94TzDnBcxYEQejsdKiQE66o0dCigQ+PAIyJeXfddRd3XeEqHI1u+OQ/g+buIxzcBlf6ECxjhFVrICF9++23Nw7bDQcigST73Llz9SP705bnhLkZiCTCu+fCgXhg/klzr1sQBKGzYkoFwHDhCB8qayXoQkM3kpGQDwddXevWrWuzCAmCIAhNdFnhEARBEMzBFOFANw1yHM114wiCIAidF1OEQxAEQei6xDwcVxAEQejeiHBE8Mc//pHnccQCDBExMRBrQRCErk67hANDUbF0RZDUh1V7LMBXC0N4sRYEQejqtEs4YLWBRRAEQeh+xDRzHDUrrrvuOp6ZjRnSqEOB2dCw2sCEu5tuuontRzCHYu3atTzRDuBqHCZ/qG+Bv4W1OmabY6jutddeS0cffTQ77EaCyXszZ87kwlCozwGDRdTnwPPAfcEvCzO8MTsdNThQRMp4TNwGj4n7x3ZZWRk/TwPMGkehKFihhD9fzPbG4+D+Ih+3OY499lh+DNThMGarX3bZZXz/qMuBEWYrV67k46Cl59ba8xYEQTjYxCQcmE1tlGiFdThMDNFY/8///A835JhYB1DUCKZ/8H+CaMBiHJ5NsPeA/TosPTCrGlYfmN0N4cD9wN7DAKKBfAMeDw06rDtQ4wLW7IagQHxgnIgF94niTXhMiNg999zDxopw2cVzgVAYVfhQ6Q8RE+4HrwHdbhhCjKJMF198Mf8dXis8qHCfEAaIQnMNeKRwoAog8h2wWYFo4P2AyMIaBUKE2hx4PXhd4c+tf//+zZ6T6oGCICQKMXVVffHFF3x1DwsNLNhGowa/qPfee4+jjSuvvJIbSDS8EyZM4GPIGWBSIGp5o2GGSBjgPLyo4EEVDq640XA+88wz3AjDcBC1OVBlzwAigUp8uKpHLQw08jgPDymI2B133MH3jzUEAuIG7ytUEMTMcUQXuG/UKEdZWiO5DcPCn/70p7z/r3/9i7KystrsxovHg8cVRAjPDQu24aGFc/C5Qq2QJ598kvexhvsuxKelc4IgCIlCh0dVwY4cdcHR7YQaFbhiRjcPurIQCeAqGg2+0VWDCYEej4e3WwLdWbBVhwDhPtHow57cqPyHc+Gmgbh/2IsgeoCB4caNGxsr+WENgcNxNOAQAgiHMTkRtUXuu+8++vzzz3kfZXENOxI4+iJygNtvW0BXHCIVFHky+Oqrr/g+cA5+WxC1q6++mn75y1+yMSLEDlFKS+cEQRAShbgMx0UBJxQrQhdPJLhibg/4OyzotkGDiwXdN6jTEQ10I0FYEFmgkS4pKdHPaEBkcBz3CdEJryyI6OnDDz+Mi3cV7h/dY+Gihu41HMO5N998k+69917ulkP0BbdgLOjSa+mcIAhCotBh4UBuAMWOUJsbXVeYA7Fp0yb9rNZgIxJABcBYQFSCxvapp57ibhtj+d///V/9FvuDxhWPg2gBf4dIJxyUe8VxCAoEBPsGyE/MmjWLo5GOAnt5FHbCsF4DWLHDSRfn8H7h8X/zm9/w4/35z3/mbjLYxrd0ThAEIVFol3CgAURDGH4ljMYRo5OQwA7vk0fuArdFMSecxzo8MkEuA0skX3/9NTfAaDTxd1ggIui2AkjOQ7BwHA0/ks4otIR8AqzMYcOOUVEA3T7o8sLxt956i2t3oJFG44wEOUZmIQmP7rWOgi4qjMJCrRA8LyzIueAYziGSQJeeUWoWoGsL0VJL5wRBEBKFdgkHhq5CKF5++WWuhPfJJ59ww4wqecgVoEsJYEQRRk598MEHnPjFeVzZhzeEEBokoTGyKhyUZH3jjTcaR0phgRigRC1AdxPqfPznP//h2hrIffzzn//kkU0QGAzvhSDh9ig2hWJKOI68BupwIKLBqK3PPvuMReeVV17h59lRkOtBNUQIGp4XFuRHcAznnn76ac63/PrXv+Z95IfQRYb3qaVzgiAIiUK7TQ4xyggNIkZaATSUGAWFJHVk4SIMRUX/PiINVNJDRT1c3WOUVVtAwhvdTGhMAYbb3nrrrVxREGKEbikMg4104m3pOQG8BnRZtcXFF0N4Z8yYwZFOOBDJ5opCIaoBxvMOB9Fac8WpWjonCIJwsDHdHRddNpgYiCv/xYsX81BVDL/F1f2cOXP0W8VGuHA0V8VPEARBMIe4jKpqibfffptF4rjjjuORV5jQhhrdjzzyiH6L2EFXF3IGiEIEQRAEa5F6HIIgCEJMmB5xCIIgCF0LEQ5BEAQhJkQ4BEEQhJgQ4RAEQRBiQoRDEARBiAkRDkEQBCEmRDgEQRCEmBDhEARBEGJChEMQBEGICREOQRAEISa6reXI9OnT9a0mUGUQ1fdg524FcBc+7bTTuEQsHHxTlYz30UuCXNszRMekE71bTvSnXTbtYBxAjZOcnBx+nVaRl5dHXq+X67hYBRyTUXcF9vtWgLouWFCJ0ioKCgrY1bk1Z+d4AYdrlF/evn27fsR8UJoB9XxQoM0qUDICBehQNtoK8Pry8/P5+2oVaAPgvt1exKsqjEsvvZTt3p977jn9iLnghw9redQKgfU6wr+hGU4+d2y2k341OI08gRCdtbicqvzx+ZhSU1O5Id+xY4d+xHxgbw9DShTasgJUUYQ1/bZt2ywrgoUGDsvu3bv1I+aD2v4QY6sEGRU2USIBVv8oMGYF2dnZ/JuMVhbBLPr168dCBSNVK8Drg1g1VxbbDFC/KLK8dixIV1UCEVSL8Xv8utxHZb4guR02mtgjSTsoCIKQAIhwJBjVfsgHqUiDaFGpVknx9IKOl7QVBEGIFyIcCUa13iWV5rTRpyVe3j4p10WD0xy8LQiCcLAR4UgwPFrAwXxR6qX1NVofvXRXCYKQKIhwJBi+YFPSMdVho8/17qoz8qW7ShCExECEIwGp1bur0p02+kTvrjos3UHjcly8LQiCcDAR4UgASh1Z+paGkefIcNppTbWfFpVpUcfEfOmuEgTh4CPCcRDZXHgCXb95EL2eeaZ+RANzN4Ddpi2fFGtRx5n5yRyFCIIgHExEOA4iOTU7KMmmiURN7iBeg/qIPMcnJQ1U7A1StstGp0qSXBCEg4wIx0EEwtE3SYsmyvqM5bVBvR51QDgqfCH6XM91yOgqQRAONiIcB5m+yQ28Lu91JK8NmvIcWteUkSQ/RQnHoFSZ0yEIwsFDhOMgM0gXjpDNQb6UpiS5kedIQpJD8VWZj1ZX63M6JEkuCMJBpNuaHA4bNkzfamLixInsiPnyyy/rR8wFRmMnnHURPbw1m8rsmdRv68fUd/tCPge5GJqm6fo2T5AnBl7d20XX93PRmtogXbuyfc6dbrebXXmtdOKE8yfccSsrK/Uj5gKTwwEDBrCRo1Umh+np6bzs3btXP2I+hYWFVFNTw4sVwOQQBoAw47PK5DArK4vdY4uLi/Uj5gMH4LKyMvJ4PPoRc8Hrw2dppeswjE537typ78VOtxWOn/zkJzR8+HB9TwO22KtWraJ3331XP2IucP485vjxNH9LMq229aI0byWdtqnJmfeQpCChp6rUb6OKgI36uoL0534eDhPv3pNCyzyxd1nBVh0/RivdRiFUPp/PMhdXCAd+/GjErRIOfHfgPGxlAwdBhoOrVbbqEA40cLjosEo44Djscrm4IbcKuDnjIsdKW3VcRFrprIy2Z/ny5fpe7IitehgHw1b9ksmTacGqGvraPZqPjf74TrL7te6rnsl2yk2yU50/pKIOra7EH0dk0Kn5SfTKrnr6w4bYGwyxVTcHsVU3B7FVNwexVe/koEsqz19BSR7tiqqi5yheAyPPkRo2d+NjPUmOYblpjqbjgiAIViHCkQCkh+rIXa1V5CvrPYbXoE4XDpCsJ8kxumpPfZDyVTSCyEMQBMFqRDgSAFfIr4RD6+KoyR3Ma4ARucZcQMznAJjfYQzNlTkdgiAcDEQ4EgAWjqpd5PRqOYua3CG8BjV6YSd3WB7csCCBcPQNPyEIgmABIhwJgFMJh6u+sjHqKO0T3l2lrWF4aPBDZdOcjuPFMVcQBIsR4UgA7KT1Rxl5jvLex/AaGHkOpDjC/Q0X646543JFOARBsBYRjgTBHvSRu2on2QNaN1RdZl9eN0QYHhosLteEAxFHXpJ8jIIgWIe0OAkC5m4k1xZzrgNUhg3LNQo7hQvH9xU+2lwXILc6Jt1VgiBYSZcTDszgPfroo/W9zoNDjzQah+Xul+fQhCMtohbHEr276njprhIEwUK6jHCceuqpNG/ePHrrrbdo1qxZ+tHOg9FF5a7RhMOXnEkNqXm8bQgHDA/16RyM0V2FkrLh0YggCIKZdBnhGD16NH399df0xBNPWObdE09sQW2UlLtyJ6VWanYg1XmH8dqYQQ7CBWJJmTYZELYkEnUIgmAVXUY4HnvsMVqwYAEFAvr41U6IXRePVH1YrtFdBdkIL+xkgNTHkrAkuSAIghVIcjyBsAc0c8OUKs3uuC6rP/mT0rRtXTiQDA9nsYo6wLjcJPa9EgRBMJsu54577rnn0pQpU2jmzJn6kejAVv3YY4/V9zRg37xs2TJ6//339SPmAnvz448/njZt2kQbNmwgryOF6lwZHGJ81+t0qk7KoWP3fEh9qzdQmj1EhU5tFvkmb9NscRyf26eGMtT6vqJU+tHj1M9EB7bqmZmZVFRUpB8xH9iqox6HVXUj4I4L51jYqlsVgcJ1GEtHHEdjBQ6ncHC1ysXV4XCwrTocgK1yx0WNE9iOW2mrDtfqqqoqy2zV0e7gs9yzR8tvWgHanqVLl+p7sdNthQP1GiI566yzuKF58cUX9SPmgi/LhRdeyB/g999/T0G7izxpBXxuX59xVNLraMotXklDVr7Ek/+GpGmCAYt13WWdue+wFDqzh4te3O2lx7dqUUtzoHFDQ96RIi6xgh8ibNWtLOQ0cOBALoxjZSEn2Kpb+eOHFTcs1a0s5NS/f3/asmWLpYWcYDtu5YVO3759WaistFWHIKMMgFWgtEJHvqvdVjiicTDqcUyePJlF45tvvuFjxsQ/j1rvGDGZt4/47yyyhQIsHC67jYoaglTq1aIPcEFhMs0Zlk4bawM09duWa15IPQ5zkHoc5iD1OMxB6nF0MSAQIK1iG/tXgeq8Q3lt5Dkih94iQY4Z5hCWo7IkSS4IgrmIcCQYxkRAJMrTKrQrkEjhiCzghAhEJgMKgmAVXU443nnnnXZ1UyUKRtnYoMNF6WWbeLusj5bEN/IaNqUbRmEng/DJgIIgCGYiEUeCAbNDELI7Kb18MwtJwOWm2uwB3B3VVNhJWxsYEceoTCcNS295ZJUgCEJHEOFIMGwBXTjIxjmO5rqrIvMcGGn1jTEZULqrBEEwERGOBMMWCirJ0MQh5HBRht5dZbjlNjcREEh3lSAIViDCkYA05jnsTsoo3cDbnoxeVJ/es9G3CsNyXRHaYRR3GquE45DIvixBEIQ4IcKRgBjWI5gQiOJOGJoL0F1lRBwgsrtqXY2fVlRJSVlBEMxFhCMBsRt5DhVxhGz2xtFVkW657oj6HEBKygqCYDYiHAlI48gqJRqc5yhdz/tV+YeTLyWrKUEeMSQXLC7X5oEg4ihIlo9XEIT4Iy1LAmILNhlRobsKEUdKjWa5gO4qI+JIduxf2AksrfSz9QiKPkl3lSAIZiDCkaA4jDyHijhAetlGXkfmOaKOrtKt1mVYriAIZtDlTA7bCmzVYdccDgzc4KiK8rNWkJOTwyVv165dS6tWrdKPajS40tWSpgTER2kNZVSUNYSWDrqYiz1NXPEkDXb5yGULUanfRmURPn7HpIfod/2DVK0ClxkbHVQT5qTrdrvZOM5KF1cYqsFWHVbVVgCTQxjVwXDQKpND1LrHYqWLK0wyUe3SqoqXMDmEsSIMMq0yOUQJAPxOrbSrh+EgDDk9Ho9+xFzw+vLz82nXrl36EfNB27Nu3Tp9L3YchYWF9+jb3Qo0LLCjDl9gN44f4cqVKykYDJq+wBVz8ODB7PyJhjz8HIIKrz2JguoH6miooeT6CtrbYxT5nW5Kr95J2fXF5CJ1O3XbCu/+97urPkhn5tooTwUc62qDtLku0HjObrfzFxUW5+F/Y+aCGiA+n49/iNHOm7HAqba8vJyFI9r5eC+oVYGGFeIY7bwZC5yOUTMCS7Tz8V4gFrCPx/uK8gPRbhPvBbUqcCGA32e082YseF/hjAtH52jn473g9eGCDmIV7bwZC9oefI7tpdtGHNFIBFt1A+Q2MG8DpNQWkT3gpe2jplNZ72Oox/avaNTGt6gwxa4EJkTrw0MKnTsOS6MpvVPozT0NNGddU70GsVU3B7FVNwexVTcHsVXvohgjq4CR5zBGV3GCXDetcqhGEonwSMKH5UYZtSsIgtBuRDgSGEQZIKSiD4BZ5A5/PTWk5VNJ1iB11ceHyR1lkjhqdKDYU2GynY7P3T+XIwiC0BFEOBIYozYHrEeAs6F6v8mARtThjhJxYOQVxAPIsFxBEOKJCEcCYzMmAupdVWC/7ip9WG60IblAZpELgmAGIhwJjGE9ErQ5OFkOMko008O6rH5UllrI2ylKOGxRtAMRByKPgakOGpMt4iEIQnwQ4UhgwhPkIYfWXZVcV9w4GbAoR6vRAaJ1VyHH0dhdJVGHIAhxQoQjkQmFeMIfMCIOYFitl+cOJZ+R52itu0ryHIIgxImEFw7Mxr3qqqtozpw5dMkll+hHozNmzBi6/fbb6Te/+Q2NGDFCP9q5abRYD89zlDTlOcpTevB2c8KBiAPSMjzDSSPUIgiC0FESWjggGg899BBNnDiRJ+RMnz6dnnzySf3s/tx8881033338SQlzAB/+OGHWXA6O+EW6wapVTsbR1ftzRvJa3czn+ROT6CxHrl0VwmCEA8SWjimTp3KniqINp544gkWBni6XHDBBfotNCAw48aNo9dee41vg6jjs88+owkTJui36LzYwrqqwsUje+9yXu8uOILXTruNXM18mlJSVhCEeJLQwmGYDsI6AqxYsYJN5Pr27cv7Bpg+Dw+mcIsAeE4h+ujsGBEHMOZzgOx9y8jpraHytF5U1WMoH4uWIAeGW+4x2S4a6I5+G0EQhLaS0MIBIh0qDSfJcCAscHo855xz6MQTT6Szzz6b1999951+i86LLRTgBYTnOZze2saoY2/u4bxuLs+B+hyo0wGOzZJa5IIgdIyENjmcPXs2r9FVZTB//nw2kgs/Bs4991y65ppr2KUUBmxw03z88cebFQ8k0iM54YQT+O9effVV/Yi5wGwQYodIaunSpfrRA6lPySG/M4Wcfg+l1DcZBVZmHkIrRs2gPqFqOnn982SrKaHt9dE/zhm9HXRtbyd9U2OjP1blWmrGB6GHyaGVtuqIVmHkCBdXK4BrLLpMrTTjg3kkImt8Z60Avy0YAOJCzUpbdZgAFhcX60fMB+aRcI610lYdn6WVxqPIA6M3p710OuGYN28e7dy5k+6//379CPEIqjvvvJP+/e9/00svvcTHfv7zn9NRRx3F62j1ClCPo3///vqeBt5MRC7vvPOOfsRc4Pw5fvx42rBhA9fkaI56Z5pWmyPop/SGMv2oxpIBk8mflk8Tyr+iAaVLaXODnUdRRTI0JUiP9G2goNq+vbYvrd5Tqp2wALyvsFW3ysUVoDsTVvVWCQdchyEcVjZwEGR8t61ycYVwwMUVvz+rgOMwrNXLyvb/3psJGnGUHYBdvRXg9aG73coaOWh7UD6ivSS0cEAM8EW96aab9CNECxYsoG+//Zbmzp2rH2mKNh588MFGe3Iky2+88UYehRVpWd4ciWSrHk7A5aYGdx7ZlCSkVO8hWwjNv0ZJv+Np3/CL6BjPRhr44wLaWhdotCKJ5OUxWTQ03UlPFifRM6us+5KKrbo5iK26OYiteuskdI5j/fr1/IaOHTuW9ydNmsRXdcuWLeN9A1zloTgJvtQGw4cPZyW38gtnFo1DciEdYXkOkL13GYUaaqkmJYeq8oc3myAHxmTAo9zWXIULgtA1SWjhQK7hhx9+4CG22L7llltoyZIltGjRosbzd9xxB1+tf/TRRzRjxgwekvv666/zZMFXXnmlcURWZwZDcm3cybT/DHLg9NVR9r7lVEtJVNXjMEppIfdtDMs9KjVI2c2N3RUEQWiFhG89kMtAPuKpp56iKVOm0KOPPqqfIZo2bRo98MADvI2kObqsMPEPXVbnnXcevfnmm3yuK2D36xbrEREHyFFRR43NRXXZh5Atq5d+9EC+UcKxoz5EqfYQTeghczoEQWgfneKyE91NCxcujJrkjgTRR1tzGp0Jw/DQKOoUTlr5FrKXaiMyGgqGtVjx77NyrZvqnIJkXguCIMSK9Fd0EmyGxTomAUbxUE/et5JzICjw1Nx8DvDfkgCPuhqb4xILEkEQ2oUIRyfBcMkN2ewH5DlA1t7lVO9tIH9SKtX1O3COisFmT5AWVmsz0M/pKVGHIAixI8LRSQivzRFNOBy+OnIWaXU6AgWaBUlzLKzRMujorhqcJjPJBUGIDRGOzkIoRA7dYj1ySK6Bq2g1r21ZhVwhsDm+r3PQ9xU+wshdiToEQYgVEY5OhC2gO+U2Ixz20m2UWrFdfaghqut7jH40Ou/u00ZpQTgyWsqmC4IgRCDC0YkwuqvCXXLD8YWIkku07ipfT834sDneK2rgWh2FyXaJOgRBiAkRjk5E45Bcm6PZqMNZtI6dc1OcDirpf6J+9EBgS/JuUVPUIQiC0FZEODoRxpBcEG0+B/A21FNG6XpKIx+V9zpKPxqd9/Y1cJQyOtNJE3sk6UcFQRBaptsKBwzbIhcUgwIwybNqieXxkLtwhPy8jQR55HkscFXPKN1AbvJTQ3Y/8mT3j3o7LNs8QRYPcK6KOqLdprMuINpxWTq2yPvadZaOkNDuuGYCG5OTTz5Z32sC3lgffPCBvmcuqDUAF1+4jW7cqOUmWqPWlUleezK5gg2U7juwvgW+DgOSArQs/yT6xj2Msqu30ph9n2onFXDizMrK4kqKYHSKn+7O1+o5zNqXQRu98R+ei/K/sFW3qm4EfhQwx4TjgJW26m63m11VrQL1XFAzwkpbdTgdw/7bKndc1DmBWSnqY1gFXKthqw5HZyvA68NnuXfvXv2I+aANQFvXXrqtcMCuORLUMkej88ILL+hHzAX1FC6++GL68ccf2Sq+LfiSM9SSSbZggNw10b9oh7jt5O01kr4feAHtCyXTUZ/cpZ/RGjh8ScOLxswdlU5js5300u4G+uOm+BevEVt1cxBbdXPoLrbqHXlPHYWFhffo290KFGmJXIYNG8ZXVajGhx+G2Qsacdi/o7FBcZxot4lcgur36nO6KahiC4e3lkJKQCJv41JhR6a3kip6HE7FrlxyNNSQu0Kr2oYff0pKCjfixu3RQYccR78UB/1nbz3V+IKN5+Kx4HUi4sDVcbTzZixocHCViogj2vl4L7hqxIIqh9HOm7Hgatz47kY7H+8FgowoGUWVUMYg2m3ivaBRRRcyxDHaeTMWXADAF8/r9UY9H+8Frw/lIvB9jXbejAXRcUeEUZLjnQzDegREm0EO6gPqyxjwUmHpKt4v7avVM2kO5DlQACpbKY6YHwqC0BoiHJ0M1OYwxCPoiD6fw6MXCMwp05LknozeLc4kx8gqI0kuQ3MFQWgNEY5OiK0Fi3XgC4Z4QZnZgtI1fKylOR0Aczowt+OwdAedLeIhCEILiHB0QpoijujCAer0uuOFxVpB+rLeR/O6OTCLHLPJwTkFMqdDEITmEeHohBg1yJHjCDVjP1Kvd1cVlq+hpHqMZrK1HnXo/lUn5SXRMdnNi5IgCN0bEY5OCBLfxvSdgDNF39ofJMhBashHeXuX8nZJ/xN43RxwzF1UponSOT0l6hAEIToiHJ0QTpD7tfkWLQlHSB9q36t4Oa/r0wqoJqMPbzfHu0aSvCCZ+rmlVocgCAeS8MKB8c1XXXUVzZkzhy655BL9aPNgstm5555LM2fO1I90TRz+el5DOKLlOtBT5cGkD0VOzS7KLFnL23t6tz40d2NtgFIcNok6BEGISkILB0TjoYceookTJ/JMzunTp9OTTz6pnz2Q66+/np599lm68MILeXJUV8bhqydbSEtkNBd1YJQUQA3y7L1a1FFccCSvmwN/ET40NxnVngRBEMJIaOGYOnUq+xwh2njiiSfovvvuY5sOWINEctFFF7HA3H///XTdddfRn//8Z/1M18QWCjRGHUGnm9eRGHkOt/qUs/cuoySP5vezNXc0r5sD3VXV/hD1dzsk6hAE4QASWjjgi7N9+3b2HAIrVqxgc76+ffvyfjjjx49n065FixbpR7o+jd1VjiQKqiUSY2SVU0UN7pCPsvdpUceWnCN43Rx7G5pcc2VCoCAIkSR8jgP+RuEkJSVx1BEOBAaGb6NHj6Y333yTl7fffptzHV0ZuxIORB4gWneVV58ICFIcWtQBapJzqCq/5QqB7+pzOsZku+jEXBmaKwhCEwntjjt79mxeo6vKYP78+WwKGH5s7NixfNvPP/+cHnzwQT7261//mkaOHEnXXHMN70cCW/Xc3Fx9TwMOlZs2bWLRsQJ0w02YMIHWr19Pq1ev1o/Ghicpk7wON9fpSK8/0NK70BWidCUaFX6iEr+Nlg66mPakD6QUXw1NXPNX/VbRmd3HT8elB+nTKjs9vCf6fJG2ADdeGMZZ5eIKMz5EpfieWGWrjnwczByLi4v1I+aDCygY1cGQzwpgAIoLNMOQ0wpgOIiLRSvt6gsLC9kEFOaRVoDXB7daK52VYQK6Zo3mKtEeOp1wzJs3j7+4yGUYQDh++9vf0t/+9jd65513+BgaZOQ6Hn/8cfrmm2/4WDinnHKKvtXEMcccw1+Y1157TT9iLmhQzzrrLFq5ciUtW6ZFA7HiV5FGvYoggFsJhyOgTeIzyFHtfUGSjeqCRDvqQ+TNG0jfHjqdAjYn9d29mAZt+0i/5YGcmmOn2QO1Ibkz1/hps6d9XxU0cBAO1DiwAggHolB8T6yyVcdgDCxW1lRAA4caJ1bVOYGzMgQZXcdWCQfqRqBhtVKQIY5wqo3s7TALOACjBkh4qQOzwUVzR2zcE1o47rzzTo4CbrrpJv0I0YIFC7h2xdy5c/UjRCNGjKC7776bXnrpJe6mAq0JRzQuvfRS/hCfe+45/Yi54MsyefJk+v7779v8HKNRn15IQbuTXN5qctXv3zinOlQjmurgOR3ra/2U4k6lsqFn0dqC4/n8YYsfp9SqnbwdjZfGZNGwdCc9u91Dj29unw2z1OMwB6nHYQ7dpR5HSUmJvhc7CZ3jQBcO3lBEFGDSpEncJRB5db5q1SquSoZqegaIHtBYdaRB7iw0zek4cHRVfVCbCKjaUkrRh9YeWvItpZdv5u2dIybzujne021IkCTPQqEPQRC6PQktHK+++iqPlMIwXGzfcssttGTJksaRUzh2xx138DaG6yJ0R37i9ddf54gD6+4AkuQAUUdkkhy5cWMiIOZzGPTc9DGv6zL7UtGACbwdDQzNrfAFqSDZLrU6BEFgEn5UFXIZSGQ/9dRTNGXKFHr00Uf1M0TTpk2jBx54gLcRPs+YMYNmzZrFCXJMAjTyHV0dRBx23Wo92ugqYz5HStinnVG6ngq2LuTt3UPPo4bUHrwdSYk32Gh+KENzBUEACS8cAP2bCxcubNPoEXRbdYfuqUha664CsBEJp+fmj8ldvYe3dw07cFKlgTGnY2Smk07LlwmBgtDd6RTCIbSOw6eNAAnZHRRw7S8eHn1EapLdphZtG+BvIB4A8zrKm6nZsbLaTx8Xa1HHtN7R7U0EQeg+iHB0EWC1jgVEdleFTwSM9J7CpMC8XVqEtmP4JeRPzuDtSF7ZrUU0Y3NcNKN/dIsTQRC6ByIcXYiWuqsMw8PwPIcBEuUYxht0JNOeIWfpR/fn23IfLdiuRTXXKuFAiVlBELonIhxdCIdeoyNks1PAlcrbBoZvVTThSPKUUeFmbSJgad+xVFkwgrcj+b9tHlpb46d0p43+55D9718QhO6DCEcXAiVlHX4tkR3ZXdU0ssrWWD0wnLwdSyhrn1afHKOsopkmoo45xAOckZ9EF/WSUVaC0B0R4ehiGFEHJ8gx60/HmAiIFEdyM5964eaPOU+Cobn7Bp+uH90fJMlf1/Md6LLqEZ5tFwShWyC/+i6GkecIqbjCH9ZdhYDDGJabbNPWkbirdjaOsto3cCJV5w7h7UgQdeyuD1Jft4OuGyCJckHobohwdDFQj7wx6ohIkhvdVcnR+qp0em7+hNLLNvH23iFn8joS1Ov4v22aj8/U3il0Sg+Z2yEI3YmENjk0k67ijhsNn4o0GpKyeDutbl9jidlMJ9GAjBRKyciib7Y3bxpXkTWQlg+/krcHbP+U+u/6krcjmTPQQafk2GltXYhuWOvnsrPREHdccxB3XHMQd9zW6bbC0VXqcUQjaLNTTUoP7q5y+6ooSY9AklSkcWiGi11cv99dRr4WPvl1vU6mzfljePuEjS9SVt2BDeLA5BA91N9HaSpufanUQc+XRB+iK/U4zEHqcZiD1ONonW4rHNHorLbq0fC6cznHgZxHcl2TffLIvHTKz8mipdv2ULlPH6MbBYzK2jj2Z+TJ6E1Zxatp4A8L9DP7c3U/N90yOJWjjat/qKQVVQde4YutujmIrbo5iK1660iOo4vSNBkwhUK2pkgAQ2pBdisW6fh7I1FemT+civufxNuR/H2Hh74u9/EQ3+sHyNwOQegOiHB0UbR65FpEEe5dVeEPcXQAw8McV8sff/be5ZS382vexvDc+rQC3o7EmNuB2uSX9REvK0Ho6ohwdFEgGvvN6dDBDPKqgBZttBZ1AEQdSfXl5E9Ka3Zux3cVPvqbbkfy0wFu6h1terogCF0G+YV3YRq7qxzJFLI7eRsYwtGWqCPJU95Y9Km811FU1udY3o4EUceaaj/f340DpctKELoyIhxdGIcPBZ605LA/LOpoCCkR0BPjbYk60F2VvW8Fb28fOZUqeo7i7XBgomh0WZ3bM5ktSQRB6JqIcHRpQo1lZSMnA5Z7tSR5W6IOULjxA0qpxcgWG2074sqoRoiflHjpNd2O5Gcq6oi0cBcEoWsgwtHFMbqrYFoYtLt4GzQEQ0o82h51pNTso0OW/YOSa4vZfXerEo+q/OH62SYQdez0BGhgqoNuHLi/WAmC0DUQ4ejiQDga65FHVAYs92nGh22NOlBmdsByJR51pZwz2XrEFUo8hulnNYpgR6Inyn/Sz01HZzeJlSAIXYOEFw7MyL3qqqtozpw5dMkll+hHWwYTzjAjG38rhCXJw0wPAaKOihhyHcBdtUtFHi9wDQ9EMVtHX0nVPYbqZzXe2tNAHxRp1QhvkqhDELocCS0caPgfeughmjhxIs/knD59Oj355JP62eaZPXs2zZo1i0aMiF6QqLvR2F2looTw7ioQa9QBUqt20oBl/6Ck+goKOpM58qjOO1Q/qwETxCp/iI7OctGUPE2cBEHoGiS0cEydOpX9nBBtPPHEE3TfffexP88FF1yg3+JAbrjhBv4bKz2DEh27v6GxHnn46CrAuY4Yow6QWrmdIw9XQxUn3pEwr8kdrJ8l2lgbaBxl9ZP8IPWTmk+C0GVIaOGAL8727dvZcwisWLGCioqK2MAuGqNGjaKTTjqJPvzwQwoG5So3HCPq8EepR17RjqgDpFVsU5HHC+RsqGZfLCTMa3IG6WeJnt/hocVlPjZXvKZXQn/VBEGIgYT/NUdaG8NJElFHNK6++mo2YINNeWvAPC1ygdkYDPLgAmrFYrdrbz/W0c7Hc0kKedXaTjani0KulP3O+W12qgqq162eR16Kc79zrS2ZVdtp0MqXyOmtJX9SOkcenrxBjef/tlMrZXtKto3uH56x39/KIossB2/pCAntjotcBUBXlcH8+fPZgTT8GJg5cybnQu655x52frzxxhtp7ty5zbrOwlb95JNP1vea+OGHH+iDDz7Q98wlMzOTxo0bx2K3ceNG/ah5VLuyyZ6SSvlpLqrbq0VxBi5biPq6gmxWWOLXhCQWit19aEmvM8lrTya3v5bG7f0v5dZrjqZn57vo2hSt6/DDmiSaX27uzHKIP9xG4ahqla06LNXdbrel9t+wq8eFlVUurmhsMPBkz549lrnjosaJy+Xi+hhWAddq1I6Bo7MV4PXhs7SylgvqnKCtay+dTjjmzZvH9QDuv/9+/YjWRXX77bfTG2+8wUWYxo4d26pwwCI6EuRU8CE+//zz+hFzwRcUI8XwAcbbVj0a/qQMsmf3pJzMDKrc+KN+tImeyXbKTbJzpcAtdbE3uEiQbzniKnbkReJ84NLnKbVqBzc2Z6Z76Vd9NTF6aVc9PbzRvMYOwjFw4EDu5hRb9fiB30z//v1py5YtYqseRw6WrXpH8sAJ3VWFq0U0ruHgTS4rK9P3NIYN0+YSoOF/9dVX6bbbbqMBAwbw+vrrr+dzkaBBiVyMvAh+FFYtVj6ezVfHa8QVXiUikefLvEEKBEOk9IOynbYDzre2pJes55wHEvHelGwlIldQXUZvPvfvkiD9aZP2Q4SD7s8Hug/4+3guINpxWTq2yPvadZaOkNDCgcp4UGJEEGDSpEk8RDeyzCqijMsvv5ymTZvGC4bwQr2xRteWoAHfKqfumOtLzuQIJBxvO+Z1RJJRsk4Tj6CPi0khYV7t1nJSz+3w0LytmnjM7O+m6wfIHA9B6IwktHAgekA3DobhYvuWW26hJUuW0KJFixrP33HHHbwttI2U+gpyBrW+W29KFie0w8HQXKUfMY+wCiezeA0P1bUFA9SQ2oOWDTifanXxmL/Vw8WfwA0DUmmGEhBBEDoXCS0cALkMJLKfeuopmjJlCj366KP6GeLo4oEHHtD3mkC+YMaMGZbkDTofIUr1VpEjYIhHNvldTTPsYV/VnnkdkWQVrebIA3VBapNzafWhl1BlwUg+99imOnpVN0P85aBUuqyvFH8ShM5EwgsHQGJs4cKFlhXl7+rYlHgk1ZU1iYc7Zz87EszrCIZCHYo6QFbRSo48QK27B2056mradfiFPOfj9+tr6T97tce/bUgaXdJLxEMQOgudQjiE+GMLBdhvyphR3uDObTRBRK4DViSgI1EHQB2PYze+QjlV2ogR1C7fOPZnVNFzNN21toY+LtYe/66haVzHQxCExEeEoxuDHASLh+6ei2Q2htICdFcFOpjrMMit2UFHrPkH9drwvnpMP9WnF9LWI6+inYdfTLdtCtFXZdrj3394Op0uBaAEIeER4ejmYKSVJh5+CmGYrhIPGBcizdHREVaRoH75kG/nUWbJWt4v6X8CrR7zM7qpdAD9WKnNt/j98AwanyfiIQiJjAiHQPaAj8UD3Vco0oRuK1imo9BTvKIOA/hbDfr+Geq97j9svlifVkBLR15FM/zjaW1tiJxKo34/PJ3G5kgdD0FIVEQ4BAa5jmQWj6ASDwdHHg12V1xGWEWjYOtCOvTbv1BW0SreX957Ak1PmUJbvE5KU0L1+8PTaXTmgbP7BUE4+IhwCI0gAuDIg0JcuwPiUea3q6ij4yOsooGiUAN/fJb6rHmLTRKXpR5K09KvoL3BZLY++cPwDBqaLuIhCImGCIewH7Bfh3gAFH2qTclVUQfvxj3qMMjf/iUNUdFH9t5l9J2tF01PnkxVlES9UiAe6XRkloiHICQSIhzCATh8Hu62Ash17HNmkz/OuY5IUmr28YTBfqtfp6982XS560IKqNhnQKqD/nJEFvtbCYKQGCS0O66ZYDY6nD7Dyc3NpXXr1tE777yjHzEXOH+OHz+eNmzYQGvXaiONzCYlJYUtldviNup1uMmj+1n1CVZSIWlWIUV+G1UF2h594H31+XxtdnGtTcqmDfnH0bGZdvq9/zMaGtJE7D+eHHplr4cq2vDYKPYF+28rbdXho2Zl5UnUpcGkWCtt1eEdB3dqq4DjMByrI41NzQRuzrBVr6/X3A3MBq8PbrX4vloF2p621C1qjm4rHGPGjNG3mjjhhBOopqaGPbCsAB7855xzDlc2XLp0qX7UXFAzAqV122r/7XOlUUNyJm8PCpZTDmmzvYt9RGX6JMHWQAOH2gZVVVX6kbaxr+BIcvYaRncmr6fLg1oSfVUomx4tzaL1W9fzfjRgq47qkTt27LBMOFA3AsJhpf03GjgIB76zVgDhgOU4KnJ21F21raBmDRyxrRRk2NWj/kdkETmzQHE6fJb4vloFLuZQdqC9dFvhiMall17KX9LnnntOP2IusIyfPHkyff/995b5auHKGIIVy5cURojwtAKHBMqph10TD9iw72vQRl21BH4UEI6Kigr9SGxU9BxFlw3MoXtS1lISaUIwOziGnt4VoILNn/Iw4nAgHIMGDeIGDnb5VtBd6nFAkFF4zCrhkHoc5oAIp6SkRN+LHclxCK3i9NaQq6GSt7c5cmgPaY66GPmEBLbZwLbkvSWf04yNKfSNL4uPzbF/R38+pI48p95Cu4ZdcIBFvCAI5iHCIbQJV0M1JdeV8Kir3bZ02mnTGupsl536prrIYc6Aq/1Ys3M7/XLxFnphn/Zgk4Pr6P3gGzSxXz6tnHg3bRs1nerTe/I5QRDMQ4RDaDMQDYgHlhK/g7bZtKv/DEeI+qSlkMNl/sin+mCI/rimhO5aU0PF3hANDFXSK7436Q/+z6i89zG09sRbadPR11CJu5f+F4IgxBsRDiFmDAGprqulrcFU9rhKs/mpv9INR1pOo1GimfxnXwPdsKySFpZq7rq/DSyhT2r/RkeF9lFVj2G0sM+F9MMpc2i7ikIqC0awlYogCPFBfk1Cu4GAeGqraJvXTv6QjVLIT4PstZSSmkENaQWmC8jm2gDdsqKa/qKXo53oLKKPPc/SL0r/zfuYg1KmopAtR82gZWc+SOvH/ZyKBk5kd15BENqPCIfQYTwNDbTT4ycMsHJSkIaEyinboZWNbUjLJ79qwM3kr1s99HMlIBuUkOQ4QvR4+mp6u/xJOnb9qzwbHXYmoC6rP+0+7Bxae+L/0orT7qXtI6dRReFoJXBSB0QQYkGEQ4gLnkBIiUeA12BAqJIKqJYCjmSqS87hmuO+lCzTGukvS710w7IqekuvKnheag2902sjPVDxOp301QM0cOnfqcf2ryi5tojPB5xuKutzLG094iolIvfThuNuor2DT1fi0o/PC4LQPI7CwsJ79O2EBJOqpk+fzvMdMGllzZo1+pkDOfHEE+nKK6+k4447jsd9YxJPLIwcOZLHqi9btkw/Yi54bcOHD+cZo7t27dKPmgtmqWIuR6yT8doCNKPGH6IUu42S1JJFXnIE/eRPyyG/ikaUrlDAlUa+5EyuNggXXpuNuKBUPIBofVbipQqf+iyzkynPRXRsjosm5bsoy1NMxdtWUubWRZRZvIaHF4dsTvK5tfkpvpRsqskdQqV9j6OigROousdQ8mT00Yf5hsjlbXmSHcbiY7FqTgXAvBGv18uLFdjtdp5XEevvqiPA6QC/SSvLRsNZAZP/4HZgBXh9+CzbO8+pPaAN6Mg8lYQWDjSsDz30EB166KG0ZcsWnmU9YcIEevfdd/VbNHH33XezuGByEmYqX3vttTzpbPXq1fotWkeEo+NgOmCVasCTlCAkO2yUbvNTbhJRdYNPfR71SiVUkKvUAqKBglF+XUiCzhQK2eMjJKtrArQ6uYBKKqpocJqDeiTZ6TglIGfkJ/Fz2lZWTkmlmylv17fUY8dX7JOFSYRwA8ZzCLEzcA7VZfenyp4jqbTf8bRPRSNV+cM5IkHkhNfh9NWov9MiLBEOcxDhMIcuLRxXXHEFN+Z33XUX/fe//2U/p7PPPpt/KPCUMhg7dixdeOGF9Mwzz9Dzzz9PH3/8MQ0ZMoT/NprINIcIR/yoVpEH/BBhjJibmkJJfg95qsrJ1lBDjkADl5Dl2RiGkKgGe38hSeYGHEKiLvjZ6r2tYOZ4SnYufbStlP67r578qnE/LN1JeUpAxikBQXlal4qIkBMJ+r3krt5N2fuWU8/Nn1B6+Wbed3khADbyJ+sTC9V9QjA8mX2VgBzOkQnEBDmS2uxDyJeaRzZXMjc4GDRgBSIc5iDC0ToJLRwQA7y4119/nfeLioo44sAP5dtvv+VjAF1Y+FJ/+eWXbE4Gjj/+ePYPeu+993i/LYhwxBd0W2FiYF56KifNU0M+FpOAP0Ahf4O6Yq/jBhoNrVb3HAoBIbGzaBhCgsYbtidBl1sdS6KQw6V1c6m/QOGpSCAc8OPCd6HCG6Al5T76tNTL0nN4hpMdfo/PddGpSkDw/NapCEVPzVCSp5zSKrdzgakeOxZT4eaPKLNoNaVW7aCk+goleEEKJKWy0AE8r/qM3lSePZh25Yyg4kPG094hZ1BZ37EcrVTnDlFi04e8SlgCrlR+bSyccbDsEOEwBxGO1klo4TjllFPYa2jhwoX6EaKLLrqIgurHG34MggKvJ0M04Kczbdo0WrJkSUzmgSIc8adWtcgpaenc/RTweTVrdnXlDwFB3gN27egmQgVCp8/DuQSHEhQICTeurA5KSFhMVFTiSOJhvmiE0Wj79XwJurpQP4TQoEM4VANXWVnB3xVQ7gvRojIffV7qIxVsNArIiblJNLFHEh9bW4O66wfiaqhSwrGLa6WjewuRSc6eHym9Yqs2m14JQcilnlPY6DE8R3R3QVRqcwdRVcEInqBYcshJHKmU9hunhGU01eQdSp6sfjzj3Zuaq0RJCaR+P3hPWkKEwxxEOFonoU0OZ8+ezes5c+bwGsyfP5+N5MKPRXLvvfeykd9tt93W7BfuvPPO07eaGDVqFLtwGhGO2SBSOvPMM2nVqlXskGsFcMfFjx9iZRUwVEPjZqurItRkSoEY6FQG1OLHjHD9QDMEkRNBFGIsNqwdLCiRIOJQF0RUtG+vimxgchjiyERbMF0xSENTgnRObohOz1JXT2pf3Rtt9YTovdIA/ae0lScTBVwEJGfm0vbKBqpPyqKG5Cy1zqR6XqtFCZzXpXl8tZ0QJSkRTfLVkstf27StliR/HRWkuShQW0G+mkoWL2fQq9bqfY4ShcUDuOPCrh6uqla648I9tiOGfLECw0E04hAPK8Drg+Fpe+zq8buwR5h8tgW0PZs2bdL3YqfTCce8efP4Db7//vv1I/tz8803c87jnnvu4UR5c6AeBz6wcBCp4Efx1ltv6UfMBd0pp556KuduIB5WcDCFw4hyslRQAAFJtjV99SoDNhaRNpjt7geEo1FUlJgEICYq8sjv1VtdBJRQINCyO+6hKUTjM0N0dFrTcylS0clKdb2xvDZEW5CuYLHRxQcxSeM+/kYTo7RUN6Wrq7ji4qL9boPGX3uZIX6eEBMPBIXXmrhg3+tM5cXndOPGHcKhojUICITEqdYOfe0MKnHBPh9TkRe/HkNQtYWPGYs6h0bJ2HeqsCw/L5eKlSAjSjSO7/c32I+4Tz6mFrwHsdJdhAMDemLpddjScxxt6D1e31PPuWw1Ddm7iNwNbYta0PaE54ljJaGF48477+QP8aabbtKPEC1YsIDzG3PnztWPNAHROOOMM3gk1qJFi/SjbUds1c2hOVt1dBWhHC26rwwqfEEq94bYk6q9GLbqW7fvIJ+6H45KVKNtdHfxmhd0a2nHRmW56PQeSTQm26Xfi8aaGj99X+FTi79FC/m0tFT13rZcyMkQFE1MtHWjwPC+Wqnnjm44rSsO6zTyY1utkVvRttPVuTQKYsFr6yTY/Uqw/Bg84CGnipowMRPVJtE1iW5KrLGP3Bdvq9vlpboo1WkTW/Uwto2+nMp7HaXvNQEj0sHfzedRgq3RUVv1hBYO5Ckwh+MPf/gDN6yTJk3iYbaPP/74AcIwZcoUmjp1Kj3xxBPtEg0gwmEOrdXjiLeAtKsehy4m43KT6cQeaslLpswkBwW062dqCNloUZmfvir302IlIvVBjjn0v7NRalo6L1ZXAKzxNFCN168iriQKOlw8oCCgIq4QckFqCTnVWp1r2nep/WTOBTUKqF0tmAusXocmsOq1Na5xXFuM21sNRyz+Bu6Os/vrlaBgjf16bc376jifx75+nAchqMgoiKhHhbNGBBQ0oiVtTRH7/fv0TljhKO07lnaMmKrvHQjycIO+f0bfa54uLRwAUQfKqyLxjQTShx9+SI8++iifQ6U+JLLffPNN+t3vfsd9sOEfNko/Pv300/TFF1/oR1pGhMMc2lrIqTkBwegsLG39orZLOCLIVFe5p6gIBIlzrMNB5IGJhp+q5etyLYGK7yaW3Xv26IKC14CGV1tjv8XjgI/xhvZaw/a1lX5c3y9Q7ytyeFYljvH76tO7D23fuZPFlJ+fITAQHjvW2r52rkls8BoDKkLSIie1xmAGfdG2k/fbPtiwoCAabOySg/BgXxMeTYT0c2HCY0SO+6N9Xo1E7GLQgcuVxL+RaIR/5g3p+ex60BIjPruXo4+W6PLCAdDwDBs2jL777jtTfyQiHOYQawXAaAISUD/IWvW7rFUCUusPUktVa+MhHOEMSHU0CsjoTKd+VGNNtZ8F5BuPi4qd6VIBsI3wCDlERshNqQV5qaBDrdF9CJHRhSQ5K4dsSmgq6xq0iEpFTfg7DMvWtvW1iqQaoy6H+lv9tt2RoV/9iecitUS3EA6rEOEwh1iFwwACkq6u/NPUEnGRRnUBCEiIJxo2RHRnxVs4wjkm28UCckqei/q6tbkcBj/U2unr4hpaVumn7yp8jXNDzKJLlo5V0YkmJJqgpGfnkUv9JtF11B4Q6WjdbeobFBkdYR/frIjoKK9HPlXV1lGDz6/dBgu68/C8+Db6vnEOx/SuP+7W02MEwN/bA96rsH216XDYOUdWVVUd9j3Xb8OrpttX5g/nOUEtMfLTOVy1syVEOOKICIc5tFc4DJRusHikqwgEawd+6GF4lXAY3VmYN2KmcBiogEgTELUgGnGHRUeg3BdkAVlW5advy320SkUm8UZqjptDIifHUSYANWaaAxNXB/74rL7XPB0VDsijICQ0Sg+o0heiXfVB2lgbYBfecm+QBQPAUBH1z/unOuiwdAf1TlFXcPYQC45ZoKvsw2Iv3bGmhi7+poIe2xGgRTV2KlXPCyBagqj8clAqvXBMFr1/fA49ODyDpvROoX4RkYogtJXc3d9T3s6v9b39SaorpT5rtVo0ZiPCIXQqoBXontrbEKRNSkS21wW4sa7X+4UQjWSpRrunM0iHpjl4QZcSfKpSVVRgxhceyfJ/FQXod7tddObicrpuaRXN3VJHX5X5uEsN9Ey205kFSXTHYWn07+OyeblraBobLyIRLwhtpd+qfyqBeIvzGOz5ppa8HUvosK+foiRPmX4rc0l4W3UrEcsRc4BnWCAQ4FFu8QZX/uieqlAbNWrtUxf8yIjkZWdSTQ36eUOUrCISdHFlK0HpoRrwTJeNu5a4vVZCg4imo6C7AUtVdTXtVpHRD5V+endfAz2/00NL1XYxzwGxUaGKhgDEDbYnZxQk08z+bjqnZzIdleXiaATPrdav1VdvCbEcMYfOYDkCP7UeSiwKN3/MS1bxmlYtasJBG9CRrjiJOIQuA6IORB/bPQHa5nPQDk+QG2xEKJgIaAAhQcNdmOKggakObsAxcgpRQZYSFZyP1w8DQobI4/HNdTTzx0o64Ysy+sWKanp+h4e9sQz6K8FARPKLQak0d3QmfXJiDndvPTYqg24YkMrdXr100RGEg418E4UuCXqIEIGUKCFBTgS5kY2qocY2xAUjsnAbA1zlI0/SW4nJoDQHDVVicmi6gw5RgoKcCWp6oEsJQ4SVrrQbFJv6otRLj26qo8u+q6TxX5bRL5WQoGvr42IvPz8DCNmEvCS6foCb/jQyg94dl0OfnZhL847IpFsGp9KEjCANdu8/bFkQrECEQ+g2oFsL0UeRikIQlaxXQrKp1k+7dDFBPiK8d8hps3FeBNFJvmrE+6ioABHK0HQnJ+ERpUBoNFEhQkAQa7oCI8E+V0Ly9DYP3bqqms7/uoLF5H+WVtHDG2vp33sb+HkaICJCUaqr+7nptl4+WjDcRYvH59J/T8ihZ47KpHuGpdO1h7g5ekEkheHMghBvJMcRhuQ4zMHMHEc0MBzXqMdh2Ko3B6IOpB+QJ8HILQiIMVsdF/8YuYXbYPQpIg3cN7CrNYpB4Wof+ZPclCTKc7soxV/PeRRMYMxQggPh0Urpaol7/D3uryXUU6A99UFaUeXnGer/3N1Af93qUds+Wlnt54EBPvWEspMcPCwYpKnH6aVEbJgStbFc7TCZJvdOoWv6u+nSPil0qtqHDxeiqJ7JWh4FrwcRUCtPpxHJcZhDe3IcHaWjOY5uO4+jT58++lYTZ511FjdwL774on7EXDCWGsWqUDMEczmsAF8YWCq3x8K5vWC+CuZxGPVSzAaN88CBA9npON7zOFR7y8N/URpX6ULjdlZ6KmWoC4G2jo33K0FCBMSL2lY6xYKirZv2WwJj/5Prqykn4KF+Ktzp61YL1ik2XkNM2kKpehLFSq2KG7DWt3mtojN9G5EaGrj+/ftzGWer5nGgEcegA9TcsQpYx5eVlVk6jwNlADDvyCowl6sjDtndVjhgq37sscfqexq4Gke08f777+tHzAU/ClQqhC/+hg0b9KPmgis4WFVb+UOEUGHkjzbKyXwgHJgct3fvXr4QsAIIMmzVK0qLOQpAD5FTXcvzWi045mjztX0TePaBkIpS1NoQkwBpUUu2+vHX1Hl4QRdb5CvNcoSolzNIhWrp5dLWxna6PbbnApPHsoCNahwpVOzxUQXb4KsliLWdqtR2BW/bqE6t4wWiVdiOoyG3ClzoICK3KkJGu4OLSCtLHaDtiaXIXSQyczwMmTluDh2dOR4rEA6zZ45H0mhy2IJXFZpTdG9BRBCtNG1rQ4PRldXGIIGBO24dTA7DroxZQFQ0wALTuOj76jy2cRuMHMPcljwVLqFrLV/P4xRgG2t1DtvtASPJytR/ZSpaKVPRjLbWRrhhqDK64fbUB6gSStgKMnPcHMRyJI6IcJiDCEdsaFGKEhE92c7bvN5/u7BnAXkihKMjoPcJGaGgLi7YRq4Gs+Cx9Ehx0CG5WWSrq+YkfY5+LtKQsq0grwQR2a1ERFtrgsLbSmQgOCIc5iDCEUdEOMxBhMMc0B1XW1NNdWrhaEUdQ/ttRC5YVGDRtB92Xv2LGafDQYWqgcNAjsgcBwYAQEwwZBmj0LDGkqGOZTm1fUQ2iGTwnNoCzCv3eW1U5LfR1ioPC4omKpq4YHScGYhwtI4IRxgiHOYgwmEOHTE5RNuNBhyjw9AhZYgMtsOPY5vPqW2X00n9+vShnTt3qL9nX1k+jvdbW6v/2kCeEhOICAQmWwkK5s+gewzzVnqpJdIwsjnQ09UYobCoBDhS0fa14+1BhKN1RDjCEOEwBxEOc0hEd1wWE/Vf01ob9ot95FVSVdgDYUBeJxLcpUdFGTxKjbvHbHRIdhr1djspO1jPM+cx5DhLiU1bCc+zlHLepSnnYmwbxw17/s4iHPBg66PeEwwdj9V9WYQjjohwmIMIhzl0Zlt1tP2Y4wIR4bkuzUQZqekZXO52b3EJJ9396nExBBqTLpG8x4KZ/RAUCEtvtY8Ipj0g5wIhqbG5eOQYlvDkPkoZG4ID2/x4Eatw5KvX9/8OS2MbmnB+s6qaPipum1+VCEccEeEwBxEOc+jMwhEJZMMQEazVxTQhF4P3NMnlotIWhuMac2LQdYU5Mehm66HCljx0hak1usNyVGOb49T2kdCHuOSqbeRm2gNevSYoSkTCIhgICiaSVqknU6m2tTX2Nc+0aMQiHNDXl8Zks+tzNH69sporUraGCEccEeEwBxEOc+hKwhENRBa9crMoPSWZKkqKG4ctY2SZ+tdh8AqS1f1ghj8n8tWCdZ/cTHL5GijNFuBuMbgqY+QY1h0BPWEQkCZh0QSlJminoDud9pWVs1EnusyQnmnQt5Uu8RpjAS4sTKbL+qbo93ggG2oDNO3b1n9nIhxxRITDHEQ4zKGrCwdobjgurrxd6nNWQQSLSdO2NjfGqUQGt2kPher7WlFZecAEQNydMXIsUz0YhIYXPmZnkTFGkmU41Hm1budT6BDwOws3y4yGCEcYY8aMoTPOOINnKb/xxhv8BY8FEQ5zEOEwh+4sHG0FPVFovNF9hbW23cxa/a9uRn3U+1pVUU4+JRxKBxrn06DrLFaMcscHrNWSpsQm3YGIx0FZKS4iv4+S1GMgRaMtTRNEYwERByKPluiocHQZk8MpU6bQTTfdxF8wTKefMWMGj4pYu3atfovWEZNDc0hkk8N4gcYNi1WNOIBQSSGnloG8YUE3Ec+eVwvnQtSCLiCtGwhFs7QRXTB9TMrIopKaOirzeHl2e7m6calXs+iHASa6mJCvQDK9TrXP6EYy/MaMxXgs3Ce6pWCeuVc9yLb6AFeuXFMd4Jr032GpDtEqyqS3tpRxOeL3i7z0zj4vOyO/qZbX9zTQW2qNY4XJmktzSzyyqY4fuyXQBnRk1JjSta7B+eefT59++indd999dPvtt9PixYs5+hAEQYgXEAUIheGmjAQ5JiJiHskOT4C2KSXZqpYtatmMRYkEhAL1YBAFbKiBnX+A1tX4eVlbrZbaIG3yOnh7HRZ1HFb6G/RlY612DG7Jz+5o+eLrxZ317OhsNl1COMaOHXtApLBq1Sq+ohcEQegMoLlHfIx2HxGDEb1g5K8WHYVocZmX67REAxb8zZ2LN10ixwHhuPHGG2nu3LmNuYJzzz2XrrnmGnrwwQfbnD9AjsPtdtObb76pHzEXuMZOmjSJRW758uX6UXNB6I9uHCudOJFTQW0Dq7rH0FWFSVzo/rPKHRcXKVisdB1GjgxdOFbVqnA4HFyOAPkxq3IccHJG9yom5FkFhsaiO86qrlW4/8KwMpbu6sNTbXRGrvqeJxNVqa/4N1Uh+qCs7Z8J2gDY47eXbiscsFVHfiEc/PBXr16t7wmCIHRd/vKXv+hbsdOlhWPmzJn0u9/9jn744Qc+Fs6wYcP0rSYmTpzIo3DWrFmjHzEXRDdDhgzhq1Sr3D9x9Yaow8okLhJxuPLHyCorQMSBARKIcKxKjuOqEYtVNUcABh1YnRxHBIBBB1ZFHBhwgEjHKvsPgEEHiDasqgCI14eLVisHrKDt+fDDD/W92OkSwnH00UfTrFmzaMGCBfTee+/xMYyqOv300+nKK6/k/bYgw3HNQYbjmoMMxzUHMTlsnS6RHEdEgasgVNMzUILIDYcgCIIQX7rMcNxnn32WDj/8cE5sY8FV7ssvv6yfFQRBEOJFlxGORYsW0dSpUzmncccdd9Bll11GK1as0M8KgiAI8aLLCIcBcgUY3ioIgiCYQ5cTDkEQBMFcRDgEQRCEmBDhEARBEGJChEMQBEGICREOQRAEISZEOARBEISYEOEQBEEQYkKEQxAEQYiJLlVzPBamT5+ubzVx2GGHscPppk2b9CPmApdaGKqVlZVZVm8ARnUwVbOqhgPA64RLrVUurgCGg3CqtcqMD67DWKx0cYVhJRxcrXJxhXkkHHmtdFbG7xGuvFbVxgBwqoUpp1UGmXDHhVutlc7KaAPmzZun78WOCEcYEA78ONatW6cfMZ8JEybQjz/+aJmlMlwxDz30UC6taxWjRo3ixsYq9098hqeddhp9+eWXljU4cKqFwymcjq3imGOO4YJcVjny4gLgpJNOoo8//tgyQR4wYABfBFhpHwSz1A0bNnTIPTYWYFV/1FFH0cKFC/Uj5jN06FCaM2eOvhc73VY4omGIiZXmiI899hj96U9/sszJF404PL3uvvtu/Yj5XHfddbRz505699139SPmgivUv/71r/Sb3/yGK7lZwYknnsgNziOPPKIfMZ9bb72VLwDg02YFqBr38MMP8+dpVZ2Tc845h/r27cufp1Xce++99Nprr1kmVrCq/9WvfkW33HKLfsR80NZ1pJ2THIcgCIIQEyIcgiAIQkyIcAiCIAgxIcJxkFm9erW+ZR3IN3R1rCrFG46VNaOB1Y8HDsb7ajUH4/dxMNqBjiDJcUEQBCEmJOIQBEEQYkKEQxAEQYgJEQ5BEAQhJkQ4BEEQhJgQ4RAEQRBiQoTjIHHRRRfRe++9R2+99Ra9//779Oqrr9KYMWP0s/Fn0KBB9Oyzz/Jjvf766/Tpp5/SnXfeqZ81n1NPPZU9jmbPnq0fMQ+8t2+88QZ9/vnn9NRTT+lHzQHvK+wwPvroI35f4TdkxvsKSxPYmeA9vPHGG/WjGtdff33j42ON54Pn1RFg9AdrmhdeeIHefvttGjt2rH7GvO/SiBEj6J577uHX2JIlzq9//Wv67LPP6Nxzz9WPtJ+W3lcQ7+9Sz5496dprr+X3Db/5cPD7xzG8r2+++SZ98skn/NkmIiIcBwF401x22WXs3XThhRfS5MmT2azuyiuv1G8Rf37xi1+w4R8eCwt+LMceeyydffbZ+i3MA43QpZdeaomL65QpU+jqq6+mF198kU4++WS66aab9DPmgM8RLrVXXHEFv6//7//9P24ArrrqKv0WHefRRx+lWbNm8fyC4uJi/agGGr6zzjqL5s+fz4+P5wGn1WnTpum3iJ2jjz6a/v73v/N38+uvvz7A1diM79Jvf/tbfp0wT9yyZQsbVUYDFyDjx4+PiwtxS+8riPd3adKkSfS3v/2N3yuYYUa67+I7s3fvXn5PIVh/+ctfWBzxmhMNEY6DAJwwAa4oACzOcdUGd1VcdcUb3CfcW3GVZtipv/POO7w9cOBA3jcTXDXBxtlsI0cIMn50uEKGSZ0V9O/fn51U9+3bx/swHMR2R6/4w8EV9vnnn8+GmJHmgkceeSRVVlY2vl489pIlS2jYsGG83x5++OEHbjRxIbN582b9qIZZ36UHH3yQG1Y4tgYCAf3o/uAC5PLLL2fzQY/Hox9tPy29r2Z8lz744AMWghtuuIEqKir0o03k5+fT2rVrG99XPC6s1jvyWZqFCMdBAD88/DhWrVqlHyG+0sAx2J7HGzwOrkDD3TDhkos6AGbPksXVEq6KEXqbDdxpccWKq9G5c+fyEo/ujJZALRV8nmjUAAQDNuCRDa5Z4PuC2hHh7Nq1i2uDoPGLNwfzu2RcgKBbyWwOxncJgtGnTx99T/vtoH4OxCTREOFIEHDFgx8FCuVYAbqOEJ7/+9//1o/EH+MKcfny5ZYIR15eHhUUFPBV5FdffUUrV66km2++mRezePrpp/lzQ9cOrlyxQDT+9a9/6bewHnQJonYG+tOtwIrvknEBgtxAPKKN1jgY3yXkjVAT6B//+Ac9/vjjbLUOixejZyKREOHohuDLj6vEl156ST9iDtdccw1XcMMPwgpw9Y0ugLvuuouTurhKRLiPBseMq28wevRoysrKYq8hFI7asWMHFx+yqtE+2FjxXcIFCLrOrLoAAQfjuzRy5Ej+vSD/8e2333ItGXT/GdFsIiHCkSCg+BC6qswur4of4JlnnknPP/+8qQWA8APDVeJ3333HPwiE+fhR4EeA6nxm/RhQgje8mwh9/nhcsxryiy++mL744gseBfTPf/6TE6h4Dj/96U/1W1gPuqmQeDX6ys3Cqu8SLkBw9Y+rfnyPBg8ezF046NYJH+0Vb6z8LiF3hN8FugCRtIdY/exnP+NuT4zCSjREOA4CKPWJLyBGrxgUFhZyn6qZZUDxo0P/9HPPPceNnJmg8Vq2bBn/4NFfjCU7O5tfJ163GbkcjExDV1+4KOF54H01o340XgceKzKfgbxHbm6uvmcuKG8a2b2JBhXdOeE5tHhj5XcJZYfRz49BJfgeYUAARrIhaTx8+HD9VvHF6u8SBlkgT4QRZQYQfnyOqLyYaIhwHARQYxzRBa7KDfCDQILcrB87HgslPzEe3ewfOsCoG4zJx/h+YykqKqJNmzZx+VEzRlihjCr69mfOnKkf0d5XjDrCSKF4g/tEdwKGVxrgahTdCxAPK1i6dCk3ophzAdDQQdAw0sssrP4uoasz/HuEPAcs5ZEkN6sb1OrvEro6IUjh3yV0AeICy6ryx7EgwnEQQKOJPmEMP8SPAEP+kBSLnBAUTzC+H33xGI+OxzGWP/7xj/otOj8YpoluE9SpRl+48b5i7LxZoOHClS8eC+8nEpvobkTS3ArQRYQJY+jOQR88kvLoxjEz5yDfpfhjtAmYC4PHw2eJBDkutJ555hn9VomD1OM4yGAyE4ZTdocCOVZi9fuKYbjoe0cC15jTYSWINMaNG2dq1Npdsfq7hHwHunQxH8fsPFV7EeEQBEEQYkK6qgRBEISYEOEQBEEQYkKEQxAEQYgJEQ5BEAQhJkQ4BEEQhJgQ4RAEQRBigOj/A2Pg8/ijQfqDAAAAAElFTkSuQmCC)"
      ],
      "metadata": {
        "id": "abUvjIQHQTKN"
      }
    },
    {
      "cell_type": "code",
      "source": [
        "def predict(input_sentence): #inference code\n",
        "\n",
        "  '''\n",
        "  A. Given input sentence, convert the sentence into integers using tokenizer used earlier\n",
        "  B. Pass the input_sequence to encoder. we get encoder_outputs, last time step hidden and cell state\n",
        "  C. Initialize index of <start> as input to decoder. and encoder final states as input_states to decoder\n",
        "  D. till we reach max_length of decoder or till the model predicted word <end>:\n",
        "         predicted_out,state_h,state_c=model.layers[1](dec_input,states)\n",
        "         pass the predicted_out to the dense layer\n",
        "         update the states=[state_h,state_c]\n",
        "         And get the index of the word with maximum probability of the dense layer output, using the tokenizer(word index) get the word and then store it in a string.\n",
        "         Update the input_to_decoder with current predictions\n",
        "  F. Return the predicted sentence\n",
        "  '''\n",
        "  MAX_LEN = 27\n",
        "\n",
        "  input_ita = [input_sentence]\n",
        "  encoder_seq = tknizer_ita.texts_to_sequences(input_ita)\n",
        "  encoder_seq = pad_sequences(encoder_seq, maxlen= MAX_LEN, dtype='int32', padding='post')\n",
        "  \n",
        "  enc_initial_state = model.layers[0].initialize_states(len(encoder_seq)) #number of encoder sequences = 1 (our function predits one at a time)\n",
        "  enc_out, enc_state_h, enc_state_c = model.layers[0](encoder_seq, states = enc_initial_state) \n",
        "  states_values = [enc_state_h, enc_state_c] #encoder final states\n",
        "\n",
        "  pred = []\n",
        "  cur_vec = np.ones((1, 1)) #initialize index of <start> token from word_index (i.e. 1)\n",
        "\n",
        "  for i in range(MAX_LEN):\n",
        "    cur_emb = model.layers[1].embedding(cur_vec) #pass the current word token through embedding layer\n",
        "\n",
        "    infe_output, state_h, state_c = model.layers[1].lstm(cur_emb, initial_state=states_values) #pass the embedded word vector through lstm cell\n",
        "\n",
        "    infe_output = model.layers[2](infe_output) #pass the output of lstm cell through softmax layer of size eng_vocab s.t. each value denotes probability of the word in vocab as output  \n",
        "\n",
        "    states_values = [state_h, state_c] \n",
        "    cur_vec = np.reshape(np.argmax(infe_output), (1, 1)) #get the word with highest probability using argmax\n",
        "    pred.append(cur_vec) \n",
        "    \n",
        "    #break the loop once <end> token is returned i.e. index=2  \n",
        "    if cur_vec[0,0] == 2:\n",
        "      break\n",
        "  \n",
        "  pred_seq = np.stack(pred, 2)[0]\n",
        "  pred_text = tknizer_eng.sequences_to_texts(pred_seq)[0] #convert the sequence to text \n",
        "  \n",
        "  return pred_text"
      ],
      "metadata": {
        "id": "wkuPFfzcTjBf"
      },
      "execution_count": null,
      "outputs": []
    },
    {
      "cell_type": "code",
      "source": [
        "import nltk.translate.bleu_score as bleu\n",
        "from nltk.translate.bleu_score import SmoothingFunction\n",
        "\n",
        "def calculate_bleu(inputs):\n",
        "  \n",
        "  input, translation = inputs[0], inputs[1]\n",
        "  references = validation[validation['ita_in']==input]['eng_out'].tolist()\n",
        "  references = list(map(lambda x: x.split()[0:-1],references))\n",
        "  \n",
        "  translation = translation.split()[:-1]\n",
        "\n",
        "  chencherry = SmoothingFunction()\n",
        "  score = bleu.sentence_bleu(references, translation, smoothing_function = chencherry.method1)\n",
        "\n",
        "  return score"
      ],
      "metadata": {
        "id": "X22BftWPKya3"
      },
      "execution_count": null,
      "outputs": []
    },
    {
      "cell_type": "code",
      "source": [
        "#testing predict and calculate_bleu function\n",
        "print('Input:', validation['ita_in'][296585])\n",
        "print('Translation:',predict(validation['ita_in'][296585]))\n",
        "print('BLEU Score:',calculate_bleu((validation['ita_in'][296585], predict(validation['ita_in'][296585]))))"
      ],
      "metadata": {
        "colab": {
          "base_uri": "https://localhost:8080/"
        },
        "id": "wjua9ZQC09_l",
        "outputId": "d72aabdd-e29d-4cd6-9ec0-84f62060cfa4"
      },
      "execution_count": null,
      "outputs": [
        {
          "output_type": "stream",
          "name": "stdout",
          "text": [
            "Input: <start> non voglio essere suo amico <end>\n",
            "Translation: i do not want to be friends with you <end>\n",
            "BLEU Score: 1.0\n"
          ]
        }
      ]
    },
    {
      "cell_type": "code",
      "source": [
        "# Predict on 1000 random sentences on test data and calculate the average BLEU score of sentences.\n",
        "# https://www.nltk.org/_modules/nltk/translate/bleu_score.html\n",
        "import random \n",
        "\n",
        "rand_sentences = random.sample(validation['ita_in'].tolist(), 1000)\n",
        "translated_senetences = list(map(lambda x: predict(x), rand_sentences))\n",
        "bleu_inputs = list(zip(rand_sentences, translated_senetences))\n",
        "bleu_scores = list(map(lambda x: calculate_bleu(x), bleu_inputs))\n",
        "average_bleu_score = np.mean(bleu_scores)\n",
        "\n",
        "print(\"Average Bleu Scores:\", average_bleu_score)"
      ],
      "metadata": {
        "colab": {
          "base_uri": "https://localhost:8080/"
        },
        "id": "6z4cxm6RVGL_",
        "outputId": "0d2b1d3b-2128-4e69-b1d3-1a950141d8df"
      },
      "execution_count": null,
      "outputs": [
        {
          "output_type": "stream",
          "name": "stdout",
          "text": [
            "Average Bleu Scores: 0.6723495468212515\n"
          ]
        }
      ]
    },
    {
      "cell_type": "markdown",
      "metadata": {
        "id": "yZhX3K9GLOfJ"
      },
      "source": [
        "## 2. Including Attention mechanisum"
      ]
    },
    {
      "cell_type": "markdown",
      "metadata": {
        "id": "Q3d7GeBMGbsJ"
      },
      "source": [
        "1. Using the preprocessed data from Part-1\n",
        "\n",
        "2. We implement an Encoder and Decoder architecture with  \n",
        "attention.\n",
        "\n",
        "    * Encoder   - with 1 layer LSTM <br>\n",
        "    * Decoder   - with 1 layer LSTM<br>\n",
        "    * Attention Layer\n",
        "3. In Global attention, we have 3 types of scoring functions\n",
        "<img src='https://i.imgur.com/iD2jZo3.png'>\n",
        "\n",
        "    * In model 1 you need to implemnt \"dot\" score function\n",
        "    * In model 2 you need to implemnt \"general\" score function\n",
        "    * In model 3 you need to implemnt \"concat\" score function.<br>\n",
        "    \n",
        "4. We train the model with simple model.fit() only.\n",
        "\n",
        "5. Using attention weights, we create the attention plots\n",
        "6. The attention layer is subclassed from tf.keras.layers to have custom functionality\n",
        "\n",
        "7. Class OneStepDecoder is subclassed from tf.keras.Model fro custom functionality.\n",
        "\n",
        "9. Using BLEU score as metric to evaluate models. \n",
        "10. Using Tensorboard to plot the Graph, Scores and histograms of gradients. "
      ]
    },
    {
      "cell_type": "markdown",
      "metadata": {
        "id": "PU4KIsGxLOfK"
      },
      "source": [
        "### <font color='blue'>**Implement custom encoder decoder and attention layers**</font>"
      ]
    },
    {
      "cell_type": "markdown",
      "metadata": {
        "id": "TMm3ADQDLOfK"
      },
      "source": [
        "<font color='blue'>**Encoder**</font>"
      ]
    },
    {
      "cell_type": "code",
      "execution_count": null,
      "metadata": {
        "id": "Lx_5NA24KzRp"
      },
      "outputs": [],
      "source": [
        "class Encoder(tf.keras.Model):\n",
        "    '''\n",
        "    Encoder model -- That takes a input sequence and returns output sequence\n",
        "    '''\n",
        "\n",
        "    def __init__(self,inp_vocab_size,embedding_dim,enc_units,input_length):\n",
        "\n",
        "        #Initialize Embedding layer\n",
        "        super(Encoder,self).__init__()\n",
        "        self.vocab_size = inp_vocab_size\n",
        "        self.embedding_dim = embedding_dim\n",
        "        self.input_length = input_length\n",
        "        self.lstm_size = enc_units #number of lstm units\n",
        "\n",
        "        #Initialize Embedding layer\n",
        "        self.embedding = Embedding(input_dim=self.vocab_size, output_dim=self.embedding_dim, input_length=self.input_length,\n",
        "                           mask_zero=True, name=\"embedding_layer_encoder\")\n",
        "        \n",
        "        #Intialize Encoder LSTM layer\n",
        "        self.lstm = LSTM(units = self.lstm_size, return_sequences=True, return_state=True, name='lstm_encoder')\n",
        "\n",
        "    def call(self,input_sequence,states):\n",
        "      '''\n",
        "          This function takes a sequence input and the initial states of the encoder.\n",
        "          Pass the input_sequence input to the Embedding layer, Pass the embedding layer ouput to encoder_lstm\n",
        "          returns -- All encoder_outputs, last time steps hidden and cell state\n",
        "      '''\n",
        "      input_embed = self.embedding(input_sequence)\n",
        "      self.lstm_output, self.lstm_state_h,self.lstm_state_c = self.lstm(input_embed, initial_state = states)\n",
        "      return self.lstm_output, self.lstm_state_h,self.lstm_state_c\n",
        "\n",
        "    \n",
        "    def initialize_states(self,batch_size):\n",
        "      '''\n",
        "      Given a batch size it will return intial hidden state and intial cell state.\n",
        "      If batch size is 32- Hidden state is zeros of size [32,lstm_units], cell state zeros is of size [32,lstm_units]\n",
        "      '''\n",
        "      initial_state_h = tf.zeros(shape = (batch_size, self.lstm_size))\n",
        "      initial_state_c = tf.zeros(shape = (batch_size, self.lstm_size))\n",
        "      return  (initial_state_h , initial_state_c)"
      ]
    },
    {
      "cell_type": "markdown",
      "metadata": {
        "id": "lXn278lhLYRM"
      },
      "source": [
        "<font color='blue'>**Attention**</font>"
      ]
    },
    {
      "cell_type": "markdown",
      "source": [
        "at every timestep of decoder lstm, we have hidden state vector hd of shape (1,256) we take similarity of hd with he all states "
      ],
      "metadata": {
        "id": "r2YkUFybd9rY"
      }
    },
    {
      "cell_type": "code",
      "execution_count": null,
      "metadata": {
        "id": "ab5SNdPZLlur"
      },
      "outputs": [],
      "source": [
        "class Attention(tf.keras.layers.Layer):\n",
        "  '''\n",
        "    Class the calculates score based on the scoring_function using Bahdanu attention mechanism.\n",
        "  '''\n",
        "  def __init__(self,scoring_function, att_units):\n",
        "        super().__init__()\n",
        "        \n",
        "        self.score_fun = scoring_function\n",
        "\n",
        "        if self.score_fun == 'general':\n",
        "            #W\n",
        "            #note: we assuming that decoder units and encoder units are equal dec_units = enc_units = att_units  \n",
        "            self.W = tf.random.uniform(shape=[att_units,att_units]) \n",
        "\n",
        "        elif self.score_fun == 'concat':\n",
        "            #W1\n",
        "            self.W1 = tf.random.uniform(shape=[att_units,att_units])\n",
        "            #W2\n",
        "            self.W2 = tf.random.uniform(shape=[att_units,att_units])\n",
        "            #v \n",
        "            self.V1 = tf.random.uniform(shape=[att_units,1])\n",
        "  \n",
        "  def call(self,decoder_hidden_state,encoder_output):\n",
        "    '''\n",
        "      Attention mechanism takes two inputs current step -- decoder_hidden_state and all the encoder_outputs.\n",
        "      * Based on the scoring function we will find the score or similarity between decoder_hidden_state and encoder_output.\n",
        "        Multiply the score function with your encoder_outputs to get the context vector.\n",
        "        Function returns context vector and attention weights(softmax - scores)\n",
        "    '''\n",
        "    \n",
        "    if self.score_fun == 'dot':\n",
        "        # Implement Dot score function here\n",
        "\n",
        "        decoder_hidden_state=tf.expand_dims(decoder_hidden_state,2)\n",
        "        attention_weights=tf.matmul(encoder_output,decoder_hidden_state)\n",
        "        attention_weights=tf.nn.softmax(attention_weights,axis=1)\n",
        "        context_vector = attention_weights*encoder_output\n",
        "        context_vector = tf.reduce_sum(context_vector, axis=1)\n",
        "\n",
        "        \n",
        "    elif self.score_fun == 'general':\n",
        "        decoder_hidden_state=tf.matmul(decoder_hidden_state,self.W)\n",
        "        decoder_hidden_state=tf.expand_dims(decoder_hidden_state,2)\n",
        "        attention_weights=tf.matmul(encoder_output,decoder_hidden_state)\n",
        "        attention_weights=tf.nn.softmax(attention_weights,axis=1)\n",
        "        context_vector=attention_weights*encoder_output\n",
        "        context_vector=tf.reduce_sum(context_vector,axis=1)\n",
        "\n",
        "        \n",
        "    elif self.score_fun == 'concat':\n",
        "        decoder_hidden_state = tf.expand_dims(decoder_hidden_state,1)\n",
        "        attention_weights = tf.matmul(tf.nn.tanh(tf.matmul(decoder_hidden_state,self.W1) + tf.matmul(encoder_output,self.W2)),self.V1)\n",
        "        attention_weights=tf.nn.softmax(attention_weights,axis=1)\n",
        "        context_vector = attention_weights*encoder_output\n",
        "        context_vector = tf.reduce_sum(context_vector, axis=1)\n",
        "\n",
        "        \n",
        "    return context_vector,attention_weights"
      ]
    },
    {
      "cell_type": "markdown",
      "metadata": {
        "id": "ic-FNEbfL2DN"
      },
      "source": [
        "<font color='blue'>**OneStepDecoder**</font>"
      ]
    },
    {
      "cell_type": "code",
      "execution_count": null,
      "metadata": {
        "id": "Kc8m7lmOL097"
      },
      "outputs": [],
      "source": [
        "class OneStepDecoder(tf.keras.Model):\n",
        "  def __init__(self,tar_vocab_size, embedding_dim, input_length, dec_units ,score_fun ,att_units):\n",
        "\n",
        "      # Initialize decoder embedding layer, LSTM and any other objects needed\n",
        "        super(OneStepDecoder, self).__init__()\n",
        "        self.vocab_size = tar_vocab_size\n",
        "        self.embedding_dim = embedding_dim\n",
        "        self.input_length = input_length\n",
        "        self.lstm_size = dec_units #number of lstm units\n",
        "        self.att_units = att_units\n",
        "        self.score_func = score_fun\n",
        "\n",
        "        #Initialize necessary layers\n",
        "        self.embedding = Embedding(input_dim=self.vocab_size, output_dim=self.embedding_dim, input_length=self.input_length,\n",
        "                           mask_zero=True, name=\"embedding_layer_onestepdecoder\")\n",
        "        \n",
        "        self.attention = Attention(self.score_func, self.att_units )\n",
        "        \n",
        "        self.concat = Concatenate(name='concat_onestepdecoder')\n",
        "\n",
        "        self.lstm = LSTM(units = self.lstm_size, return_sequences=True, return_state=True, name='lstm_onestepdecoder')\n",
        "\n",
        "        self.dense = Dense(units = self.vocab_size, activation='softmax')\n",
        "\n",
        "\n",
        "  def call(self,input_to_decoder, encoder_output, state_h,state_c):\n",
        "    '''\n",
        "        One step decoder mechanisim step by step:\n",
        "      A. Pass the input_to_decoder to the embedding layer and then get the output(batch_size,1,embedding_dim)\n",
        "      B. Using the encoder_output and decoder hidden state, compute the context vector.\n",
        "      C. Concat the context vector with the step A output\n",
        "      D. Pass the Step-C output to LSTM/GRU and get the decoder output and states(hidden and cell state)\n",
        "      E. Pass the decoder output to dense layer(vocab size) and store the result into output.\n",
        "      F. Return the states from step D, output from Step E, attention weights from Step -B\n",
        "    '''\n",
        "    #for each input word get the context vector using attention mechanism and cocat them together before inputting to lstm cell\n",
        "    input_word_embed = self.embedding(input_to_decoder)\n",
        "\n",
        "    context_vector, attention_weights = self.attention(state_h, encoder_output) \n",
        "    context_vector_reshaped = tf.expand_dims(context_vector, 1)\n",
        "\n",
        "    decoder_input = self.concat([context_vector_reshaped, input_word_embed])\n",
        "\n",
        "    dec_output, dec_state_h, dec_state_c = self.lstm(decoder_input, initial_state = [state_h, state_c])\n",
        "\n",
        "    dec_output = tf.reshape(dec_output, (dec_output.shape[0],dec_output.shape[2]))\n",
        "\n",
        "    #get the output vector at timestep t which represents the probability of each word in vocab\n",
        "    #the word with highest probability is the predicted word which is fed as input at timestep t+1 \n",
        "    output = self.dense(dec_output)\n",
        "    \n",
        "    return output, dec_state_h, dec_state_c, attention_weights, context_vector"
      ]
    },
    {
      "cell_type": "markdown",
      "metadata": {
        "id": "6FHrurjUMGAi"
      },
      "source": [
        "<font color='blue'>**Decoder**</font>"
      ]
    },
    {
      "cell_type": "code",
      "execution_count": null,
      "metadata": {
        "id": "NV-x31rj6Hc4"
      },
      "outputs": [],
      "source": [
        "class Decoder(tf.keras.Model):\n",
        "    def __init__(self,out_vocab_size, embedding_dim, input_length, dec_units ,score_fun ,att_units):\n",
        "        #Intialize necessary variables and create an object from the class onestepdecoder\n",
        "        super(Decoder, self).__init__()\n",
        "        self.vocab_size = out_vocab_size\n",
        "        self.embedding_dim = embedding_dim\n",
        "        self.input_length = input_length\n",
        "        self.lstm_size = dec_units #number of lstm units in decoder lstm layer\n",
        "        self.att_units = att_units #number of units in attention layer\n",
        "        self.score_fun = score_fun \n",
        "\n",
        "\n",
        "        self.one_step_decoder = OneStepDecoder(tar_vocab_size = self.vocab_size, embedding_dim = self.embedding_dim, input_length = self.input_length, \n",
        "                                              dec_units = self.lstm_size ,score_fun = self.score_fun, att_units = self.att_units)\n",
        "\n",
        "\n",
        "    @tf.function\n",
        "    def call(self, input_to_decoder,encoder_output,decoder_hidden_state,decoder_cell_state ):\n",
        "\n",
        "        #Initialize an empty Tensor array, that will store the outputs at each and every time step\n",
        "        #Create a tensor array as shown in the reference notebook\n",
        "        #It supports gradient back-propagation via special \"flow\" control flow dependencies.\n",
        "        all_outputs = tf.TensorArray(tf.float32, size = self.input_length, name='output_arrays') #this stores arrays of length vocab_size corr. to each word in the sequence \n",
        "        \n",
        "        #Iterate till the length of the decoder input\n",
        "            # Call onestepdecoder for each token in decoder_input\n",
        "            # Store the output in tensorarray\n",
        "        # Return the tensor array\n",
        "        for timestep in range(self.input_length): \n",
        "            output, decoder_hidden_state, decoder_cell_state, attention_weights, context_vector = self.one_step_decoder(input_to_decoder[:, timestep:timestep+1], encoder_output,  \n",
        "                                                                                                                        decoder_hidden_state, decoder_cell_state)\n",
        "            all_outputs = all_outputs.write(timestep, output)\n",
        "        \n",
        "\n",
        "        #in case of 3 dims we need to specify which dimensions neeed to be transposed so the natural form is [0,1,2] -> interchanged  [1,0,2]\n",
        "        all_outputs = tf.transpose(all_outputs.stack(),[1,0,2]) \n",
        "        return all_outputs"
      ]
    },
    {
      "cell_type": "markdown",
      "metadata": {
        "id": "fC1T1EOoMTqC"
      },
      "source": [
        "<font color='blue'>**Encoder Decoder model**</font>"
      ]
    },
    {
      "cell_type": "code",
      "execution_count": null,
      "metadata": {
        "id": "FfqBIe20MT3D"
      },
      "outputs": [],
      "source": [
        "class encoder_decoder(tf.keras.Model):\n",
        "    def __init__(self,*params):\n",
        "        #Initialize objects from encoder decoder\n",
        "        super().__init__()\n",
        "        self.vocab_size_in = params[0]\n",
        "        self.vocab_size_out = params[1]\n",
        "        self.inp_len_enc = params[2]\n",
        "        self.inp_len_dec = params[3]\n",
        "        self.embed_size = params[4]\n",
        "        self.lstm_units = params[5]\n",
        "        self.score_fun= params[6]\n",
        "        self.att_units = params[7]\n",
        "        \n",
        "        #Create encoder object\n",
        "        self.encoder = Encoder(inp_vocab_size = self.vocab_size_in, embedding_dim = self.embed_size ,enc_units = self.lstm_units, input_length=self.inp_len_enc)\n",
        "        \n",
        "        #Create decoder object\n",
        "        self.decoder = Decoder(out_vocab_size = self.vocab_size_out, embedding_dim = self.embed_size ,dec_units = self.lstm_units, input_length=self.inp_len_dec, \n",
        "                               score_fun = self.score_fun, att_units = self.att_units)\n",
        "  \n",
        "    def call(self,data):\n",
        "        \n",
        "        # Decoder initial states are encoder final states, Initialize it accordingly\n",
        "        # Pass the decoder sequence,encoder_output,decoder states to Decoder\n",
        "        # return the decoder output\n",
        "        \n",
        "        input_sequence, target_sequence = data\n",
        "\n",
        "        init_state = self.encoder.initialize_states(1024) #Intialize encoder states, Pass the encoder_sequence to the embedding layer batch_size=1024\n",
        "\n",
        "        encoder_out, encoder_state_h, encoder_state_c = self.encoder(input_sequence, states = init_state)\n",
        "\n",
        "        outputs = self.decoder(target_sequence, encoder_out, encoder_state_h, encoder_state_c)\n",
        "        \n",
        "        return outputs"
      ]
    },
    {
      "cell_type": "markdown",
      "metadata": {
        "id": "WVRxB-FDMJWL"
      },
      "source": [
        "<font color='blue'>**Custom loss function**</font>"
      ]
    },
    {
      "cell_type": "code",
      "execution_count": null,
      "metadata": {
        "id": "QY_3izrXMs8y"
      },
      "outputs": [],
      "source": [
        "#https://www.tensorflow.org/tutorials/text/image_captioning#model\n",
        "\n",
        "\"\"\"The from_logits=True attribute inform the loss function that the output values generated by the model are not normalized, a.k.a. logits. \n",
        "In other words, the softmax function has not been applied on them to produce a probability distribution. \n",
        "Therefore, the output layer in this case does not have a softmax activation function:\n",
        "out = tf.keras.layers.Dense(n_units)  # <-- linear activation function\n",
        "The softmax function would be automatically applied on the output values by the loss function. \n",
        "Therefore, this does not make a difference with the scenario when you use from_logits=False (default) and a softmax activation function on last layer; \"\"\"\n",
        "\n",
        "loss_object = tf.keras.losses.SparseCategoricalCrossentropy(\n",
        "    from_logits=False, reduction='none') #one step decoder has last layer as softmax so we keep from_logits=False\n",
        "\n",
        "\n",
        "\n",
        "def loss_function(real, pred):\n",
        "    \"\"\" Custom loss function that will not consider the loss for padded zeros.\n",
        "    why are we using this, can't we use simple sparse categorical crossentropy?\n",
        "    Yes, you can use simple sparse categorical crossentropy as loss like we did in task-1. But in this loss function we are ignoring the loss\n",
        "    for the padded zeros. i.e when the input is zero then we donot need to worry what the output is. This padded zeros are added from our end\n",
        "    during preprocessing to make equal length for all the sentences.\n",
        "\n",
        "    \"\"\"\n",
        "    \n",
        "    # tf.math.equal(real, 0) ->  Returns the truth value of (x == y) element-wise. \n",
        "    # tf.math.logical_not(x) -> Returns the truth value of NOT x element-wise.\n",
        "    # e.g. real = [23,4,65,32,0,0,0] -> not(False),not(False),not(False),not(False), not(True), not(True), not(True) -> True,True,True,True,False,False,False \n",
        "    mask = tf.math.logical_not(tf.math.equal(real, 0))\n",
        "    loss_ = loss_object(real, pred)\n",
        "\n",
        "    mask = tf.cast(mask, dtype=loss_.dtype) #casted to 1s and 0s \n",
        "    loss_ *= mask #loss value is only valid at non padded positions (i.e. 1s)\n",
        "\n",
        "    return tf.reduce_mean(loss_)"
      ]
    },
    {
      "cell_type": "markdown",
      "source": [
        "<font color='blue' size=5>**Dot Scoring Function**</font>"
      ],
      "metadata": {
        "id": "0w7WXRGUUNrz"
      }
    },
    {
      "cell_type": "markdown",
      "metadata": {
        "id": "2QlbWAqNNlqe"
      },
      "source": [
        "<font color='blue'>**Training**</font>\n"
      ]
    },
    {
      "cell_type": "code",
      "source": [
        "# model build\n",
        "inp_vocab_size = ita_vocab_size\n",
        "out_vocab_size = eng_vocab_size\n",
        "encoder_input_length  = ita_inp_len\n",
        "decoder_input_length = eng_inp_len\n",
        "embedding_size = 20\n",
        "lstm_units = 256\n",
        "scoring = 'dot'\n",
        "att_units = 256 \n",
        "\n",
        "tf.keras.utils.set_random_seed(0)\n",
        "tf.keras.backend.clear_session()\n",
        "\n",
        "# Create an object of encoder_decoder Model class \n",
        "model_2 = encoder_decoder(inp_vocab_size, out_vocab_size, encoder_input_length, decoder_input_length, embedding_size, lstm_units, scoring, att_units)"
      ],
      "metadata": {
        "id": "hw0iHQKQHlQz"
      },
      "execution_count": null,
      "outputs": []
    },
    {
      "cell_type": "code",
      "source": [
        "#callbacks and steps\n",
        "callbacks_2 = [tensorboard_cb_dict[2], reducelr_cb, earlystop_cb]\n",
        "\n",
        "train_steps=train.shape[0]//1024\n",
        "valid_steps=validation.shape[0]//1024\n",
        "\n",
        "train_steps, valid_steps"
      ],
      "metadata": {
        "colab": {
          "base_uri": "https://localhost:8080/"
        },
        "id": "ng7SVeSfhIgi",
        "outputId": "ed546c98-e2a1-482c-aeb1-1d922d375af4"
      },
      "execution_count": null,
      "outputs": [
        {
          "output_type": "execute_result",
          "data": {
            "text/plain": [
              "(276, 69)"
            ]
          },
          "metadata": {},
          "execution_count": 49
        }
      ]
    },
    {
      "cell_type": "code",
      "source": [
        "model_2.compile(optimizer=tf.keras.optimizers.Adam(learning_rate=0.01),loss=loss_function)\n",
        "history_2 = model_2.fit(x = train_dataloader, steps_per_epoch=train_steps, epochs=20, validation_data=test_dataloader, \n",
        "                        validation_steps=valid_steps, verbose=2, callbacks=callbacks_2)"
      ],
      "metadata": {
        "colab": {
          "base_uri": "https://localhost:8080/"
        },
        "id": "ZnefhIELhqHW",
        "outputId": "02744409-527f-40d5-a3b3-7a37432493b9"
      },
      "execution_count": null,
      "outputs": [
        {
          "output_type": "stream",
          "name": "stdout",
          "text": [
            "Epoch 1/20\n",
            "276/276 - 250s - loss: 1.3148 - val_loss: 1.1394 - lr: 0.0100 - 250s/epoch - 905ms/step\n",
            "Epoch 2/20\n",
            "276/276 - 189s - loss: 0.9992 - val_loss: 0.8354 - lr: 0.0100 - 189s/epoch - 686ms/step\n",
            "Epoch 3/20\n",
            "276/276 - 190s - loss: 0.5556 - val_loss: 0.4004 - lr: 0.0100 - 190s/epoch - 687ms/step\n",
            "Epoch 4/20\n",
            "276/276 - 190s - loss: 0.3100 - val_loss: 0.2888 - lr: 0.0100 - 190s/epoch - 688ms/step\n",
            "Epoch 5/20\n",
            "276/276 - 190s - loss: 0.2192 - val_loss: 0.2412 - lr: 0.0100 - 190s/epoch - 689ms/step\n",
            "Epoch 6/20\n",
            "276/276 - 189s - loss: 0.1728 - val_loss: 0.2164 - lr: 0.0100 - 189s/epoch - 686ms/step\n",
            "Epoch 7/20\n",
            "276/276 - 190s - loss: 0.1446 - val_loss: 0.2025 - lr: 0.0100 - 190s/epoch - 688ms/step\n",
            "Epoch 8/20\n",
            "276/276 - 190s - loss: 0.1254 - val_loss: 0.1937 - lr: 0.0100 - 190s/epoch - 687ms/step\n",
            "Epoch 9/20\n",
            "276/276 - 190s - loss: 0.1117 - val_loss: 0.1886 - lr: 0.0100 - 190s/epoch - 687ms/step\n",
            "Epoch 10/20\n",
            "276/276 - 190s - loss: 0.1011 - val_loss: 0.1841 - lr: 0.0100 - 190s/epoch - 688ms/step\n",
            "Epoch 11/20\n",
            "276/276 - 190s - loss: 0.0930 - val_loss: 0.1818 - lr: 0.0100 - 190s/epoch - 687ms/step\n",
            "Epoch 12/20\n",
            "276/276 - 190s - loss: 0.0866 - val_loss: 0.1802 - lr: 0.0100 - 190s/epoch - 687ms/step\n",
            "Epoch 13/20\n",
            "276/276 - 190s - loss: 0.0810 - val_loss: 0.1802 - lr: 0.0100 - 190s/epoch - 688ms/step\n",
            "Epoch 14/20\n",
            "276/276 - 190s - loss: 0.0764 - val_loss: 0.1788 - lr: 0.0100 - 190s/epoch - 687ms/step\n",
            "Epoch 15/20\n",
            "276/276 - 190s - loss: 0.0726 - val_loss: 0.1797 - lr: 0.0100 - 190s/epoch - 687ms/step\n",
            "Epoch 16/20\n",
            "276/276 - 189s - loss: 0.0701 - val_loss: 0.1808 - lr: 0.0100 - 189s/epoch - 686ms/step\n",
            "Epoch 17/20\n",
            "276/276 - 190s - loss: 0.0518 - val_loss: 0.1654 - lr: 0.0050 - 190s/epoch - 687ms/step\n",
            "Epoch 18/20\n",
            "276/276 - 190s - loss: 0.0428 - val_loss: 0.1657 - lr: 0.0050 - 190s/epoch - 688ms/step\n",
            "Epoch 19/20\n",
            "276/276 - 190s - loss: 0.0400 - val_loss: 0.1672 - lr: 0.0050 - 190s/epoch - 687ms/step\n",
            "Epoch 20/20\n",
            "276/276 - 190s - loss: 0.0335 - val_loss: 0.1640 - lr: 0.0025 - 190s/epoch - 687ms/step\n"
          ]
        }
      ]
    },
    {
      "cell_type": "markdown",
      "source": [
        "- Blue represents Validation\n",
        "- Orange represents Train"
      ],
      "metadata": {
        "id": "ayEQrjzmWjaL"
      }
    },
    {
      "cell_type": "markdown",
      "source": [
        "![Screenshot 2022-08-29 210732-mod2 loss.png](data:image/png;base64,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)"
      ],
      "metadata": {
        "id": "fvGaliA1QbDY"
      }
    },
    {
      "cell_type": "markdown",
      "metadata": {
        "id": "6DpC9zlzMcXp"
      },
      "source": [
        "## <font color='blue'>**Inference**</font>"
      ]
    },
    {
      "cell_type": "markdown",
      "metadata": {
        "id": "Z5NhESYyMW_t"
      },
      "source": [
        "<font color='blue'>**Plot attention weights**</font>"
      ]
    },
    {
      "cell_type": "code",
      "execution_count": null,
      "metadata": {
        "id": "pkEY7SsBMtrC"
      },
      "outputs": [],
      "source": [
        "def plot_attention(sentence, predicted_sentence, attention_matrix):\n",
        "    #Refer: https://www.tensorflow.org/tutorials/text/nmt_with_attention#translate\n",
        "    plt.figure(figsize=(15,10))\n",
        "    ax = sns.heatmap(attention_matrix, cmap='BuPu', annot=True, fmt='.2g')\n",
        "    fontdict = {'fontsize': 15}\n",
        "    ax.set_xticklabels(sentence.split(), fontdict=fontdict, rotation=90)\n",
        "    ax.set_yticklabels(predicted_sentence.split(), fontdict=fontdict)\n",
        "    ax.set_xlabel('Input text')\n",
        "    ax.set_ylabel('Output text')\n",
        "    plt.suptitle('Attention weights')\n",
        "    return plt.show()"
      ]
    },
    {
      "cell_type": "markdown",
      "metadata": {
        "id": "e1IhdBrgQYJr"
      },
      "source": [
        "<font color='blue'>**Predict the sentence translation**</font>"
      ]
    },
    {
      "cell_type": "code",
      "execution_count": null,
      "metadata": {
        "id": "MP3kLZoPMvSu"
      },
      "outputs": [],
      "source": [
        "def predict_w_att(input_sentence, model):\n",
        "    \"\"\" A. Given input sentence, convert the sentence into integers using tokenizer used earlier\n",
        "    B. Pass the input_sequence to encoder. we get encoder_outputs, last time step hidden and cell state\n",
        "    C. Initialize index of <start> as input to decoder. and encoder final states as input_states to decoder\n",
        "    D. till we reach max_length of decoder or till the model predicted word <end>\n",
        "         predicted_out,state_h,state_c=model.layers[1](dec_input,states)\n",
        "         pass the predicted_out to the dense layer\n",
        "         update the states=[state_h,state_c]\n",
        "         And get the index of the word with maximum probability of the dense layer output, using the tokenizer(word index) get the word and then store it in a string.\n",
        "         Update the input_to_decoder with current predictions\n",
        "    F. Return the predicted sentence \"\"\"\n",
        "    \n",
        "    MAX_LEN = 27\n",
        "    input_ita = [input_sentence] \n",
        "    encoder_seq = tknizer_ita.texts_to_sequences(input_ita) \n",
        "    encoder_seq = pad_sequences(encoder_seq, maxlen= MAX_LEN, dtype='int32', padding='post') \n",
        "\n",
        "    enc_initial_state = model.layers[0].initialize_states(len(encoder_seq)) \n",
        "    enc_out, enc_state_h, enc_state_c = model.layers[0](encoder_seq, states = enc_initial_state)\n",
        "    states_values = [enc_state_h, enc_state_c] \n",
        "\n",
        "    pred = []\n",
        "    cur_vec = np.ones((1, 1)) #[[1]] -> 1 : <start> for first input to decoder #np.ones instead of np.zeros \n",
        "    att_per_token = []\n",
        "\n",
        "    for i in range(MAX_LEN):\n",
        " \n",
        "        infe_output, state_h, state_c, attention_weights, context_vector = model.layers[1].one_step_decoder(cur_vec, enc_out, states_values[0], states_values[1]) \n",
        "        \n",
        "        states_values = [state_h, state_c]\n",
        "        cur_vec = np.reshape(np.argmax(infe_output), (1, 1))\n",
        "        \n",
        "        pred.append(cur_vec)\n",
        "        att_per_token.append(attention_weights)\n",
        "\n",
        "        #break the loop once <end> token is returned\n",
        "        if (cur_vec[0,0] == 2):\n",
        "            break\n",
        "        \n",
        "\n",
        "    pred_seq = np.stack(pred, 2)[0]\n",
        "    pred_text = tknizer_eng.sequences_to_texts(pred_seq)[0]\n",
        "\n",
        "    att_matrix = np.stack(att_per_token, 0)\n",
        "    att_matrix = att_matrix.reshape(-1,27)\n",
        "    original_len = len(input_sentence.split())\n",
        "\n",
        "    return pred_text, att_matrix[:, :original_len]"
      ]
    },
    {
      "cell_type": "markdown",
      "source": [
        "**Testing predict_w_att and plot_attention functions on a random record from validation set**"
      ],
      "metadata": {
        "id": "UzGwyaP151QP"
      }
    },
    {
      "cell_type": "code",
      "source": [
        "\n",
        "print('Input:', validation['ita_in'][43817])\n",
        "print('Translation:', predict_w_att(validation['ita_in'][43817], model_2)[0])\n",
        "plot_attention(validation['ita_in'][43817], predict_w_att(validation['ita_in'][43817], model_2)[0], predict_w_att(validation['ita_in'][43817], model_2)[1])"
      ],
      "metadata": {
        "colab": {
          "base_uri": "https://localhost:8080/",
          "height": 764
        },
        "id": "zDg7FRKNPSY3",
        "outputId": "2856c79d-7353-4f5c-b041-693783458eb3"
      },
      "execution_count": null,
      "outputs": [
        {
          "output_type": "stream",
          "name": "stdout",
          "text": [
            "Input: <start> chi ha difeso tom <end>\n",
            "Translation: who has tom ever reply <end>\n"
          ]
        },
        {
          "output_type": "display_data",
          "data": {
            "text/plain": [
              "<Figure size 1080x720 with 2 Axes>"
            ],
            "image/png": "[encoded data removed]"
          },
          "metadata": {
            "needs_background": "light"
          }
        }
      ]
    },
    {
      "cell_type": "markdown",
      "metadata": {
        "id": "jmxIVOOQPWMu"
      },
      "source": [
        "<font color='blue'>**Calculate BLEU score**</font>"
      ]
    },
    {
      "cell_type": "code",
      "source": [
        "# Predict on 1000 random sentences on test data and calculate the average BLEU score of these sentences.\n",
        "import random\n",
        "rand_sentences = random.sample(validation['ita_in'].tolist(), 1000)\n",
        "translated_senetences = list(map(lambda x: predict_w_att(x, model_2)[0], rand_sentences))\n",
        "bleu_inputs = list(zip(rand_sentences, translated_senetences))\n",
        "bleu_scores = list(map(lambda x: calculate_bleu(x), bleu_inputs))\n",
        "average_bleu_score = np.mean(bleu_scores)\n",
        "\n",
        "print(\"Average Bleu Scores:\", average_bleu_score)"
      ],
      "metadata": {
        "colab": {
          "base_uri": "https://localhost:8080/"
        },
        "outputId": "c2699680-7f85-4a94-e628-7a2407e01d19",
        "id": "LpQUIOqG3Azr"
      },
      "execution_count": null,
      "outputs": [
        {
          "output_type": "stream",
          "name": "stdout",
          "text": [
            "Average Bleu Scores: 0.6969677711045861\n"
          ]
        }
      ]
    },
    {
      "cell_type": "markdown",
      "source": [
        "**Plotting attention matrix for a couple of random records**"
      ],
      "metadata": {
        "id": "_ThCOMy35qi3"
      }
    },
    {
      "cell_type": "code",
      "source": [
        "print('Input:',rand_sentences[6])\n",
        "print('Translation:',predict_w_att(rand_sentences[6], model_2)[0])\n",
        "plot_attention(rand_sentences[6], predict_w_att(rand_sentences[6], model_2)[0], predict_w_att(rand_sentences[6], model_2)[1])"
      ],
      "metadata": {
        "colab": {
          "base_uri": "https://localhost:8080/",
          "height": 770
        },
        "id": "yaY2U809jBSk",
        "outputId": "cd4bbb53-560e-47f0-82fd-433820f39e6c"
      },
      "execution_count": null,
      "outputs": [
        {
          "output_type": "stream",
          "name": "stdout",
          "text": [
            "Input: <start> io penso che tom stia solo fingendo di dormire <end>\n",
            "Translation: i think tom is only pretending to be asleep <end>\n"
          ]
        },
        {
          "output_type": "display_data",
          "data": {
            "text/plain": [
              "<Figure size 1080x720 with 2 Axes>"
            ],
            "image/png": "[encoded data removed]"
          },
          "metadata": {
            "needs_background": "light"
          }
        }
      ]
    },
    {
      "cell_type": "code",
      "source": [
        "print('Input:',rand_sentences[512])\n",
        "print('Translation:',predict_w_att(rand_sentences[512], model_2)[0])\n",
        "plot_attention(rand_sentences[512], predict_w_att(rand_sentences[512], model_2)[0], predict_w_att(rand_sentences[512], model_2)[1])"
      ],
      "metadata": {
        "colab": {
          "base_uri": "https://localhost:8080/",
          "height": 781
        },
        "id": "Ofj-JGKlj55F",
        "outputId": "695f2ba0-f33d-44e8-92b2-25a301d88414"
      },
      "execution_count": null,
      "outputs": [
        {
          "output_type": "stream",
          "name": "stdout",
          "text": [
            "Input: <start> lasciatemi spiegare <end>\n",
            "Translation: let me explain <end>\n"
          ]
        },
        {
          "output_type": "display_data",
          "data": {
            "text/plain": [
              "<Figure size 1080x720 with 2 Axes>"
            ],
            "image/png": "[encoded data removed]"
          },
          "metadata": {
            "needs_background": "light"
          }
        }
      ]
    },
    {
      "cell_type": "markdown",
      "metadata": {
        "id": "SWg2ferDQvT3"
      },
      "source": [
        "<font color='blue' size=5>**General scoring function**</font>"
      ]
    },
    {
      "cell_type": "code",
      "source": [
        "# model build\n",
        "inp_vocab_size = ita_vocab_size\n",
        "out_vocab_size = eng_vocab_size\n",
        "encoder_input_length  = ita_inp_len\n",
        "decoder_input_length = eng_inp_len\n",
        "embedding_size = 20\n",
        "lstm_units = 256\n",
        "scoring = 'general'\n",
        "att_units = 256\n",
        "\n",
        "tf.keras.utils.set_random_seed(0)\n",
        "tf.keras.backend.clear_session()\n",
        "\n",
        "# Create an object of encoder_decoder Model class \n",
        "model_3 = encoder_decoder(inp_vocab_size, out_vocab_size, encoder_input_length, decoder_input_length, embedding_size, lstm_units, scoring, att_units)"
      ],
      "metadata": {
        "id": "GxcOXOIg7vcF"
      },
      "execution_count": null,
      "outputs": []
    },
    {
      "cell_type": "code",
      "source": [
        "#callbacks and steps\n",
        "callbacks_3 = [tensorboard_cb_dict[3], reducelr_cb, earlystop_cb]\n",
        "\n",
        "train_steps=train.shape[0]//1024\n",
        "valid_steps=validation.shape[0]//1024\n",
        "\n",
        "train_steps, valid_steps"
      ],
      "metadata": {
        "colab": {
          "base_uri": "https://localhost:8080/"
        },
        "outputId": "5068f8e7-5758-4dbf-d05a-0ea5072e2017",
        "id": "Ti6Mwwfw7vcF"
      },
      "execution_count": null,
      "outputs": [
        {
          "output_type": "execute_result",
          "data": {
            "text/plain": [
              "(276, 69)"
            ]
          },
          "metadata": {},
          "execution_count": 53
        }
      ]
    },
    {
      "cell_type": "code",
      "source": [
        "#compile and train\n",
        "model_3.compile(optimizer=tf.keras.optimizers.Adam(learning_rate=0.01),loss=loss_function)\n",
        "history_3 = model_3.fit(x = train_dataloader, steps_per_epoch=train_steps, epochs=20, validation_data=test_dataloader, \n",
        "                        validation_steps=valid_steps, verbose=2, callbacks=callbacks_3)"
      ],
      "metadata": {
        "colab": {
          "base_uri": "https://localhost:8080/"
        },
        "outputId": "88aafdee-3de7-41c5-ca6a-549f31fd6c72",
        "id": "Wzi_TqtX7vcG"
      },
      "execution_count": null,
      "outputs": [
        {
          "output_type": "stream",
          "name": "stdout",
          "text": [
            "Epoch 1/20\n",
            "276/276 - 254s - loss: 1.3025 - val_loss: 1.1194 - lr: 0.0100 - 254s/epoch - 920ms/step\n",
            "Epoch 2/20\n",
            "276/276 - 193s - loss: 0.8340 - val_loss: 0.5449 - lr: 0.0100 - 193s/epoch - 699ms/step\n",
            "Epoch 3/20\n",
            "276/276 - 193s - loss: 0.4057 - val_loss: 0.3307 - lr: 0.0100 - 193s/epoch - 699ms/step\n",
            "Epoch 4/20\n",
            "276/276 - 193s - loss: 0.2553 - val_loss: 0.2576 - lr: 0.0100 - 193s/epoch - 701ms/step\n",
            "Epoch 5/20\n",
            "276/276 - 193s - loss: 0.1895 - val_loss: 0.2233 - lr: 0.0100 - 193s/epoch - 700ms/step\n",
            "Epoch 6/20\n",
            "276/276 - 193s - loss: 0.1529 - val_loss: 0.2057 - lr: 0.0100 - 193s/epoch - 699ms/step\n",
            "Epoch 7/20\n",
            "276/276 - 193s - loss: 0.1300 - val_loss: 0.1951 - lr: 0.0100 - 193s/epoch - 700ms/step\n",
            "Epoch 8/20\n",
            "276/276 - 193s - loss: 0.1139 - val_loss: 0.1881 - lr: 0.0100 - 193s/epoch - 700ms/step\n",
            "Epoch 9/20\n",
            "276/276 - 193s - loss: 0.1027 - val_loss: 0.1835 - lr: 0.0100 - 193s/epoch - 699ms/step\n",
            "Epoch 10/20\n",
            "276/276 - 196s - loss: 0.0945 - val_loss: 0.1817 - lr: 0.0100 - 196s/epoch - 709ms/step\n",
            "Epoch 11/20\n",
            "276/276 - 193s - loss: 0.0868 - val_loss: 0.1799 - lr: 0.0100 - 193s/epoch - 700ms/step\n",
            "Epoch 12/20\n",
            "276/276 - 193s - loss: 0.0811 - val_loss: 0.1787 - lr: 0.0100 - 193s/epoch - 698ms/step\n",
            "Epoch 13/20\n",
            "276/276 - 193s - loss: 0.0788 - val_loss: 0.1793 - lr: 0.0100 - 193s/epoch - 699ms/step\n",
            "Epoch 14/20\n",
            "276/276 - 193s - loss: 0.0737 - val_loss: 0.1787 - lr: 0.0100 - 193s/epoch - 699ms/step\n",
            "Epoch 15/20\n",
            "276/276 - 193s - loss: 0.0535 - val_loss: 0.1630 - lr: 0.0050 - 193s/epoch - 701ms/step\n",
            "Epoch 16/20\n",
            "276/276 - 193s - loss: 0.0436 - val_loss: 0.1629 - lr: 0.0050 - 193s/epoch - 699ms/step\n",
            "Epoch 17/20\n",
            "276/276 - 193s - loss: 0.0402 - val_loss: 0.1637 - lr: 0.0050 - 193s/epoch - 700ms/step\n",
            "Epoch 18/20\n",
            "276/276 - 193s - loss: 0.0377 - val_loss: 0.1653 - lr: 0.0050 - 193s/epoch - 698ms/step\n",
            "Epoch 19/20\n",
            "276/276 - 193s - loss: 0.0320 - val_loss: 0.1618 - lr: 0.0025 - 193s/epoch - 699ms/step\n",
            "Epoch 20/20\n",
            "276/276 - 193s - loss: 0.0282 - val_loss: 0.1625 - lr: 0.0025 - 193s/epoch - 699ms/step\n"
          ]
        }
      ]
    },
    {
      "cell_type": "markdown",
      "source": [
        "- Blue represents Validation\n",
        "- Orange represents Train"
      ],
      "metadata": {
        "id": "DW3JHRaQWmAL"
      }
    },
    {
      "cell_type": "markdown",
      "source": [
        "![Screenshot 2022-08-29 210646 mod3 loss.png](data:image/png;base64,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)"
      ],
      "metadata": {
        "id": "6VSQpel4Qogt"
      }
    },
    {
      "cell_type": "code",
      "source": [
        "import random\n",
        "# Predict on 1000 random sentences on test data and calculate the average BLEU score of these sentences.\n",
        "rand_sentences = random.sample(validation['ita_in'].tolist(), 1000)\n",
        "translated_senetences = list(map(lambda x: predict_w_att(x, model_3)[0], rand_sentences))\n",
        "bleu_inputs = list(zip(rand_sentences, translated_senetences))\n",
        "bleu_scores = list(map(lambda x: calculate_bleu(x), bleu_inputs))\n",
        "average_bleu_score = np.mean(bleu_scores)\n",
        "\n",
        "print(\"Average Bleu Scores:\", average_bleu_score)"
      ],
      "metadata": {
        "id": "xjaLiYE77qlD",
        "colab": {
          "base_uri": "https://localhost:8080/"
        },
        "outputId": "492d3922-1c6a-4e43-8b7e-8c1f1d27ebb5"
      },
      "execution_count": null,
      "outputs": [
        {
          "output_type": "stream",
          "name": "stdout",
          "text": [
            "Average Bleu Scores: 0.6894557010429335\n"
          ]
        }
      ]
    },
    {
      "cell_type": "markdown",
      "source": [
        "**Plotting attention matrix for a couple of random records**\n"
      ],
      "metadata": {
        "id": "Wl_qvyh45JEm"
      }
    },
    {
      "cell_type": "code",
      "source": [
        "print('Input:',rand_sentences[6])\n",
        "print('Translation:',predict_w_att(rand_sentences[6], model_3)[0])\n",
        "plot_attention(rand_sentences[6], predict_w_att(rand_sentences[6], model_3)[0], predict_w_att(rand_sentences[6], model_3)[1])"
      ],
      "metadata": {
        "id": "eKPTvcTN8ILZ",
        "colab": {
          "base_uri": "https://localhost:8080/",
          "height": 770
        },
        "outputId": "146d146e-bdb5-40b5-c9f6-20b0b046adfd"
      },
      "execution_count": null,
      "outputs": [
        {
          "output_type": "stream",
          "name": "stdout",
          "text": [
            "Input: <start> io penso che tom stia solo fingendo di dormire <end>\n",
            "Translation: i think tom is only pretending to be asleep <end>\n"
          ]
        },
        {
          "output_type": "display_data",
          "data": {
            "text/plain": [
              "<Figure size 1080x720 with 2 Axes>"
            ],
            "image/png": "[encoded data removed]"
          },
          "metadata": {
            "needs_background": "light"
          }
        }
      ]
    },
    {
      "cell_type": "code",
      "source": [
        "print('Input:',rand_sentences[512])\n",
        "print('Translation:',predict_w_att(rand_sentences[512], model_3)[0])\n",
        "plot_attention(rand_sentences[512], predict_w_att(rand_sentences[512], model_3)[0], predict_w_att(rand_sentences[512], model_3)[1])"
      ],
      "metadata": {
        "colab": {
          "base_uri": "https://localhost:8080/",
          "height": 781
        },
        "id": "gqk31DZ04yAC",
        "outputId": "95e326ba-73c5-4311-e5a4-cd66e7ca8b5a"
      },
      "execution_count": null,
      "outputs": [
        {
          "output_type": "stream",
          "name": "stdout",
          "text": [
            "Input: <start> lasciatemi spiegare <end>\n",
            "Translation: let me explain <end>\n"
          ]
        },
        {
          "output_type": "display_data",
          "data": {
            "text/plain": [
              "<Figure size 1080x720 with 2 Axes>"
            ],
            "image/png": "[encoded data removed]"
          },
          "metadata": {
            "needs_background": "light"
          }
        }
      ]
    },
    {
      "cell_type": "markdown",
      "metadata": {
        "id": "VB1jRUqZQ9AM"
      },
      "source": [
        "<font color='blue' size=5>**Concat scoring function**</font>"
      ]
    },
    {
      "cell_type": "code",
      "source": [
        "# model build\n",
        "inp_vocab_size = ita_vocab_size\n",
        "out_vocab_size = eng_vocab_size\n",
        "encoder_input_length  = ita_inp_len\n",
        "decoder_input_length = eng_inp_len\n",
        "embedding_size = 20\n",
        "lstm_units = 256\n",
        "scoring = 'concat'\n",
        "att_units = 256\n",
        "\n",
        "tf.keras.utils.set_random_seed(0)\n",
        "tf.keras.backend.clear_session()\n",
        "\n",
        "# Create an object of encoder_decoder Model class \n",
        "model_4 = encoder_decoder(inp_vocab_size, out_vocab_size, encoder_input_length, decoder_input_length, embedding_size, lstm_units, scoring, att_units)"
      ],
      "metadata": {
        "id": "xoFdY2ig8mCp"
      },
      "execution_count": null,
      "outputs": []
    },
    {
      "cell_type": "code",
      "source": [
        "#callbacks and steps\n",
        "callbacks_4 = [tensorboard_cb_dict[4], reducelr_cb, earlystop_cb]\n",
        "\n",
        "train_steps=train.shape[0]//1024\n",
        "valid_steps=validation.shape[0]//1024\n",
        "\n",
        "train_steps, valid_steps"
      ],
      "metadata": {
        "colab": {
          "base_uri": "https://localhost:8080/"
        },
        "outputId": "7bdd0ccc-8124-4e80-8d22-174686aeb831",
        "id": "tB5WvrX68mCr"
      },
      "execution_count": null,
      "outputs": [
        {
          "output_type": "execute_result",
          "data": {
            "text/plain": [
              "(276, 69)"
            ]
          },
          "metadata": {},
          "execution_count": 51
        }
      ]
    },
    {
      "cell_type": "code",
      "source": [
        "#compile and train\n",
        "model_4.compile(optimizer=tf.keras.optimizers.Adam(learning_rate=0.01),loss=loss_function)\n",
        "history_4 = model_4.fit(x = train_dataloader, steps_per_epoch=train_steps, epochs=20, validation_data=test_dataloader, \n",
        "                        validation_steps=valid_steps, verbose=2, callbacks=callbacks_4)"
      ],
      "metadata": {
        "colab": {
          "base_uri": "https://localhost:8080/"
        },
        "outputId": "d60c7f1b-9eaa-4110-cacb-9e453adc2781",
        "id": "7OBfF2KG8mCr"
      },
      "execution_count": null,
      "outputs": [
        {
          "output_type": "stream",
          "name": "stdout",
          "text": [
            "Epoch 1/20\n",
            "276/276 - 280s - loss: 1.2557 - val_loss: 1.0011 - lr: 0.0100 - 280s/epoch - 1s/step\n",
            "Epoch 2/20\n",
            "276/276 - 217s - loss: 0.7787 - val_loss: 0.5502 - lr: 0.0100 - 217s/epoch - 786ms/step\n",
            "Epoch 3/20\n",
            "276/276 - 217s - loss: 0.4221 - val_loss: 0.3479 - lr: 0.0100 - 217s/epoch - 787ms/step\n",
            "Epoch 4/20\n",
            "276/276 - 217s - loss: 0.2728 - val_loss: 0.2711 - lr: 0.0100 - 217s/epoch - 786ms/step\n",
            "Epoch 5/20\n",
            "276/276 - 217s - loss: 0.2043 - val_loss: 0.2351 - lr: 0.0100 - 217s/epoch - 785ms/step\n",
            "Epoch 6/20\n",
            "276/276 - 217s - loss: 0.1656 - val_loss: 0.2149 - lr: 0.0100 - 217s/epoch - 786ms/step\n",
            "Epoch 7/20\n",
            "276/276 - 217s - loss: 0.1407 - val_loss: 0.2028 - lr: 0.0100 - 217s/epoch - 785ms/step\n",
            "Epoch 8/20\n",
            "276/276 - 217s - loss: 0.1230 - val_loss: 0.1956 - lr: 0.0100 - 217s/epoch - 785ms/step\n",
            "Epoch 9/20\n",
            "276/276 - 216s - loss: 0.1106 - val_loss: 0.1895 - lr: 0.0100 - 216s/epoch - 784ms/step\n",
            "Epoch 10/20\n",
            "276/276 - 216s - loss: 0.1007 - val_loss: 0.1869 - lr: 0.0100 - 216s/epoch - 783ms/step\n",
            "Epoch 11/20\n",
            "276/276 - 217s - loss: 0.0938 - val_loss: 0.1854 - lr: 0.0100 - 217s/epoch - 786ms/step\n",
            "Epoch 12/20\n",
            "276/276 - 217s - loss: 0.0876 - val_loss: 0.1843 - lr: 0.0100 - 217s/epoch - 785ms/step\n",
            "Epoch 13/20\n",
            "276/276 - 216s - loss: 0.0822 - val_loss: 0.1833 - lr: 0.0100 - 216s/epoch - 784ms/step\n",
            "Epoch 14/20\n",
            "276/276 - 216s - loss: 0.0781 - val_loss: 0.1832 - lr: 0.0100 - 216s/epoch - 784ms/step\n",
            "Epoch 15/20\n",
            "276/276 - 216s - loss: 0.0750 - val_loss: 0.1858 - lr: 0.0100 - 216s/epoch - 784ms/step\n",
            "Epoch 16/20\n",
            "276/276 - 217s - loss: 0.0722 - val_loss: 0.1846 - lr: 0.0100 - 217s/epoch - 785ms/step\n",
            "Epoch 17/20\n",
            "276/276 - 216s - loss: 0.0529 - val_loss: 0.1691 - lr: 0.0050 - 216s/epoch - 783ms/step\n",
            "Epoch 18/20\n",
            "276/276 - 216s - loss: 0.0434 - val_loss: 0.1690 - lr: 0.0050 - 216s/epoch - 783ms/step\n",
            "Epoch 19/20\n",
            "276/276 - 217s - loss: 0.0403 - val_loss: 0.1705 - lr: 0.0050 - 217s/epoch - 785ms/step\n",
            "Epoch 20/20\n",
            "276/276 - 217s - loss: 0.0384 - val_loss: 0.1715 - lr: 0.0050 - 217s/epoch - 784ms/step\n"
          ]
        }
      ]
    },
    {
      "cell_type": "markdown",
      "source": [
        "- Blue represents Validation\n",
        "- Orange represents Train"
      ],
      "metadata": {
        "id": "wZ_oCDWkWnnS"
      }
    },
    {
      "cell_type": "markdown",
      "source": [
        "![Screenshot 2022-08-29 210559 -mod4 loss.png](data:image/png;base64,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)"
      ],
      "metadata": {
        "id": "GA-4GwQcQsZs"
      }
    },
    {
      "cell_type": "code",
      "source": [
        "import random\n",
        "# Predict on 1000 random sentences on test data and calculate the average BLEU score of these sentences.\n",
        "rand_sentences = random.sample(validation['ita_in'].tolist(), 1000)\n",
        "translated_senetences = list(map(lambda x: predict_w_att(x, model_4)[0], rand_sentences))\n",
        "bleu_inputs = list(zip(rand_sentences, translated_senetences))\n",
        "bleu_scores = list(map(lambda x: calculate_bleu(x), bleu_inputs))\n",
        "average_bleu_score = np.mean(bleu_scores)\n",
        "\n",
        "print(\"Average Bleu Scores:\", average_bleu_score)"
      ],
      "metadata": {
        "id": "CA140veG8mCt",
        "colab": {
          "base_uri": "https://localhost:8080/"
        },
        "outputId": "49e67e31-6752-405a-a05b-1280f637385c"
      },
      "execution_count": null,
      "outputs": [
        {
          "output_type": "stream",
          "name": "stdout",
          "text": [
            "Average Bleu Scores: 0.6724567252770882\n"
          ]
        }
      ]
    },
    {
      "cell_type": "markdown",
      "source": [
        "**Plotting attention matrix for a couple of random records**"
      ],
      "metadata": {
        "id": "FItrOWj25UgX"
      }
    },
    {
      "cell_type": "code",
      "source": [
        "print('Input:',rand_sentences[26])\n",
        "print('Translation:',predict_w_att(rand_sentences[26], model_4)[0])\n",
        "plot_attention(rand_sentences[26], predict_w_att(rand_sentences[26], model_4)[0], predict_w_att(rand_sentences[26], model_4)[1])"
      ],
      "metadata": {
        "id": "27wuSITf8mCt",
        "colab": {
          "base_uri": "https://localhost:8080/",
          "height": 764
        },
        "outputId": "ee7848f3-bbe5-4754-fd38-06c5fe1240fa"
      },
      "execution_count": null,
      "outputs": [
        {
          "output_type": "stream",
          "name": "stdout",
          "text": [
            "Input: <start> casa mia e su una collina <end>\n",
            "Translation: my house is on a hill <end>\n"
          ]
        },
        {
          "output_type": "display_data",
          "data": {
            "text/plain": [
              "<Figure size 1080x720 with 2 Axes>"
            ],
            "image/png": "[encoded data removed]"
          },
          "metadata": {
            "needs_background": "light"
          }
        }
      ]
    },
    {
      "cell_type": "code",
      "source": [
        "print('Input:',rand_sentences[256])\n",
        "print('Translation:',predict_w_att(rand_sentences[256], model_4)[0])\n",
        "plot_attention(rand_sentences[256], predict_w_att(rand_sentences[256], model_4)[0], predict_w_att(rand_sentences[256], model_4)[1])"
      ],
      "metadata": {
        "colab": {
          "base_uri": "https://localhost:8080/",
          "height": 764
        },
        "id": "iAVacVUGR1oM",
        "outputId": "481fcd37-c854-4ec6-8148-a33b2f58de5d"
      },
      "execution_count": null,
      "outputs": [
        {
          "output_type": "stream",
          "name": "stdout",
          "text": [
            "Input: <start> non sa leggere <end>\n",
            "Translation: she can not read <end>\n"
          ]
        },
        {
          "output_type": "display_data",
          "data": {
            "text/plain": [
              "<Figure size 1080x720 with 2 Axes>"
            ],
            "image/png": "[encoded data removed]"
          },
          "metadata": {
            "needs_background": "light"
          }
        }
      ]
    },
    {
      "cell_type": "markdown",
      "source": [
        "**Observations**"
      ],
      "metadata": {
        "id": "COvoy6nT6dNf"
      }
    },
    {
      "cell_type": "markdown",
      "source": [
        "1. The attention matrix obtained for all three scoring functions is different.\n",
        "2. The attention matrix obtained from 'dot' scoring function indicates that, during prediction of a word in the output it focuses on a few words in the input sentence. \n",
        "3. The attention matrix obtained from 'general' scoring function indicates that, during prediction of a word in the output it focuses only on the last word in the input sentence. \n",
        "4. The attention matrix obtained from 'concat' scoring function indicates that, during prediction of a word in the output it focuses equally on all the words  in the input sentence.\n",
        "5. The highest average bleu score is obtained using 'dot' scoring function followed by 'general' and then 'concat'. Although the difference between the 3 isn't very significant.\n",
        "6. Increasing the number of lstm units can lead to decrease in loss faster."
      ],
      "metadata": {
        "id": "8SqK-cIY6h-R"
      }
    }
  ],
  "metadata": {
    "colab": {
      "collapsed_sections": [],
      "name": "Machine Translation (Italian to English).ipynb",
      "provenance": []
    },
    "gpuClass": "standard",
    "kernelspec": {
      "display_name": "Python 3",
      "language": "python",
      "name": "python3"
    },
    "language_info": {
      "codemirror_mode": {
        "name": "ipython",
        "version": 3
      },
      "file_extension": ".py",
      "mimetype": "text/x-python",
      "name": "python",
      "nbconvert_exporter": "python",
      "pygments_lexer": "ipython3",
      "version": "3.7.4"
    },
    "accelerator": "GPU"
  },
  "nbformat": 4,
  "nbformat_minor": 0
}